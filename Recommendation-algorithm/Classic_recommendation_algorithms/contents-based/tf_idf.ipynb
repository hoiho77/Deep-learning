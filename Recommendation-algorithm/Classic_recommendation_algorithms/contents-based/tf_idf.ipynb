{
 "cells": [
  {
   "cell_type": "code",
   "execution_count": 2,
   "metadata": {
    "collapsed": true
   },
   "outputs": [],
   "source": [
    "import os\n",
    "import pandas as pd\n",
    "import numpy as np\n",
    "from tqdm import tqdm\n",
    "\n",
    "from sklearn.model_selection import train_test_split\n",
    "from sklearn.metrics import mean_squared_error"
   ]
  },
  {
   "cell_type": "code",
   "execution_count": 10,
   "outputs": [],
   "source": [
    "path = 'C:/Users/kt NexR/PycharmProjects/Recommendation-algorithms/Classic_recommendation_algorithms/contents-based/data'\n",
    "rating_df = pd.read_csv(path+'/ratings.csv', encoding='utf-8')\n",
    "movies_df = pd.read_csv(path+'/movies.csv', index_col='movieId', encoding='utf-8')\n",
    "tags_df = pd.read_csv(path+'/tags.csv', encoding='utf-8')"
   ],
   "metadata": {
    "collapsed": false,
    "pycharm": {
     "name": "#%%\n"
    }
   }
  },
  {
   "cell_type": "code",
   "execution_count": 11,
   "outputs": [
    {
     "data": {
      "text/plain": "                                      title  \\\nmovieId                                       \n1                          Toy Story (1995)   \n2                            Jumanji (1995)   \n3                   Grumpier Old Men (1995)   \n4                  Waiting to Exhale (1995)   \n5        Father of the Bride Part II (1995)   \n\n                                              genres  \nmovieId                                               \n1        Adventure|Animation|Children|Comedy|Fantasy  \n2                         Adventure|Children|Fantasy  \n3                                     Comedy|Romance  \n4                               Comedy|Drama|Romance  \n5                                             Comedy  ",
      "text/html": "<div>\n<style scoped>\n    .dataframe tbody tr th:only-of-type {\n        vertical-align: middle;\n    }\n\n    .dataframe tbody tr th {\n        vertical-align: top;\n    }\n\n    .dataframe thead th {\n        text-align: right;\n    }\n</style>\n<table border=\"1\" class=\"dataframe\">\n  <thead>\n    <tr style=\"text-align: right;\">\n      <th></th>\n      <th>title</th>\n      <th>genres</th>\n    </tr>\n    <tr>\n      <th>movieId</th>\n      <th></th>\n      <th></th>\n    </tr>\n  </thead>\n  <tbody>\n    <tr>\n      <th>1</th>\n      <td>Toy Story (1995)</td>\n      <td>Adventure|Animation|Children|Comedy|Fantasy</td>\n    </tr>\n    <tr>\n      <th>2</th>\n      <td>Jumanji (1995)</td>\n      <td>Adventure|Children|Fantasy</td>\n    </tr>\n    <tr>\n      <th>3</th>\n      <td>Grumpier Old Men (1995)</td>\n      <td>Comedy|Romance</td>\n    </tr>\n    <tr>\n      <th>4</th>\n      <td>Waiting to Exhale (1995)</td>\n      <td>Comedy|Drama|Romance</td>\n    </tr>\n    <tr>\n      <th>5</th>\n      <td>Father of the Bride Part II (1995)</td>\n      <td>Comedy</td>\n    </tr>\n  </tbody>\n</table>\n</div>"
     },
     "execution_count": 11,
     "metadata": {},
     "output_type": "execute_result"
    }
   ],
   "source": [
    "movies_df.head()"
   ],
   "metadata": {
    "collapsed": false,
    "pycharm": {
     "name": "#%%\n"
    }
   }
  },
  {
   "cell_type": "code",
   "execution_count": 13,
   "outputs": [
    {
     "data": {
      "text/plain": "   userId  movieId  rating  timestamp\n0       1        1     4.0  964982703\n1       1        3     4.0  964981247\n2       1        6     4.0  964982224\n3       1       47     5.0  964983815\n4       1       50     5.0  964982931",
      "text/html": "<div>\n<style scoped>\n    .dataframe tbody tr th:only-of-type {\n        vertical-align: middle;\n    }\n\n    .dataframe tbody tr th {\n        vertical-align: top;\n    }\n\n    .dataframe thead th {\n        text-align: right;\n    }\n</style>\n<table border=\"1\" class=\"dataframe\">\n  <thead>\n    <tr style=\"text-align: right;\">\n      <th></th>\n      <th>userId</th>\n      <th>movieId</th>\n      <th>rating</th>\n      <th>timestamp</th>\n    </tr>\n  </thead>\n  <tbody>\n    <tr>\n      <th>0</th>\n      <td>1</td>\n      <td>1</td>\n      <td>4.0</td>\n      <td>964982703</td>\n    </tr>\n    <tr>\n      <th>1</th>\n      <td>1</td>\n      <td>3</td>\n      <td>4.0</td>\n      <td>964981247</td>\n    </tr>\n    <tr>\n      <th>2</th>\n      <td>1</td>\n      <td>6</td>\n      <td>4.0</td>\n      <td>964982224</td>\n    </tr>\n    <tr>\n      <th>3</th>\n      <td>1</td>\n      <td>47</td>\n      <td>5.0</td>\n      <td>964983815</td>\n    </tr>\n    <tr>\n      <th>4</th>\n      <td>1</td>\n      <td>50</td>\n      <td>5.0</td>\n      <td>964982931</td>\n    </tr>\n  </tbody>\n</table>\n</div>"
     },
     "execution_count": 13,
     "metadata": {},
     "output_type": "execute_result"
    }
   ],
   "source": [
    "rating_df.head()"
   ],
   "metadata": {
    "collapsed": false,
    "pycharm": {
     "name": "#%%\n"
    }
   }
  },
  {
   "cell_type": "code",
   "execution_count": 12,
   "outputs": [
    {
     "data": {
      "text/plain": "   userId  movieId              tag   timestamp\n0       2    60756            funny  1445714994\n1       2    60756  Highly quotable  1445714996\n2       2    60756     will ferrell  1445714992\n3       2    89774     Boxing story  1445715207\n4       2    89774              MMA  1445715200",
      "text/html": "<div>\n<style scoped>\n    .dataframe tbody tr th:only-of-type {\n        vertical-align: middle;\n    }\n\n    .dataframe tbody tr th {\n        vertical-align: top;\n    }\n\n    .dataframe thead th {\n        text-align: right;\n    }\n</style>\n<table border=\"1\" class=\"dataframe\">\n  <thead>\n    <tr style=\"text-align: right;\">\n      <th></th>\n      <th>userId</th>\n      <th>movieId</th>\n      <th>tag</th>\n      <th>timestamp</th>\n    </tr>\n  </thead>\n  <tbody>\n    <tr>\n      <th>0</th>\n      <td>2</td>\n      <td>60756</td>\n      <td>funny</td>\n      <td>1445714994</td>\n    </tr>\n    <tr>\n      <th>1</th>\n      <td>2</td>\n      <td>60756</td>\n      <td>Highly quotable</td>\n      <td>1445714996</td>\n    </tr>\n    <tr>\n      <th>2</th>\n      <td>2</td>\n      <td>60756</td>\n      <td>will ferrell</td>\n      <td>1445714992</td>\n    </tr>\n    <tr>\n      <th>3</th>\n      <td>2</td>\n      <td>89774</td>\n      <td>Boxing story</td>\n      <td>1445715207</td>\n    </tr>\n    <tr>\n      <th>4</th>\n      <td>2</td>\n      <td>89774</td>\n      <td>MMA</td>\n      <td>1445715200</td>\n    </tr>\n  </tbody>\n</table>\n</div>"
     },
     "execution_count": 12,
     "metadata": {},
     "output_type": "execute_result"
    }
   ],
   "source": [
    "tags_df.head()"
   ],
   "metadata": {
    "collapsed": false,
    "pycharm": {
     "name": "#%%\n"
    }
   }
  },
  {
   "cell_type": "code",
   "execution_count": 17,
   "outputs": [
    {
     "data": {
      "text/plain": "['Western',\n 'Film-Noir',\n 'Children',\n 'Thriller',\n 'Comedy',\n 'Horror',\n 'Adventure',\n 'Action',\n 'Drama',\n '(no genres listed)',\n 'Animation',\n 'Mystery',\n 'Documentary',\n 'Romance',\n 'IMAX',\n 'Fantasy',\n 'Sci-Fi',\n 'Musical',\n 'War',\n 'Crime']"
     },
     "execution_count": 17,
     "metadata": {},
     "output_type": "execute_result"
    }
   ],
   "source": [
    "total_count = len(movies_df.index)\n",
    "total_genres = list(set([genre for sublist in list(map(lambda x: x.split('|'), movies_df['genres'])) for genre in sublist]))\n",
    "total_genres"
   ],
   "metadata": {
    "collapsed": false,
    "pycharm": {
     "name": "#%%\n"
    }
   }
  },
  {
   "cell_type": "code",
   "execution_count": 18,
   "outputs": [
    {
     "name": "stdout",
     "output_type": "stream",
     "text": [
      "전체 영화 수: 9742\n",
      "장르: ['Western', 'Film-Noir', 'Children', 'Thriller', 'Comedy', 'Horror', 'Adventure', 'Action', 'Drama', '(no genres listed)', 'Animation', 'Mystery', 'Documentary', 'Romance', 'IMAX', 'Fantasy', 'Sci-Fi', 'Musical', 'War', 'Crime']\n"
     ]
    }
   ],
   "source": [
    "print(f\"전체 영화 수: {total_count}\")\n",
    "print(f\"장르: {total_genres}\")"
   ],
   "metadata": {
    "collapsed": false,
    "pycharm": {
     "name": "#%%\n"
    }
   }
  },
  {
   "cell_type": "code",
   "execution_count": 19,
   "outputs": [],
   "source": [
    "genre_count = dict.fromkeys(total_genres)\n",
    "\n",
    "for each_genre_list in movies_df['genres']:\n",
    "    for genre in each_genre_list.split('|'):\n",
    "        if genre_count[genre] == None:\n",
    "            genre_count[genre] = 1\n",
    "        else :\n",
    "            genre_count[genre] = genre_count[genre] +1"
   ],
   "metadata": {
    "collapsed": false,
    "pycharm": {
     "name": "#%%\n"
    }
   }
  },
  {
   "cell_type": "code",
   "execution_count": 20,
   "outputs": [
    {
     "data": {
      "text/plain": "{'Western': 167,\n 'Film-Noir': 87,\n 'Children': 664,\n 'Thriller': 1894,\n 'Comedy': 3756,\n 'Horror': 978,\n 'Adventure': 1263,\n 'Action': 1828,\n 'Drama': 4361,\n '(no genres listed)': 34,\n 'Animation': 611,\n 'Mystery': 573,\n 'Documentary': 440,\n 'Romance': 1596,\n 'IMAX': 158,\n 'Fantasy': 779,\n 'Sci-Fi': 980,\n 'Musical': 334,\n 'War': 382,\n 'Crime': 1199}"
     },
     "execution_count": 20,
     "metadata": {},
     "output_type": "execute_result"
    }
   ],
   "source": [
    "genre_count"
   ],
   "metadata": {
    "collapsed": false,
    "pycharm": {
     "name": "#%%\n"
    }
   }
  },
  {
   "cell_type": "code",
   "execution_count": 21,
   "outputs": [
    {
     "data": {
      "text/plain": "{'Western': 1.7659316540881678,\n 'Film-Noir': 2.0491288726171324,\n 'Children': 1.1664800458677336,\n 'Thriller': 0.7112681505684965,\n 'Comedy': 0.4139225416416778,\n 'Horror': 0.9983092704481497,\n 'Adventure': 0.8872447746804204,\n 'Action': 0.7266719338379385,\n 'Drama': 0.3490620385623247,\n '(no genres listed)': 2.457169208193496,\n 'Animation': 1.2026069149931968,\n 'Mystery': 1.2304935032683613,\n 'Documentary': 1.3451954487495636,\n 'Romance': 0.7856152382210405,\n 'IMAX': 1.7899910382813284,\n 'Fantasy': 1.0971106675631865,\n 'Sci-Fi': 0.9974220495432563,\n 'Musical': 1.4649016584241867,\n 'War': 1.4065847623240424,\n 'Crime': 0.9098289421369025}"
     },
     "execution_count": 21,
     "metadata": {},
     "output_type": "execute_result"
    }
   ],
   "source": [
    "for each_genre in genre_count:\n",
    "    genre_count[each_genre] = np.log10(total_count/genre_count[each_genre]) #idf\n",
    "genre_count #idf??"
   ],
   "metadata": {
    "collapsed": false,
    "pycharm": {
     "name": "#%%\n"
    }
   }
  },
  {
   "cell_type": "code",
   "execution_count": 22,
   "outputs": [
    {
     "data": {
      "text/plain": "        (no genres listed) Action Adventure Animation Children Comedy Crime  \\\nmovieId                                                                       \n1                      NaN    NaN       NaN       NaN      NaN    NaN   NaN   \n2                      NaN    NaN       NaN       NaN      NaN    NaN   NaN   \n3                      NaN    NaN       NaN       NaN      NaN    NaN   NaN   \n4                      NaN    NaN       NaN       NaN      NaN    NaN   NaN   \n5                      NaN    NaN       NaN       NaN      NaN    NaN   NaN   \n\n        Documentary Drama Fantasy Film-Noir Horror IMAX Musical Mystery  \\\nmovieId                                                                   \n1               NaN   NaN     NaN       NaN    NaN  NaN     NaN     NaN   \n2               NaN   NaN     NaN       NaN    NaN  NaN     NaN     NaN   \n3               NaN   NaN     NaN       NaN    NaN  NaN     NaN     NaN   \n4               NaN   NaN     NaN       NaN    NaN  NaN     NaN     NaN   \n5               NaN   NaN     NaN       NaN    NaN  NaN     NaN     NaN   \n\n        Romance Sci-Fi Thriller  War Western  \nmovieId                                       \n1           NaN    NaN      NaN  NaN     NaN  \n2           NaN    NaN      NaN  NaN     NaN  \n3           NaN    NaN      NaN  NaN     NaN  \n4           NaN    NaN      NaN  NaN     NaN  \n5           NaN    NaN      NaN  NaN     NaN  ",
      "text/html": "<div>\n<style scoped>\n    .dataframe tbody tr th:only-of-type {\n        vertical-align: middle;\n    }\n\n    .dataframe tbody tr th {\n        vertical-align: top;\n    }\n\n    .dataframe thead th {\n        text-align: right;\n    }\n</style>\n<table border=\"1\" class=\"dataframe\">\n  <thead>\n    <tr style=\"text-align: right;\">\n      <th></th>\n      <th>(no genres listed)</th>\n      <th>Action</th>\n      <th>Adventure</th>\n      <th>Animation</th>\n      <th>Children</th>\n      <th>Comedy</th>\n      <th>Crime</th>\n      <th>Documentary</th>\n      <th>Drama</th>\n      <th>Fantasy</th>\n      <th>Film-Noir</th>\n      <th>Horror</th>\n      <th>IMAX</th>\n      <th>Musical</th>\n      <th>Mystery</th>\n      <th>Romance</th>\n      <th>Sci-Fi</th>\n      <th>Thriller</th>\n      <th>War</th>\n      <th>Western</th>\n    </tr>\n    <tr>\n      <th>movieId</th>\n      <th></th>\n      <th></th>\n      <th></th>\n      <th></th>\n      <th></th>\n      <th></th>\n      <th></th>\n      <th></th>\n      <th></th>\n      <th></th>\n      <th></th>\n      <th></th>\n      <th></th>\n      <th></th>\n      <th></th>\n      <th></th>\n      <th></th>\n      <th></th>\n      <th></th>\n      <th></th>\n    </tr>\n  </thead>\n  <tbody>\n    <tr>\n      <th>1</th>\n      <td>NaN</td>\n      <td>NaN</td>\n      <td>NaN</td>\n      <td>NaN</td>\n      <td>NaN</td>\n      <td>NaN</td>\n      <td>NaN</td>\n      <td>NaN</td>\n      <td>NaN</td>\n      <td>NaN</td>\n      <td>NaN</td>\n      <td>NaN</td>\n      <td>NaN</td>\n      <td>NaN</td>\n      <td>NaN</td>\n      <td>NaN</td>\n      <td>NaN</td>\n      <td>NaN</td>\n      <td>NaN</td>\n      <td>NaN</td>\n    </tr>\n    <tr>\n      <th>2</th>\n      <td>NaN</td>\n      <td>NaN</td>\n      <td>NaN</td>\n      <td>NaN</td>\n      <td>NaN</td>\n      <td>NaN</td>\n      <td>NaN</td>\n      <td>NaN</td>\n      <td>NaN</td>\n      <td>NaN</td>\n      <td>NaN</td>\n      <td>NaN</td>\n      <td>NaN</td>\n      <td>NaN</td>\n      <td>NaN</td>\n      <td>NaN</td>\n      <td>NaN</td>\n      <td>NaN</td>\n      <td>NaN</td>\n      <td>NaN</td>\n    </tr>\n    <tr>\n      <th>3</th>\n      <td>NaN</td>\n      <td>NaN</td>\n      <td>NaN</td>\n      <td>NaN</td>\n      <td>NaN</td>\n      <td>NaN</td>\n      <td>NaN</td>\n      <td>NaN</td>\n      <td>NaN</td>\n      <td>NaN</td>\n      <td>NaN</td>\n      <td>NaN</td>\n      <td>NaN</td>\n      <td>NaN</td>\n      <td>NaN</td>\n      <td>NaN</td>\n      <td>NaN</td>\n      <td>NaN</td>\n      <td>NaN</td>\n      <td>NaN</td>\n    </tr>\n    <tr>\n      <th>4</th>\n      <td>NaN</td>\n      <td>NaN</td>\n      <td>NaN</td>\n      <td>NaN</td>\n      <td>NaN</td>\n      <td>NaN</td>\n      <td>NaN</td>\n      <td>NaN</td>\n      <td>NaN</td>\n      <td>NaN</td>\n      <td>NaN</td>\n      <td>NaN</td>\n      <td>NaN</td>\n      <td>NaN</td>\n      <td>NaN</td>\n      <td>NaN</td>\n      <td>NaN</td>\n      <td>NaN</td>\n      <td>NaN</td>\n      <td>NaN</td>\n    </tr>\n    <tr>\n      <th>5</th>\n      <td>NaN</td>\n      <td>NaN</td>\n      <td>NaN</td>\n      <td>NaN</td>\n      <td>NaN</td>\n      <td>NaN</td>\n      <td>NaN</td>\n      <td>NaN</td>\n      <td>NaN</td>\n      <td>NaN</td>\n      <td>NaN</td>\n      <td>NaN</td>\n      <td>NaN</td>\n      <td>NaN</td>\n      <td>NaN</td>\n      <td>NaN</td>\n      <td>NaN</td>\n      <td>NaN</td>\n      <td>NaN</td>\n      <td>NaN</td>\n    </tr>\n  </tbody>\n</table>\n</div>"
     },
     "execution_count": 22,
     "metadata": {},
     "output_type": "execute_result"
    }
   ],
   "source": [
    "genre_representation = pd.DataFrame(columns=sorted(total_genres), index=movies_df.index)\n",
    "genre_representation.head()"
   ],
   "metadata": {
    "collapsed": false,
    "pycharm": {
     "name": "#%%\n"
    }
   }
  },
  {
   "cell_type": "code",
   "execution_count": 30,
   "outputs": [
    {
     "name": "stderr",
     "output_type": "stream",
     "text": [
      "\n",
      "0it [00:00, ?it/s]\u001B[A\n",
      "7it [00:00, 66.03it/s]\u001B[A\n",
      "17it [00:00, 82.27it/s]\u001B[A\n",
      "26it [00:00, 75.51it/s]\u001B[A\n",
      "34it [00:00, 76.29it/s]\u001B[A\n",
      "43it [00:00, 79.60it/s]\u001B[A\n",
      "52it [00:00, 73.86it/s]\u001B[A\n",
      "60it [00:00, 71.08it/s]\u001B[A\n",
      "69it [00:00, 74.75it/s]\u001B[A\n",
      "77it [00:01, 75.07it/s]\u001B[A\n",
      "87it [00:01, 80.08it/s]\u001B[A\n",
      "96it [00:01, 80.94it/s]\u001B[A\n",
      "105it [00:01, 77.84it/s]\u001B[A\n",
      "114it [00:01, 81.07it/s]\u001B[A\n",
      "124it [00:01, 84.67it/s]\u001B[A\n",
      "133it [00:01, 82.89it/s]\u001B[A\n",
      "142it [00:01, 73.62it/s]\u001B[A\n",
      "150it [00:01, 72.78it/s]\u001B[A\n",
      "158it [00:02, 70.81it/s]\u001B[A\n",
      "166it [00:02, 72.24it/s]\u001B[A\n",
      "174it [00:02, 71.88it/s]\u001B[A\n",
      "182it [00:02, 71.41it/s]\u001B[A\n",
      "192it [00:02, 76.86it/s]\u001B[A\n",
      "201it [00:02, 79.41it/s]\u001B[A\n",
      "209it [00:02, 71.82it/s]\u001B[A\n",
      "217it [00:02, 72.79it/s]\u001B[A\n",
      "225it [00:02, 70.80it/s]\u001B[A\n",
      "233it [00:03, 68.04it/s]\u001B[A\n",
      "240it [00:03, 67.45it/s]\u001B[A\n",
      "250it [00:03, 74.66it/s]\u001B[A\n",
      "259it [00:03, 77.18it/s]\u001B[A\n",
      "269it [00:03, 81.86it/s]\u001B[A\n",
      "278it [00:03, 82.55it/s]\u001B[A\n",
      "287it [00:03, 76.55it/s]\u001B[A\n",
      "295it [00:03, 71.01it/s]\u001B[A\n",
      "303it [00:04, 71.92it/s]\u001B[A\n",
      "311it [00:04, 67.47it/s]\u001B[A\n",
      "319it [00:04, 69.38it/s]\u001B[A\n",
      "327it [00:04, 71.34it/s]\u001B[A\n",
      "335it [00:04, 72.16it/s]\u001B[A\n",
      "343it [00:04, 66.54it/s]\u001B[A\n",
      "361it [00:04, 95.85it/s]\u001B[A\n",
      "380it [00:04, 120.33it/s]\u001B[A\n",
      "401it [00:04, 143.91it/s]\u001B[A\n",
      "419it [00:05, 152.33it/s]\u001B[A\n",
      "436it [00:05, 156.46it/s]\u001B[A\n",
      "452it [00:05, 141.58it/s]\u001B[A\n",
      "468it [00:05, 146.44it/s]\u001B[A\n",
      "484it [00:05, 146.87it/s]\u001B[A\n",
      "504it [00:05, 161.55it/s]\u001B[A\n",
      "524it [00:05, 170.89it/s]\u001B[A\n",
      "543it [00:05, 176.20it/s]\u001B[A\n",
      "562it [00:05, 178.42it/s]\u001B[A\n",
      "580it [00:06, 178.52it/s]\u001B[A\n",
      "600it [00:06, 181.92it/s]\u001B[A\n",
      "619it [00:06, 183.17it/s]\u001B[A\n",
      "641it [00:06, 192.76it/s]\u001B[A\n",
      "664it [00:06, 202.08it/s]\u001B[A\n",
      "685it [00:06, 186.41it/s]\u001B[A\n",
      "704it [00:06, 175.51it/s]\u001B[A\n",
      "725it [00:06, 183.22it/s]\u001B[A\n",
      "744it [00:06, 183.08it/s]\u001B[A\n",
      "763it [00:06, 179.60it/s]\u001B[A\n",
      "782it [00:07, 179.32it/s]\u001B[A\n",
      "801it [00:07, 172.49it/s]\u001B[A\n",
      "824it [00:07, 185.06it/s]\u001B[A\n",
      "843it [00:07, 180.38it/s]\u001B[A\n",
      "868it [00:07, 197.36it/s]\u001B[A\n",
      "888it [00:07, 192.05it/s]\u001B[A\n",
      "912it [00:07, 202.59it/s]\u001B[A\n",
      "933it [00:07, 194.83it/s]\u001B[A\n",
      "953it [00:08, 173.37it/s]\u001B[A\n",
      "971it [00:08, 157.26it/s]\u001B[A\n",
      "990it [00:08, 165.21it/s]\u001B[A\n",
      "1008it [00:08, 155.14it/s]\u001B[A\n",
      "1024it [00:08, 154.18it/s]\u001B[A\n",
      "1042it [00:08, 159.23it/s]\u001B[A\n",
      "1065it [00:08, 177.20it/s]\u001B[A\n",
      "1085it [00:08, 183.43it/s]\u001B[A\n",
      "1108it [00:08, 196.58it/s]\u001B[A\n",
      "1130it [00:09, 202.84it/s]\u001B[A\n",
      "1152it [00:09, 206.68it/s]\u001B[A\n",
      "1173it [00:09, 193.63it/s]\u001B[A\n",
      "1193it [00:09, 162.03it/s]\u001B[A\n",
      "1211it [00:09, 155.88it/s]\u001B[A\n",
      "1231it [00:09, 166.24it/s]\u001B[A\n",
      "1252it [00:09, 176.53it/s]\u001B[A\n",
      "1276it [00:09, 191.98it/s]\u001B[A\n",
      "1296it [00:09, 191.83it/s]\u001B[A\n",
      "1320it [00:10, 204.20it/s]\u001B[A\n",
      "1341it [00:10, 200.52it/s]\u001B[A\n",
      "1363it [00:10, 204.65it/s]\u001B[A\n",
      "1384it [00:10, 183.94it/s]\u001B[A\n",
      "1403it [00:10, 176.07it/s]\u001B[A\n",
      "1424it [00:10, 183.78it/s]\u001B[A\n",
      "1445it [00:10, 190.28it/s]\u001B[A\n",
      "1465it [00:10, 191.63it/s]\u001B[A\n",
      "1485it [00:10, 182.03it/s]\u001B[A\n",
      "1504it [00:11, 161.66it/s]\u001B[A\n",
      "1521it [00:11, 150.47it/s]\u001B[A\n",
      "1539it [00:11, 157.14it/s]\u001B[A\n",
      "1560it [00:11, 170.48it/s]\u001B[A\n",
      "1578it [00:11, 169.25it/s]\u001B[A\n",
      "1598it [00:11, 176.51it/s]\u001B[A\n",
      "1616it [00:11, 165.50it/s]\u001B[A\n",
      "1638it [00:11, 179.45it/s]\u001B[A\n",
      "1657it [00:11, 180.79it/s]\u001B[A\n",
      "1681it [00:12, 195.20it/s]\u001B[A\n",
      "1701it [00:12, 193.73it/s]\u001B[A\n",
      "1726it [00:12, 208.91it/s]\u001B[A\n",
      "1748it [00:12, 203.30it/s]\u001B[A\n",
      "1769it [00:12, 195.98it/s]\u001B[A\n",
      "1789it [00:12, 176.69it/s]\u001B[A\n",
      "1808it [00:12, 162.19it/s]\u001B[A\n",
      "1827it [00:12, 168.04it/s]\u001B[A\n",
      "1851it [00:13, 185.72it/s]\u001B[A\n",
      "1871it [00:13, 183.03it/s]\u001B[A\n",
      "1890it [00:13, 180.87it/s]\u001B[A\n",
      "1912it [00:13, 189.58it/s]\u001B[A\n",
      "1932it [00:13, 184.88it/s]\u001B[A\n",
      "1954it [00:13, 194.36it/s]\u001B[A\n",
      "1974it [00:13, 193.40it/s]\u001B[A\n",
      "1994it [00:13, 189.24it/s]\u001B[A\n",
      "2014it [00:13, 186.12it/s]\u001B[A\n",
      "2035it [00:13, 190.90it/s]\u001B[A\n",
      "2055it [00:14, 177.50it/s]\u001B[A\n",
      "2073it [00:14, 155.76it/s]\u001B[A\n",
      "2094it [00:14, 167.48it/s]\u001B[A\n",
      "2112it [00:14, 166.15it/s]\u001B[A\n",
      "2129it [00:14, 161.95it/s]\u001B[A\n",
      "2146it [00:14, 159.61it/s]\u001B[A\n",
      "2163it [00:14, 141.79it/s]\u001B[A\n",
      "2178it [00:14, 140.75it/s]\u001B[A\n",
      "2193it [00:15, 133.66it/s]\u001B[A\n",
      "2207it [00:15, 133.79it/s]\u001B[A\n",
      "2223it [00:15, 139.61it/s]\u001B[A\n",
      "2238it [00:15, 140.96it/s]\u001B[A\n",
      "2256it [00:15, 150.93it/s]\u001B[A\n",
      "2273it [00:15, 156.13it/s]\u001B[A\n",
      "2294it [00:15, 170.83it/s]\u001B[A\n",
      "2317it [00:15, 187.94it/s]\u001B[A\n",
      "2337it [00:15, 190.35it/s]\u001B[A\n",
      "2357it [00:16, 175.54it/s]\u001B[A\n",
      "2375it [00:16, 142.32it/s]\u001B[A\n",
      "2391it [00:16, 120.67it/s]\u001B[A\n",
      "2405it [00:16, 120.49it/s]\u001B[A\n",
      "2418it [00:16, 108.12it/s]\u001B[A\n",
      "2430it [00:16, 110.73it/s]\u001B[A\n",
      "2442it [00:16, 102.98it/s]\u001B[A\n",
      "2454it [00:17, 106.94it/s]\u001B[A\n",
      "2475it [00:17, 131.46it/s]\u001B[A\n",
      "2489it [00:17, 118.28it/s]\u001B[A\n",
      "2502it [00:17, 120.16it/s]\u001B[A\n",
      "2521it [00:17, 137.30it/s]\u001B[A\n",
      "2538it [00:17, 144.90it/s]\u001B[A\n",
      "2558it [00:17, 158.88it/s]\u001B[A\n",
      "2575it [00:17, 157.55it/s]\u001B[A\n",
      "2599it [00:17, 179.89it/s]\u001B[A\n",
      "2618it [00:18, 176.06it/s]\u001B[A\n",
      "2638it [00:18, 180.71it/s]\u001B[A\n",
      "2657it [00:18, 157.71it/s]\u001B[A\n",
      "2674it [00:18, 151.43it/s]\u001B[A\n",
      "2695it [00:18, 164.12it/s]\u001B[A\n",
      "2712it [00:18, 162.09it/s]\u001B[A\n",
      "2731it [00:18, 167.54it/s]\u001B[A\n",
      "2749it [00:18, 170.94it/s]\u001B[A\n",
      "2767it [00:19, 122.23it/s]\u001B[A\n",
      "2782it [00:19, 116.04it/s]\u001B[A\n",
      "2796it [00:19, 119.95it/s]\u001B[A\n",
      "2810it [00:19, 116.28it/s]\u001B[A\n",
      "2823it [00:19, 118.20it/s]\u001B[A\n",
      "2841it [00:19, 133.25it/s]\u001B[A\n",
      "2856it [00:19, 136.20it/s]\u001B[A\n",
      "2871it [00:19, 126.48it/s]\u001B[A\n",
      "2894it [00:20, 151.69it/s]\u001B[A\n",
      "2910it [00:20, 123.67it/s]\u001B[A\n",
      "2924it [00:20, 125.46it/s]\u001B[A\n",
      "2938it [00:20, 120.18it/s]\u001B[A\n",
      "2952it [00:20, 124.89it/s]\u001B[A\n",
      "2966it [00:20, 127.38it/s]\u001B[A\n",
      "2980it [00:20, 118.46it/s]\u001B[A\n",
      "3000it [00:20, 139.23it/s]\u001B[A\n",
      "3020it [00:21, 153.98it/s]\u001B[A\n",
      "3036it [00:21, 148.75it/s]\u001B[A\n",
      "3054it [00:21, 155.10it/s]\u001B[A\n",
      "3070it [00:21, 153.29it/s]\u001B[A\n",
      "3086it [00:21, 152.97it/s]\u001B[A\n",
      "3105it [00:21, 162.01it/s]\u001B[A\n",
      "3124it [00:21, 169.13it/s]\u001B[A\n",
      "3147it [00:21, 186.37it/s]\u001B[A\n",
      "3167it [00:21, 189.60it/s]\u001B[A\n",
      "3187it [00:22, 162.84it/s]\u001B[A\n",
      "3205it [00:22, 167.13it/s]\u001B[A\n",
      "3226it [00:22, 178.37it/s]\u001B[A\n",
      "3245it [00:22, 175.39it/s]\u001B[A\n",
      "3265it [00:22, 180.38it/s]\u001B[A\n",
      "3284it [00:22, 164.34it/s]\u001B[A\n",
      "3306it [00:22, 176.94it/s]\u001B[A\n",
      "3325it [00:22, 170.27it/s]\u001B[A\n",
      "3343it [00:22, 165.41it/s]\u001B[A\n",
      "3360it [00:23, 159.84it/s]\u001B[A\n",
      "3377it [00:23, 153.81it/s]\u001B[A\n",
      "3395it [00:23, 160.22it/s]\u001B[A\n",
      "3414it [00:23, 167.74it/s]\u001B[A\n",
      "3431it [00:23, 165.81it/s]\u001B[A\n",
      "3450it [00:23, 172.41it/s]\u001B[A\n",
      "3470it [00:23, 180.35it/s]\u001B[A\n",
      "3489it [00:23, 170.39it/s]\u001B[A\n",
      "3507it [00:23, 163.17it/s]\u001B[A\n",
      "3524it [00:24, 154.90it/s]\u001B[A\n",
      "3545it [00:24, 167.16it/s]\u001B[A\n",
      "3563it [00:24, 168.53it/s]\u001B[A\n",
      "3581it [00:24, 165.32it/s]\u001B[A\n",
      "3603it [00:24, 179.17it/s]\u001B[A\n",
      "3626it [00:24, 192.90it/s]\u001B[A\n",
      "3647it [00:24, 196.88it/s]\u001B[A\n",
      "3670it [00:24, 205.61it/s]\u001B[A\n",
      "3693it [00:24, 212.34it/s]\u001B[A\n",
      "3715it [00:24, 201.38it/s]\u001B[A\n",
      "3736it [00:25, 199.75it/s]\u001B[A\n",
      "3757it [00:25, 187.87it/s]\u001B[A\n",
      "3777it [00:25, 171.93it/s]\u001B[A\n",
      "3796it [00:25, 174.55it/s]\u001B[A\n",
      "3816it [00:25, 180.21it/s]\u001B[A\n",
      "3835it [00:25, 178.86it/s]\u001B[A\n",
      "3858it [00:25, 192.49it/s]\u001B[A\n",
      "3878it [00:25, 188.01it/s]\u001B[A\n",
      "3897it [00:26, 175.31it/s]\u001B[A\n",
      "3915it [00:26, 160.43it/s]\u001B[A\n",
      "3932it [00:26, 145.49it/s]\u001B[A\n",
      "3947it [00:26, 138.83it/s]\u001B[A\n",
      "3969it [00:26, 158.56it/s]\u001B[A\n",
      "3991it [00:26, 173.61it/s]\u001B[A\n",
      "4009it [00:26, 172.89it/s]\u001B[A\n",
      "4027it [00:26, 171.41it/s]\u001B[A\n",
      "4045it [00:26, 172.63it/s]\u001B[A\n",
      "4066it [00:27, 181.91it/s]\u001B[A\n",
      "4085it [00:27, 178.21it/s]\u001B[A\n",
      "4103it [00:27, 170.91it/s]\u001B[A\n",
      "4121it [00:27, 172.84it/s]\u001B[A\n",
      "4141it [00:27, 179.56it/s]\u001B[A\n",
      "4160it [00:27, 174.55it/s]\u001B[A\n",
      "4178it [00:27, 161.07it/s]\u001B[A\n",
      "4195it [00:27, 159.61it/s]\u001B[A\n",
      "4215it [00:27, 169.85it/s]\u001B[A\n",
      "4239it [00:28, 188.77it/s]\u001B[A\n",
      "4259it [00:28, 165.18it/s]\u001B[A\n",
      "4277it [00:28, 162.74it/s]\u001B[A\n",
      "4295it [00:28, 164.17it/s]\u001B[A\n",
      "4312it [00:28, 165.36it/s]\u001B[A\n",
      "4330it [00:28, 168.41it/s]\u001B[A\n",
      "4351it [00:28, 179.58it/s]\u001B[A\n",
      "4371it [00:28, 182.97it/s]\u001B[A\n",
      "4390it [00:28, 175.24it/s]\u001B[A\n",
      "4408it [00:29, 173.57it/s]\u001B[A\n",
      "4428it [00:29, 180.81it/s]\u001B[A\n",
      "4447it [00:29, 170.18it/s]\u001B[A\n",
      "4466it [00:29, 173.55it/s]\u001B[A\n",
      "4486it [00:29, 179.46it/s]\u001B[A\n",
      "4505it [00:29, 177.50it/s]\u001B[A\n",
      "4525it [00:29, 182.56it/s]\u001B[A\n",
      "4544it [00:29, 175.36it/s]\u001B[A\n",
      "4562it [00:29, 173.41it/s]\u001B[A\n",
      "4582it [00:30, 180.50it/s]\u001B[A\n",
      "4601it [00:30, 169.80it/s]\u001B[A\n",
      "4619it [00:30, 136.44it/s]\u001B[A\n",
      "4634it [00:30, 139.14it/s]\u001B[A\n",
      "4654it [00:30, 153.10it/s]\u001B[A\n",
      "4676it [00:30, 168.49it/s]\u001B[A\n",
      "4695it [00:30, 174.01it/s]\u001B[A\n",
      "4714it [00:30, 177.76it/s]\u001B[A\n",
      "4733it [00:30, 173.07it/s]\u001B[A\n",
      "4753it [00:31, 179.24it/s]\u001B[A\n",
      "4775it [00:31, 190.77it/s]\u001B[A\n",
      "4795it [00:31, 182.54it/s]\u001B[A\n",
      "4814it [00:31, 172.19it/s]\u001B[A\n",
      "4832it [00:31, 161.55it/s]\u001B[A\n",
      "4849it [00:31, 143.92it/s]\u001B[A\n",
      "4866it [00:31, 148.92it/s]\u001B[A\n",
      "4882it [00:31, 149.11it/s]\u001B[A\n",
      "4906it [00:32, 170.92it/s]\u001B[A\n",
      "4928it [00:32, 182.76it/s]\u001B[A\n",
      "4947it [00:32, 183.19it/s]\u001B[A\n",
      "4970it [00:32, 193.64it/s]\u001B[A\n",
      "4995it [00:32, 206.04it/s]\u001B[A\n",
      "5016it [00:32, 190.24it/s]\u001B[A\n",
      "5036it [00:32, 182.93it/s]\u001B[A\n",
      "5055it [00:32, 175.19it/s]\u001B[A\n",
      "5075it [00:32, 179.25it/s]\u001B[A\n",
      "5094it [00:33, 147.18it/s]\u001B[A\n",
      "5110it [00:33, 143.59it/s]\u001B[A\n",
      "5126it [00:33, 117.87it/s]\u001B[A\n",
      "5139it [00:33, 109.52it/s]\u001B[A\n",
      "5151it [00:33, 101.69it/s]\u001B[A\n",
      "5162it [00:33, 96.03it/s] \u001B[A\n",
      "5172it [00:33, 92.44it/s]\u001B[A\n",
      "5183it [00:34, 94.65it/s]\u001B[A\n",
      "5193it [00:34, 83.88it/s]\u001B[A\n",
      "5202it [00:34, 78.88it/s]\u001B[A\n",
      "5214it [00:34, 87.13it/s]\u001B[A\n",
      "5229it [00:34, 102.64it/s]\u001B[A\n",
      "5242it [00:34, 109.82it/s]\u001B[A\n",
      "5260it [00:34, 128.83it/s]\u001B[A\n",
      "5275it [00:34, 132.36it/s]\u001B[A\n",
      "5289it [00:35, 118.65it/s]\u001B[A\n",
      "5302it [00:35, 100.16it/s]\u001B[A\n",
      "5313it [00:35, 97.66it/s] \u001B[A\n",
      "5327it [00:35, 107.55it/s]\u001B[A\n",
      "5342it [00:35, 117.80it/s]\u001B[A\n",
      "5359it [00:35, 131.54it/s]\u001B[A\n",
      "5377it [00:35, 144.15it/s]\u001B[A\n",
      "5396it [00:35, 156.13it/s]\u001B[A\n",
      "5416it [00:35, 167.24it/s]\u001B[A\n",
      "5435it [00:36, 173.72it/s]\u001B[A\n",
      "5453it [00:36, 168.84it/s]\u001B[A\n",
      "5471it [00:36, 163.53it/s]\u001B[A\n",
      "5488it [00:36, 161.98it/s]\u001B[A\n",
      "5506it [00:36, 165.18it/s]\u001B[A\n",
      "5523it [00:36, 147.53it/s]\u001B[A\n",
      "5539it [00:36, 143.77it/s]\u001B[A\n",
      "5560it [00:36, 159.83it/s]\u001B[A\n",
      "5577it [00:36, 155.08it/s]\u001B[A\n",
      "5594it [00:37, 157.90it/s]\u001B[A\n",
      "5616it [00:37, 174.35it/s]\u001B[A\n",
      "5634it [00:37, 170.85it/s]\u001B[A\n",
      "5652it [00:37, 170.72it/s]\u001B[A\n",
      "5670it [00:37, 162.06it/s]\u001B[A\n",
      "5687it [00:37, 137.36it/s]\u001B[A\n",
      "5702it [00:37, 138.11it/s]\u001B[A\n",
      "5720it [00:37, 148.09it/s]\u001B[A\n",
      "5736it [00:38, 149.46it/s]\u001B[A\n",
      "5754it [00:38, 157.44it/s]\u001B[A\n",
      "5771it [00:38, 157.61it/s]\u001B[A\n",
      "5792it [00:38, 170.88it/s]\u001B[A\n",
      "5810it [00:38, 164.13it/s]\u001B[A\n",
      "5831it [00:38, 175.62it/s]\u001B[A\n",
      "5850it [00:38, 178.13it/s]\u001B[A\n",
      "5868it [00:38, 167.42it/s]\u001B[A\n",
      "5887it [00:38, 171.97it/s]\u001B[A\n",
      "5905it [00:38, 163.94it/s]\u001B[A\n",
      "5922it [00:39, 153.99it/s]\u001B[A\n",
      "5944it [00:39, 171.03it/s]\u001B[A\n",
      "5962it [00:39, 169.46it/s]\u001B[A\n",
      "5982it [00:39, 176.96it/s]\u001B[A\n",
      "6000it [00:39, 176.92it/s]\u001B[A\n",
      "6018it [00:39, 167.33it/s]\u001B[A\n",
      "6035it [00:39, 164.63it/s]\u001B[A\n",
      "6052it [00:39, 160.87it/s]\u001B[A\n",
      "6070it [00:39, 165.06it/s]\u001B[A\n",
      "6087it [00:40, 162.23it/s]\u001B[A\n",
      "6104it [00:40, 149.71it/s]\u001B[A\n",
      "6120it [00:40, 133.57it/s]\u001B[A\n",
      "6135it [00:40, 136.71it/s]\u001B[A\n",
      "6152it [00:40, 144.55it/s]\u001B[A\n",
      "6167it [00:40, 140.97it/s]\u001B[A\n",
      "6186it [00:40, 153.44it/s]\u001B[A\n",
      "6208it [00:40, 171.00it/s]\u001B[A\n",
      "6231it [00:41, 181.50it/s]\u001B[A\n",
      "6254it [00:41, 193.38it/s]\u001B[A\n",
      "6274it [00:41, 182.23it/s]\u001B[A\n",
      "6293it [00:41, 163.45it/s]\u001B[A\n",
      "6310it [00:41, 152.76it/s]\u001B[A\n",
      "6326it [00:41, 137.69it/s]\u001B[A\n",
      "6341it [00:41, 125.98it/s]\u001B[A\n",
      "6356it [00:41, 130.27it/s]\u001B[A\n",
      "6374it [00:42, 142.71it/s]\u001B[A\n",
      "6390it [00:42, 146.68it/s]\u001B[A\n",
      "6410it [00:42, 160.28it/s]\u001B[A\n",
      "6427it [00:42, 152.05it/s]\u001B[A\n",
      "6443it [00:42, 151.48it/s]\u001B[A\n",
      "6459it [00:42, 151.45it/s]\u001B[A\n",
      "6475it [00:42, 132.93it/s]\u001B[A\n",
      "6490it [00:42, 136.06it/s]\u001B[A\n",
      "6507it [00:42, 144.57it/s]\u001B[A\n",
      "6523it [00:43, 144.84it/s]\u001B[A\n",
      "6539it [00:43, 145.96it/s]\u001B[A\n",
      "6557it [00:43, 154.88it/s]\u001B[A\n",
      "6573it [00:43, 138.60it/s]\u001B[A\n",
      "6588it [00:43, 134.25it/s]\u001B[A\n",
      "6602it [00:43, 130.21it/s]\u001B[A\n",
      "6620it [00:43, 142.08it/s]\u001B[A\n",
      "6640it [00:43, 156.90it/s]\u001B[A\n",
      "6658it [00:43, 162.80it/s]\u001B[A\n",
      "6677it [00:44, 169.78it/s]\u001B[A\n",
      "6695it [00:44, 166.82it/s]\u001B[A\n",
      "6714it [00:44, 172.72it/s]\u001B[A\n",
      "6732it [00:44, 169.72it/s]\u001B[A\n",
      "6750it [00:44, 167.47it/s]\u001B[A\n",
      "6767it [00:44, 160.22it/s]\u001B[A\n",
      "6787it [00:44, 170.00it/s]\u001B[A\n",
      "6805it [00:44, 170.76it/s]\u001B[A\n",
      "6823it [00:44, 172.24it/s]\u001B[A\n",
      "6841it [00:45, 165.23it/s]\u001B[A\n",
      "6859it [00:45, 168.17it/s]\u001B[A\n",
      "6881it [00:45, 180.55it/s]\u001B[A\n",
      "6904it [00:45, 192.82it/s]\u001B[A\n",
      "6924it [00:45, 177.20it/s]\u001B[A\n",
      "6943it [00:45, 171.81it/s]\u001B[A\n",
      "6961it [00:45, 159.00it/s]\u001B[A\n",
      "6982it [00:45, 170.47it/s]\u001B[A\n",
      "7000it [00:45, 170.55it/s]\u001B[A\n",
      "7022it [00:46, 183.73it/s]\u001B[A\n",
      "7042it [00:46, 187.25it/s]\u001B[A\n",
      "7061it [00:46, 182.49it/s]\u001B[A\n",
      "7081it [00:46, 185.06it/s]\u001B[A\n",
      "7100it [00:46, 169.66it/s]\u001B[A\n",
      "7118it [00:46, 169.68it/s]\u001B[A\n",
      "7136it [00:46, 163.70it/s]\u001B[A\n",
      "7153it [00:46, 162.80it/s]\u001B[A\n",
      "7172it [00:46, 169.22it/s]\u001B[A\n",
      "7190it [00:47, 163.75it/s]\u001B[A\n",
      "7207it [00:47, 157.08it/s]\u001B[A\n",
      "7223it [00:47, 147.61it/s]\u001B[A\n",
      "7240it [00:47, 153.53it/s]\u001B[A\n",
      "7258it [00:47, 159.44it/s]\u001B[A\n",
      "7275it [00:47, 160.21it/s]\u001B[A\n",
      "7292it [00:47, 143.34it/s]\u001B[A\n",
      "7308it [00:47, 144.94it/s]\u001B[A\n",
      "7323it [00:47, 128.56it/s]\u001B[A\n",
      "7337it [00:48, 126.79it/s]\u001B[A\n",
      "7353it [00:48, 134.15it/s]\u001B[A\n",
      "7372it [00:48, 146.60it/s]\u001B[A\n",
      "7387it [00:48, 134.34it/s]\u001B[A\n",
      "7404it [00:48, 142.12it/s]\u001B[A\n",
      "7424it [00:48, 157.43it/s]\u001B[A\n",
      "7441it [00:48, 159.28it/s]\u001B[A\n",
      "7458it [00:48, 159.37it/s]\u001B[A\n",
      "7477it [00:48, 165.78it/s]\u001B[A\n",
      "7494it [00:49, 150.35it/s]\u001B[A\n",
      "7510it [00:49, 141.24it/s]\u001B[A\n",
      "7528it [00:49, 149.38it/s]\u001B[A\n",
      "7544it [00:49, 140.00it/s]\u001B[A\n",
      "7559it [00:49, 127.38it/s]\u001B[A\n",
      "7574it [00:49, 131.49it/s]\u001B[A\n",
      "7588it [00:49, 129.28it/s]\u001B[A\n",
      "7602it [00:50, 114.33it/s]\u001B[A\n",
      "7616it [00:50, 120.52it/s]\u001B[A\n",
      "7629it [00:50, 114.72it/s]\u001B[A\n",
      "7644it [00:50, 120.94it/s]\u001B[A\n",
      "7657it [00:50, 108.10it/s]\u001B[A\n",
      "7669it [00:50, 101.87it/s]\u001B[A\n",
      "7680it [00:50, 102.52it/s]\u001B[A\n",
      "7695it [00:50, 114.42it/s]\u001B[A\n",
      "7715it [00:50, 136.12it/s]\u001B[A\n",
      "7732it [00:51, 145.33it/s]\u001B[A\n",
      "7749it [00:51, 151.47it/s]\u001B[A\n",
      "7769it [00:51, 164.21it/s]\u001B[A\n",
      "7788it [00:51, 171.40it/s]\u001B[A\n",
      "7806it [00:51, 168.22it/s]\u001B[A\n",
      "7824it [00:51, 170.68it/s]\u001B[A\n",
      "7842it [00:51, 159.32it/s]\u001B[A\n",
      "7859it [00:51, 161.56it/s]\u001B[A\n",
      "7877it [00:51, 164.72it/s]\u001B[A\n",
      "7898it [00:51, 175.92it/s]\u001B[A\n",
      "7916it [00:52, 167.86it/s]\u001B[A\n",
      "7933it [00:52, 152.58it/s]\u001B[A\n",
      "7949it [00:52, 142.21it/s]\u001B[A\n",
      "7966it [00:52, 149.27it/s]\u001B[A\n",
      "7982it [00:52, 150.46it/s]\u001B[A\n",
      "7998it [00:52, 141.64it/s]\u001B[A\n",
      "8013it [00:52, 142.27it/s]\u001B[A\n",
      "8028it [00:52, 141.86it/s]\u001B[A\n",
      "8043it [00:53, 140.76it/s]\u001B[A\n",
      "8058it [00:53, 135.26it/s]\u001B[A\n",
      "8075it [00:53, 144.34it/s]\u001B[A\n",
      "8093it [00:53, 152.78it/s]\u001B[A\n",
      "8109it [00:53, 144.40it/s]\u001B[A\n",
      "8124it [00:53, 135.53it/s]\u001B[A\n",
      "8143it [00:53, 149.83it/s]\u001B[A\n",
      "8162it [00:53, 160.63it/s]\u001B[A\n",
      "8181it [00:53, 166.59it/s]\u001B[A\n",
      "8201it [00:54, 174.94it/s]\u001B[A\n",
      "8219it [00:54, 151.87it/s]\u001B[A\n",
      "8235it [00:54, 151.39it/s]\u001B[A\n",
      "8253it [00:54, 157.55it/s]\u001B[A\n",
      "8275it [00:54, 172.65it/s]\u001B[A\n",
      "8296it [00:54, 182.76it/s]\u001B[A\n",
      "8315it [00:54, 182.88it/s]\u001B[A\n",
      "8337it [00:54, 193.16it/s]\u001B[A\n",
      "8357it [00:54, 188.88it/s]\u001B[A\n",
      "8377it [00:55, 177.77it/s]\u001B[A\n",
      "8396it [00:55, 163.02it/s]\u001B[A\n",
      "8413it [00:55, 155.30it/s]\u001B[A\n",
      "8429it [00:55, 150.86it/s]\u001B[A\n",
      "8445it [00:55, 152.29it/s]\u001B[A\n",
      "8463it [00:55, 159.59it/s]\u001B[A\n",
      "8481it [00:55, 164.88it/s]\u001B[A\n",
      "8500it [00:55, 170.45it/s]\u001B[A\n",
      "8518it [00:55, 166.71it/s]\u001B[A\n",
      "8536it [00:56, 167.16it/s]\u001B[A\n",
      "8553it [00:56, 159.64it/s]\u001B[A\n",
      "8570it [00:56, 162.22it/s]\u001B[A\n",
      "8589it [00:56, 169.33it/s]\u001B[A\n",
      "8607it [00:56, 157.46it/s]\u001B[A\n",
      "8623it [00:56, 157.58it/s]\u001B[A\n",
      "8641it [00:56, 163.58it/s]\u001B[A\n",
      "8658it [00:56, 165.38it/s]\u001B[A\n",
      "8679it [00:56, 177.09it/s]\u001B[A\n",
      "8697it [00:57, 174.53it/s]\u001B[A\n",
      "8715it [00:57, 175.14it/s]\u001B[A\n",
      "8733it [00:57, 166.34it/s]\u001B[A\n",
      "8752it [00:57, 171.33it/s]\u001B[A\n",
      "8772it [00:57, 177.94it/s]\u001B[A\n",
      "8790it [00:57, 164.46it/s]\u001B[A\n",
      "8807it [00:57, 165.76it/s]\u001B[A\n",
      "8825it [00:57, 169.62it/s]\u001B[A\n",
      "8845it [00:57, 175.24it/s]\u001B[A\n",
      "8865it [00:57, 179.56it/s]\u001B[A\n",
      "8884it [00:58, 177.22it/s]\u001B[A\n",
      "8904it [00:58, 183.53it/s]\u001B[A\n",
      "8923it [00:58, 161.01it/s]\u001B[A\n",
      "8940it [00:58, 151.73it/s]\u001B[A\n",
      "8956it [00:58, 146.11it/s]\u001B[A\n",
      "8973it [00:58, 150.16it/s]\u001B[A\n",
      "8989it [00:58, 148.95it/s]\u001B[A\n",
      "9009it [00:58, 162.31it/s]\u001B[A\n",
      "9027it [00:59, 166.61it/s]\u001B[A\n",
      "9046it [00:59, 170.77it/s]\u001B[A\n",
      "9066it [00:59, 178.16it/s]\u001B[A\n",
      "9085it [00:59, 180.57it/s]\u001B[A\n",
      "9104it [00:59, 176.02it/s]\u001B[A\n",
      "9124it [00:59, 181.65it/s]\u001B[A\n",
      "9143it [00:59, 175.70it/s]\u001B[A\n",
      "9163it [00:59, 182.48it/s]\u001B[A\n",
      "9182it [00:59, 182.46it/s]\u001B[A\n",
      "9201it [00:59, 179.32it/s]\u001B[A\n",
      "9221it [01:00, 184.55it/s]\u001B[A\n",
      "9240it [01:00, 181.77it/s]\u001B[A\n",
      "9260it [01:00, 185.29it/s]\u001B[A\n",
      "9280it [01:00, 188.64it/s]\u001B[A\n",
      "9299it [01:00, 183.84it/s]\u001B[A\n",
      "9322it [01:00, 195.29it/s]\u001B[A\n",
      "9342it [01:00, 194.59it/s]\u001B[A\n",
      "9363it [01:00, 193.90it/s]\u001B[A\n",
      "9385it [01:00, 199.89it/s]\u001B[A\n",
      "9406it [01:01, 170.88it/s]\u001B[A\n",
      "9424it [01:01, 155.79it/s]\u001B[A\n",
      "9441it [01:01, 153.64it/s]\u001B[A\n",
      "9461it [01:01, 163.47it/s]\u001B[A\n",
      "9478it [01:01, 164.16it/s]\u001B[A\n",
      "9495it [01:01, 162.16it/s]\u001B[A\n",
      "9512it [01:01, 150.23it/s]\u001B[A\n",
      "9528it [01:01, 148.23it/s]\u001B[A\n",
      "9544it [01:02, 145.51it/s]\u001B[A\n",
      "9559it [01:02, 142.61it/s]\u001B[A\n",
      "9577it [01:02, 150.90it/s]\u001B[A\n",
      "9593it [01:02, 152.89it/s]\u001B[A\n",
      "9614it [01:02, 168.70it/s]\u001B[A\n",
      "9635it [01:02, 179.65it/s]\u001B[A\n",
      "9658it [01:02, 192.53it/s]\u001B[A\n",
      "9678it [01:02, 181.69it/s]\u001B[A\n",
      "9697it [01:02, 172.19it/s]\u001B[A\n",
      "9715it [01:03, 161.03it/s]\u001B[A\n",
      "9742it [01:03, 154.25it/s]\u001B[A\n"
     ]
    },
    {
     "data": {
      "text/plain": "        (no genres listed)    Action Adventure Animation Children    Comedy  \\\nmovieId                                                                       \n1                      NaN       NaN  0.887245  1.202607  1.16648  0.413923   \n2                      NaN       NaN  0.887245       NaN  1.16648       NaN   \n3                      NaN       NaN       NaN       NaN      NaN  0.413923   \n4                      NaN       NaN       NaN       NaN      NaN  0.413923   \n5                      NaN       NaN       NaN       NaN      NaN  0.413923   \n...                    ...       ...       ...       ...      ...       ...   \n193581                 NaN  0.726672       NaN  1.202607      NaN  0.413923   \n193583                 NaN       NaN       NaN  1.202607      NaN  0.413923   \n193585                 NaN       NaN       NaN       NaN      NaN       NaN   \n193587                 NaN  0.726672       NaN  1.202607      NaN       NaN   \n193609                 NaN       NaN       NaN       NaN      NaN  0.413923   \n\n        Crime Documentary     Drama   Fantasy Film-Noir Horror IMAX Musical  \\\nmovieId                                                                       \n1         NaN         NaN       NaN  1.097111       NaN    NaN  NaN     NaN   \n2         NaN         NaN       NaN  1.097111       NaN    NaN  NaN     NaN   \n3         NaN         NaN       NaN       NaN       NaN    NaN  NaN     NaN   \n4         NaN         NaN  0.349062       NaN       NaN    NaN  NaN     NaN   \n5         NaN         NaN       NaN       NaN       NaN    NaN  NaN     NaN   \n...       ...         ...       ...       ...       ...    ...  ...     ...   \n193581    NaN         NaN       NaN  1.097111       NaN    NaN  NaN     NaN   \n193583    NaN         NaN       NaN  1.097111       NaN    NaN  NaN     NaN   \n193585    NaN         NaN  0.349062       NaN       NaN    NaN  NaN     NaN   \n193587    NaN         NaN       NaN       NaN       NaN    NaN  NaN     NaN   \n193609    NaN         NaN       NaN       NaN       NaN    NaN  NaN     NaN   \n\n        Mystery   Romance Sci-Fi Thriller  War Western  \nmovieId                                                 \n1           NaN       NaN    NaN      NaN  NaN     NaN  \n2           NaN       NaN    NaN      NaN  NaN     NaN  \n3           NaN  0.785615    NaN      NaN  NaN     NaN  \n4           NaN  0.785615    NaN      NaN  NaN     NaN  \n5           NaN       NaN    NaN      NaN  NaN     NaN  \n...         ...       ...    ...      ...  ...     ...  \n193581      NaN       NaN    NaN      NaN  NaN     NaN  \n193583      NaN       NaN    NaN      NaN  NaN     NaN  \n193585      NaN       NaN    NaN      NaN  NaN     NaN  \n193587      NaN       NaN    NaN      NaN  NaN     NaN  \n193609      NaN       NaN    NaN      NaN  NaN     NaN  \n\n[9742 rows x 20 columns]",
      "text/html": "<div>\n<style scoped>\n    .dataframe tbody tr th:only-of-type {\n        vertical-align: middle;\n    }\n\n    .dataframe tbody tr th {\n        vertical-align: top;\n    }\n\n    .dataframe thead th {\n        text-align: right;\n    }\n</style>\n<table border=\"1\" class=\"dataframe\">\n  <thead>\n    <tr style=\"text-align: right;\">\n      <th></th>\n      <th>(no genres listed)</th>\n      <th>Action</th>\n      <th>Adventure</th>\n      <th>Animation</th>\n      <th>Children</th>\n      <th>Comedy</th>\n      <th>Crime</th>\n      <th>Documentary</th>\n      <th>Drama</th>\n      <th>Fantasy</th>\n      <th>Film-Noir</th>\n      <th>Horror</th>\n      <th>IMAX</th>\n      <th>Musical</th>\n      <th>Mystery</th>\n      <th>Romance</th>\n      <th>Sci-Fi</th>\n      <th>Thriller</th>\n      <th>War</th>\n      <th>Western</th>\n    </tr>\n    <tr>\n      <th>movieId</th>\n      <th></th>\n      <th></th>\n      <th></th>\n      <th></th>\n      <th></th>\n      <th></th>\n      <th></th>\n      <th></th>\n      <th></th>\n      <th></th>\n      <th></th>\n      <th></th>\n      <th></th>\n      <th></th>\n      <th></th>\n      <th></th>\n      <th></th>\n      <th></th>\n      <th></th>\n      <th></th>\n    </tr>\n  </thead>\n  <tbody>\n    <tr>\n      <th>1</th>\n      <td>NaN</td>\n      <td>NaN</td>\n      <td>0.887245</td>\n      <td>1.202607</td>\n      <td>1.16648</td>\n      <td>0.413923</td>\n      <td>NaN</td>\n      <td>NaN</td>\n      <td>NaN</td>\n      <td>1.097111</td>\n      <td>NaN</td>\n      <td>NaN</td>\n      <td>NaN</td>\n      <td>NaN</td>\n      <td>NaN</td>\n      <td>NaN</td>\n      <td>NaN</td>\n      <td>NaN</td>\n      <td>NaN</td>\n      <td>NaN</td>\n    </tr>\n    <tr>\n      <th>2</th>\n      <td>NaN</td>\n      <td>NaN</td>\n      <td>0.887245</td>\n      <td>NaN</td>\n      <td>1.16648</td>\n      <td>NaN</td>\n      <td>NaN</td>\n      <td>NaN</td>\n      <td>NaN</td>\n      <td>1.097111</td>\n      <td>NaN</td>\n      <td>NaN</td>\n      <td>NaN</td>\n      <td>NaN</td>\n      <td>NaN</td>\n      <td>NaN</td>\n      <td>NaN</td>\n      <td>NaN</td>\n      <td>NaN</td>\n      <td>NaN</td>\n    </tr>\n    <tr>\n      <th>3</th>\n      <td>NaN</td>\n      <td>NaN</td>\n      <td>NaN</td>\n      <td>NaN</td>\n      <td>NaN</td>\n      <td>0.413923</td>\n      <td>NaN</td>\n      <td>NaN</td>\n      <td>NaN</td>\n      <td>NaN</td>\n      <td>NaN</td>\n      <td>NaN</td>\n      <td>NaN</td>\n      <td>NaN</td>\n      <td>NaN</td>\n      <td>0.785615</td>\n      <td>NaN</td>\n      <td>NaN</td>\n      <td>NaN</td>\n      <td>NaN</td>\n    </tr>\n    <tr>\n      <th>4</th>\n      <td>NaN</td>\n      <td>NaN</td>\n      <td>NaN</td>\n      <td>NaN</td>\n      <td>NaN</td>\n      <td>0.413923</td>\n      <td>NaN</td>\n      <td>NaN</td>\n      <td>0.349062</td>\n      <td>NaN</td>\n      <td>NaN</td>\n      <td>NaN</td>\n      <td>NaN</td>\n      <td>NaN</td>\n      <td>NaN</td>\n      <td>0.785615</td>\n      <td>NaN</td>\n      <td>NaN</td>\n      <td>NaN</td>\n      <td>NaN</td>\n    </tr>\n    <tr>\n      <th>5</th>\n      <td>NaN</td>\n      <td>NaN</td>\n      <td>NaN</td>\n      <td>NaN</td>\n      <td>NaN</td>\n      <td>0.413923</td>\n      <td>NaN</td>\n      <td>NaN</td>\n      <td>NaN</td>\n      <td>NaN</td>\n      <td>NaN</td>\n      <td>NaN</td>\n      <td>NaN</td>\n      <td>NaN</td>\n      <td>NaN</td>\n      <td>NaN</td>\n      <td>NaN</td>\n      <td>NaN</td>\n      <td>NaN</td>\n      <td>NaN</td>\n    </tr>\n    <tr>\n      <th>...</th>\n      <td>...</td>\n      <td>...</td>\n      <td>...</td>\n      <td>...</td>\n      <td>...</td>\n      <td>...</td>\n      <td>...</td>\n      <td>...</td>\n      <td>...</td>\n      <td>...</td>\n      <td>...</td>\n      <td>...</td>\n      <td>...</td>\n      <td>...</td>\n      <td>...</td>\n      <td>...</td>\n      <td>...</td>\n      <td>...</td>\n      <td>...</td>\n      <td>...</td>\n    </tr>\n    <tr>\n      <th>193581</th>\n      <td>NaN</td>\n      <td>0.726672</td>\n      <td>NaN</td>\n      <td>1.202607</td>\n      <td>NaN</td>\n      <td>0.413923</td>\n      <td>NaN</td>\n      <td>NaN</td>\n      <td>NaN</td>\n      <td>1.097111</td>\n      <td>NaN</td>\n      <td>NaN</td>\n      <td>NaN</td>\n      <td>NaN</td>\n      <td>NaN</td>\n      <td>NaN</td>\n      <td>NaN</td>\n      <td>NaN</td>\n      <td>NaN</td>\n      <td>NaN</td>\n    </tr>\n    <tr>\n      <th>193583</th>\n      <td>NaN</td>\n      <td>NaN</td>\n      <td>NaN</td>\n      <td>1.202607</td>\n      <td>NaN</td>\n      <td>0.413923</td>\n      <td>NaN</td>\n      <td>NaN</td>\n      <td>NaN</td>\n      <td>1.097111</td>\n      <td>NaN</td>\n      <td>NaN</td>\n      <td>NaN</td>\n      <td>NaN</td>\n      <td>NaN</td>\n      <td>NaN</td>\n      <td>NaN</td>\n      <td>NaN</td>\n      <td>NaN</td>\n      <td>NaN</td>\n    </tr>\n    <tr>\n      <th>193585</th>\n      <td>NaN</td>\n      <td>NaN</td>\n      <td>NaN</td>\n      <td>NaN</td>\n      <td>NaN</td>\n      <td>NaN</td>\n      <td>NaN</td>\n      <td>NaN</td>\n      <td>0.349062</td>\n      <td>NaN</td>\n      <td>NaN</td>\n      <td>NaN</td>\n      <td>NaN</td>\n      <td>NaN</td>\n      <td>NaN</td>\n      <td>NaN</td>\n      <td>NaN</td>\n      <td>NaN</td>\n      <td>NaN</td>\n      <td>NaN</td>\n    </tr>\n    <tr>\n      <th>193587</th>\n      <td>NaN</td>\n      <td>0.726672</td>\n      <td>NaN</td>\n      <td>1.202607</td>\n      <td>NaN</td>\n      <td>NaN</td>\n      <td>NaN</td>\n      <td>NaN</td>\n      <td>NaN</td>\n      <td>NaN</td>\n      <td>NaN</td>\n      <td>NaN</td>\n      <td>NaN</td>\n      <td>NaN</td>\n      <td>NaN</td>\n      <td>NaN</td>\n      <td>NaN</td>\n      <td>NaN</td>\n      <td>NaN</td>\n      <td>NaN</td>\n    </tr>\n    <tr>\n      <th>193609</th>\n      <td>NaN</td>\n      <td>NaN</td>\n      <td>NaN</td>\n      <td>NaN</td>\n      <td>NaN</td>\n      <td>0.413923</td>\n      <td>NaN</td>\n      <td>NaN</td>\n      <td>NaN</td>\n      <td>NaN</td>\n      <td>NaN</td>\n      <td>NaN</td>\n      <td>NaN</td>\n      <td>NaN</td>\n      <td>NaN</td>\n      <td>NaN</td>\n      <td>NaN</td>\n      <td>NaN</td>\n      <td>NaN</td>\n      <td>NaN</td>\n    </tr>\n  </tbody>\n</table>\n<p>9742 rows × 20 columns</p>\n</div>"
     },
     "execution_count": 30,
     "metadata": {},
     "output_type": "execute_result"
    }
   ],
   "source": [
    "for index, each_row in tqdm(movies_df.iterrows()):\n",
    "    dict_temp = {i: genre_count[i] for i in each_row['genres'].split('|')}\n",
    "    row_to_add = pd.DataFrame(dict_temp, index=[index])\n",
    "    genre_representation.update(row_to_add)\n",
    "\n",
    "genre_representation"
   ],
   "metadata": {
    "collapsed": false,
    "pycharm": {
     "name": "#%%\n"
    }
   }
  },
  {
   "cell_type": "code",
   "execution_count": 33,
   "outputs": [
    {
     "data": {
      "text/plain": "    userId  movieId                 tag   timestamp\n0        2    60756               funny  1445714994\n1        2    60756     Highly quotable  1445714996\n2        2    60756        will ferrell  1445714992\n3        2    89774        Boxing story  1445715207\n4        2    89774                 MMA  1445715200\n5        2    89774           Tom Hardy  1445715205\n6        2   106782               drugs  1445715054\n7        2   106782   Leonardo DiCaprio  1445715051\n8        2   106782     Martin Scorsese  1445715056\n9        7    48516        way too long  1169687325\n10      18      431           Al Pacino  1462138765\n11      18      431            gangster  1462138749\n12      18      431               mafia  1462138755\n13      18     1221           Al Pacino  1461699306\n14      18     1221               Mafia  1461699303\n15      18     5995           holocaust  1455735472\n16      18     5995          true story  1455735479\n17      18    44665        twist ending  1456948283\n18      18    52604     Anthony Hopkins  1457650696\n19      18    52604     courtroom drama  1457650711\n20      18    52604        twist ending  1457650682\n21      18    88094             britpop  1457444500\n22      18    88094  indie record label  1457444592\n23      18    88094               music  1457444609\n24      18   144210     dumpster diving  1455060381\n25      18   144210      Sustainability  1455060452\n26      21     1569     romantic comedy  1419805413\n27      21     1569             wedding  1419805419\n28      21   118985             painter  1419805477\n29      21   119141              bloody  1419793962",
      "text/html": "<div>\n<style scoped>\n    .dataframe tbody tr th:only-of-type {\n        vertical-align: middle;\n    }\n\n    .dataframe tbody tr th {\n        vertical-align: top;\n    }\n\n    .dataframe thead th {\n        text-align: right;\n    }\n</style>\n<table border=\"1\" class=\"dataframe\">\n  <thead>\n    <tr style=\"text-align: right;\">\n      <th></th>\n      <th>userId</th>\n      <th>movieId</th>\n      <th>tag</th>\n      <th>timestamp</th>\n    </tr>\n  </thead>\n  <tbody>\n    <tr>\n      <th>0</th>\n      <td>2</td>\n      <td>60756</td>\n      <td>funny</td>\n      <td>1445714994</td>\n    </tr>\n    <tr>\n      <th>1</th>\n      <td>2</td>\n      <td>60756</td>\n      <td>Highly quotable</td>\n      <td>1445714996</td>\n    </tr>\n    <tr>\n      <th>2</th>\n      <td>2</td>\n      <td>60756</td>\n      <td>will ferrell</td>\n      <td>1445714992</td>\n    </tr>\n    <tr>\n      <th>3</th>\n      <td>2</td>\n      <td>89774</td>\n      <td>Boxing story</td>\n      <td>1445715207</td>\n    </tr>\n    <tr>\n      <th>4</th>\n      <td>2</td>\n      <td>89774</td>\n      <td>MMA</td>\n      <td>1445715200</td>\n    </tr>\n    <tr>\n      <th>5</th>\n      <td>2</td>\n      <td>89774</td>\n      <td>Tom Hardy</td>\n      <td>1445715205</td>\n    </tr>\n    <tr>\n      <th>6</th>\n      <td>2</td>\n      <td>106782</td>\n      <td>drugs</td>\n      <td>1445715054</td>\n    </tr>\n    <tr>\n      <th>7</th>\n      <td>2</td>\n      <td>106782</td>\n      <td>Leonardo DiCaprio</td>\n      <td>1445715051</td>\n    </tr>\n    <tr>\n      <th>8</th>\n      <td>2</td>\n      <td>106782</td>\n      <td>Martin Scorsese</td>\n      <td>1445715056</td>\n    </tr>\n    <tr>\n      <th>9</th>\n      <td>7</td>\n      <td>48516</td>\n      <td>way too long</td>\n      <td>1169687325</td>\n    </tr>\n    <tr>\n      <th>10</th>\n      <td>18</td>\n      <td>431</td>\n      <td>Al Pacino</td>\n      <td>1462138765</td>\n    </tr>\n    <tr>\n      <th>11</th>\n      <td>18</td>\n      <td>431</td>\n      <td>gangster</td>\n      <td>1462138749</td>\n    </tr>\n    <tr>\n      <th>12</th>\n      <td>18</td>\n      <td>431</td>\n      <td>mafia</td>\n      <td>1462138755</td>\n    </tr>\n    <tr>\n      <th>13</th>\n      <td>18</td>\n      <td>1221</td>\n      <td>Al Pacino</td>\n      <td>1461699306</td>\n    </tr>\n    <tr>\n      <th>14</th>\n      <td>18</td>\n      <td>1221</td>\n      <td>Mafia</td>\n      <td>1461699303</td>\n    </tr>\n    <tr>\n      <th>15</th>\n      <td>18</td>\n      <td>5995</td>\n      <td>holocaust</td>\n      <td>1455735472</td>\n    </tr>\n    <tr>\n      <th>16</th>\n      <td>18</td>\n      <td>5995</td>\n      <td>true story</td>\n      <td>1455735479</td>\n    </tr>\n    <tr>\n      <th>17</th>\n      <td>18</td>\n      <td>44665</td>\n      <td>twist ending</td>\n      <td>1456948283</td>\n    </tr>\n    <tr>\n      <th>18</th>\n      <td>18</td>\n      <td>52604</td>\n      <td>Anthony Hopkins</td>\n      <td>1457650696</td>\n    </tr>\n    <tr>\n      <th>19</th>\n      <td>18</td>\n      <td>52604</td>\n      <td>courtroom drama</td>\n      <td>1457650711</td>\n    </tr>\n    <tr>\n      <th>20</th>\n      <td>18</td>\n      <td>52604</td>\n      <td>twist ending</td>\n      <td>1457650682</td>\n    </tr>\n    <tr>\n      <th>21</th>\n      <td>18</td>\n      <td>88094</td>\n      <td>britpop</td>\n      <td>1457444500</td>\n    </tr>\n    <tr>\n      <th>22</th>\n      <td>18</td>\n      <td>88094</td>\n      <td>indie record label</td>\n      <td>1457444592</td>\n    </tr>\n    <tr>\n      <th>23</th>\n      <td>18</td>\n      <td>88094</td>\n      <td>music</td>\n      <td>1457444609</td>\n    </tr>\n    <tr>\n      <th>24</th>\n      <td>18</td>\n      <td>144210</td>\n      <td>dumpster diving</td>\n      <td>1455060381</td>\n    </tr>\n    <tr>\n      <th>25</th>\n      <td>18</td>\n      <td>144210</td>\n      <td>Sustainability</td>\n      <td>1455060452</td>\n    </tr>\n    <tr>\n      <th>26</th>\n      <td>21</td>\n      <td>1569</td>\n      <td>romantic comedy</td>\n      <td>1419805413</td>\n    </tr>\n    <tr>\n      <th>27</th>\n      <td>21</td>\n      <td>1569</td>\n      <td>wedding</td>\n      <td>1419805419</td>\n    </tr>\n    <tr>\n      <th>28</th>\n      <td>21</td>\n      <td>118985</td>\n      <td>painter</td>\n      <td>1419805477</td>\n    </tr>\n    <tr>\n      <th>29</th>\n      <td>21</td>\n      <td>119141</td>\n      <td>bloody</td>\n      <td>1419793962</td>\n    </tr>\n  </tbody>\n</table>\n</div>"
     },
     "execution_count": 33,
     "metadata": {},
     "output_type": "execute_result"
    }
   ],
   "source": [
    "tags_df.head(30)"
   ],
   "metadata": {
    "collapsed": false,
    "pycharm": {
     "name": "#%%\n"
    }
   }
  },
  {
   "cell_type": "code",
   "execution_count": 34,
   "outputs": [
    {
     "data": {
      "text/plain": "title     Warrior (2011)\ngenres             Drama\nName: 89774, dtype: object"
     },
     "execution_count": 34,
     "metadata": {},
     "output_type": "execute_result"
    }
   ],
   "source": [
    "movies_df.loc[89774]"
   ],
   "metadata": {
    "collapsed": false,
    "pycharm": {
     "name": "#%%\n"
    }
   }
  },
  {
   "cell_type": "code",
   "execution_count": 35,
   "outputs": [],
   "source": [
    "tag_column = list(map(lambda x: x.split(','), tags_df['tag']))\n",
    "unique_tags = list(set(list(map(lambda x: x.strip(), list([tag for sublist in tag_column for tag in sublist])))))"
   ],
   "metadata": {
    "collapsed": false,
    "pycharm": {
     "name": "#%%\n"
    }
   }
  },
  {
   "cell_type": "code",
   "execution_count": 40,
   "outputs": [
    {
     "data": {
      "text/plain": "{'Magic': 2.4183012913197452,\n 'new york': 2.895422546039408,\n 'dc comics': 2.895422546039408,\n 'truth': 3.196452541703389,\n 'Scott Turow': 3.196452541703389,\n 'bad science': 3.196452541703389,\n 'italy': 3.196452541703389,\n 'Mrs. DeWinter': 3.196452541703389,\n 'money': 3.196452541703389,\n 'food': 2.7193312869837265,\n 'martial arts': 2.2933625547114453,\n 'noir': 3.196452541703389,\n 'television': 2.4183012913197452,\n 'avant-garde romantic comedy': 3.196452541703389,\n 'entertaining': 3.196452541703389,\n 'coen brothers': 3.196452541703389,\n 'ghosts': 2.196452541703389,\n 'Dr. Strange': 3.196452541703389,\n 'Witty': 3.196452541703389,\n 'Shakespeare': 2.1172712956557644,\n 'Ryan Reynolds': 2.5943925503754266,\n 'aging': 3.196452541703389,\n 'video game adaptation': 3.196452541703389,\n 'stupid is as stupid does': 3.196452541703389,\n 'Romans': 3.196452541703389,\n 'Mental Hospital': 3.196452541703389,\n 'Prince': 3.196452541703389,\n 'Judaism': 2.4974825373673704,\n 'art house': 3.196452541703389,\n 'last man on earth': 2.895422546039408,\n 'bad writing': 3.196452541703389,\n 'based on a play': 3.196452541703389,\n '1900s': 3.196452541703389,\n 'post-apocalyptic': 2.4974825373673704,\n 'fish': 2.895422546039408,\n 'ethics': 3.196452541703389,\n 'goofy': 2.895422546039408,\n 'Johnny Depp': 3.196452541703389,\n 'Up series': 3.196452541703389,\n 'great screenplay': 3.196452541703389,\n 'ocean': 3.196452541703389,\n 'HORRIBLE ACTING': 3.196452541703389,\n 'Jake Gyllenhaal': 2.895422546039408,\n 'teen': 2.895422546039408,\n 'brainwashing': 2.895422546039408,\n 'elegiac': 3.196452541703389,\n 'weather forecaster': 3.196452541703389,\n 'Seth Rogen': 2.5943925503754266,\n 'Visually appealing': 3.196452541703389,\n 'Harvey Keitel': 3.196452541703389,\n 'New York City': 2.895422546039408,\n 'hallucinatory': 2.2422100322640643,\n 'abstract': 3.196452541703389,\n 'cool': 3.196452541703389,\n 'fighting': 3.196452541703389,\n 'hit men': 2.4183012913197452,\n 'plastic surgery': 3.196452541703389,\n 'Jared Leto': 2.895422546039408,\n 'Disaster': 3.196452541703389,\n 'superhero': 1.816241299991783,\n 'Ben Affleck': 2.895422546039408,\n 'Poor plot development': 3.196452541703389,\n 'procedural': 3.196452541703389,\n 'spies': 3.196452541703389,\n 'schizophrenia': 2.895422546039408,\n 'complicated': 2.895422546039408,\n 'building a family': 3.196452541703389,\n 'exciting': 3.196452541703389,\n 'Deep Throat': 3.196452541703389,\n 'royalty': 3.196452541703389,\n 'hostage': 3.196452541703389,\n 'trains': 2.895422546039408,\n 'Tom Hardy': 2.895422546039408,\n 'threesome': 3.196452541703389,\n 'love': 2.895422546039408,\n 'Salieri': 3.196452541703389,\n 'Strangers on a Train': 3.196452541703389,\n 'bad acting': 2.895422546039408,\n 'Mozart': 3.196452541703389,\n 'Oscar (Best Effects - Visual Effects)': 3.196452541703389,\n 'not linear': 3.196452541703389,\n 'Rogers and Hammerstein': 2.895422546039408,\n 'Star Trek': 2.895422546039408,\n 'Family': 3.196452541703389,\n 'college': 2.895422546039408,\n 'Charles Dickens': 3.196452541703389,\n 'real estate': 3.196452541703389,\n 'horror': 2.5943925503754266,\n 'E. M. Forster': 3.196452541703389,\n 'visually stunning': 2.5943925503754266,\n 'Sad': 3.196452541703389,\n 'Wizards': 2.5943925503754266,\n 'Animal movie': 2.351354501689132,\n 'royal with cheese': 3.196452541703389,\n 'absorbing': 3.196452541703389,\n 'George Bernard Shaw': 2.895422546039408,\n 'C.S. Lewis': 2.895422546039408,\n 'gangster': 2.895422546039408,\n 'stop using useless characters for filler': 3.196452541703389,\n 'Recap': 3.196452541703389,\n 'Philip K. Dick': 3.196452541703389,\n 'rape': 2.895422546039408,\n 'a dingo ate my baby': 3.196452541703389,\n 'six-fingered man': 3.196452541703389,\n 'Robert De Niro': 2.7193312869837265,\n 'Mystery': 2.7193312869837265,\n 'James Fennimore Cooper': 3.196452541703389,\n 'big budget': 2.895422546039408,\n 'Homeless': 3.196452541703389,\n 'planes': 3.196452541703389,\n '1920s': 2.895422546039408,\n 'meryl streep': 3.196452541703389,\n 'Stock Market': 3.196452541703389,\n 'independent': 3.196452541703389,\n 'apocalypse': 2.895422546039408,\n 'parrots': 3.196452541703389,\n 'Arnold Schwarzenegger': 2.895422546039408,\n 'nonsense': 3.196452541703389,\n 'updated classics': 3.196452541703389,\n 'comic book': 2.155059856545164,\n 'slow paced': 3.196452541703389,\n 'contemplative': 3.196452541703389,\n 'painter': 3.196452541703389,\n 'Chile': 3.196452541703389,\n 'convent': 3.196452541703389,\n 'soundtrack': 2.5943925503754266,\n 'captain nemo': 3.196452541703389,\n 'televangelist': 3.196452541703389,\n 'best comedy': 3.196452541703389,\n 'cruel characters': 3.196452541703389,\n 'TERRORISM': 3.196452541703389,\n 'easygoing': 3.196452541703389,\n 'Sean Connery': 3.196452541703389,\n 'tension': 3.196452541703389,\n 'teenage pregnancy': 3.196452541703389,\n 'Angelina Jolie': 3.196452541703389,\n 'men in drag': 2.4183012913197452,\n 'restaurant': 3.196452541703389,\n 'hilarious': 2.7193312869837265,\n 'psychological thriller': 3.196452541703389,\n 'indie record label': 3.196452541703389,\n 'jack nicholson': 2.895422546039408,\n 'male nudity': 3.196452541703389,\n 'ark of the covenant': 3.196452541703389,\n 'Dorothy': 3.196452541703389,\n 'unoriginal': 3.196452541703389,\n 'S.E. Hinton': 3.196452541703389,\n 'voyeurism': 3.196452541703389,\n 'cate blanchett': 3.196452541703389,\n 'Steve Carell': 2.7193312869837265,\n 'Sustainability': 3.196452541703389,\n 'Henry James': 2.895422546039408,\n 'rebellion': 3.196452541703389,\n 'Klingons': 3.196452541703389,\n 'dreamlike': 2.050324506025151,\n 'circus': 2.5943925503754266,\n 'cryptic': 3.196452541703389,\n 'Beautiful': 2.7193312869837265,\n 'mel gibson': 3.196452541703389,\n 'lions': 3.196452541703389,\n 'bluegrass': 3.196452541703389,\n 'werewolf': 3.196452541703389,\n 'leonardo DiCarpio': 3.196452541703389,\n 'understated': 2.895422546039408,\n 'Dodie Smith': 3.196452541703389,\n 'evil children': 2.7193312869837265,\n 'disjointed timeline': 3.196452541703389,\n 'FBI': 2.895422546039408,\n 'high school': 2.1172712956557644,\n 'sad': 2.5943925503754266,\n 'enigmatic': 2.5943925503754266,\n 'artistic': 2.7193312869837265,\n 'suspenseful': 2.895422546039408,\n 'infertility': 3.196452541703389,\n 'Stephen Crane': 3.196452541703389,\n 'Maggie Gyllenhaal': 3.196452541703389,\n 'narnia': 3.196452541703389,\n 'Broadway': 3.196452541703389,\n 'India': 2.196452541703389,\n 'sequel': 2.2933625547114453,\n 'MacBeth': 3.196452541703389,\n 'hitman': 2.7193312869837265,\n 'David Thewlis': 3.196452541703389,\n 'fatherhood': 2.5943925503754266,\n 'Lolita theme': 3.196452541703389,\n 'black-and-white': 3.196452541703389,\n 'purposefulness': 3.196452541703389,\n 'Epic': 3.196452541703389,\n 'Metaphorical': 3.196452541703389,\n 'con men': 3.196452541703389,\n 'based on a book': 2.4974825373673704,\n 'visual': 3.196452541703389,\n 'Savannah': 3.196452541703389,\n 'Ray Bradbury': 2.895422546039408,\n 'In Your Eyes': 3.196452541703389,\n 'Queen Victoria': 3.196452541703389,\n 'MCU': 3.196452541703389,\n 'Disney': 1.8347247056857963,\n 'They Might Be Giants': 3.196452541703389,\n 'wry': 3.196452541703389,\n 'tricky': 3.196452541703389,\n 'Boxing story': 3.196452541703389,\n 'bleak': 2.895422546039408,\n 'Russell Crowe': 3.196452541703389,\n 'Matrix': 3.196452541703389,\n 'inspirational': 2.351354501689132,\n 'robbery': 3.196452541703389,\n 'disturbing': 2.1172712956557644,\n 'wine': 3.196452541703389,\n 'multiple storylines': 2.7193312869837265,\n 'moldy': 3.196452541703389,\n 'economics': 3.196452541703389,\n 'Poor story': 3.196452541703389,\n 'menacing': 3.196452541703389,\n 'long shots': 2.895422546039408,\n 'ironic': 2.895422546039408,\n 'Made me cry': 3.196452541703389,\n 'Brittany Murphy': 3.196452541703389,\n 'strange': 3.196452541703389,\n 'alternate endings': 2.895422546039408,\n 'abortion': 3.196452541703389,\n 'test tag': 3.196452541703389,\n 'Seann William Scott': 2.895422546039408,\n 'Food': 3.196452541703389,\n 'melancholy': 2.5943925503754266,\n 'twists & turns': 2.895422546039408,\n 'domestic violence': 3.196452541703389,\n 'Andy Garcia': 3.196452541703389,\n 'interracial romance': 3.196452541703389,\n 'Music': 3.196452541703389,\n 'retro': 2.895422546039408,\n 'pageant': 3.196452541703389,\n 'investor corruption': 3.196452541703389,\n 'Gulf War': 3.196452541703389,\n 'bad plot': 2.5943925503754266,\n 'Orlando Bloom': 3.196452541703389,\n 'star wars': 3.196452541703389,\n 'sexy female scientist': 2.895422546039408,\n 'western': 3.196452541703389,\n 'invisibility': 3.196452541703389,\n 'Holy Grail': 3.196452541703389,\n 'Western': 3.196452541703389,\n 'gore': 3.196452541703389,\n 'Tarantino': 2.7193312869837265,\n 'cheating': 3.196452541703389,\n 'Andy Kaufman': 3.196452541703389,\n 'lord of the rings': 3.196452541703389,\n 'Denzel Washington': 3.196452541703389,\n 'foul language': 3.196452541703389,\n 'heroine in tight suit': 2.895422546039408,\n 'John Grisham': 2.5943925503754266,\n 'Shia LaBeouf': 3.196452541703389,\n 'r:graphic sexuality': 3.196452541703389,\n 'surprise ending': 3.196452541703389,\n 'irreverent': 2.7193312869837265,\n 'Batman': 3.196452541703389,\n 'Jennifer Connelly': 3.196452541703389,\n 'Joker': 3.196452541703389,\n 'Australia': 2.196452541703389,\n 'alcoholism': 2.4974825373673704,\n 'ferris wheel': 3.196452541703389,\n 'Lou Gehrig': 3.196452541703389,\n 'overcomplicated': 3.196452541703389,\n 'mad scientist': 3.196452541703389,\n 'relaxing': 3.196452541703389,\n 'cancer': 2.895422546039408,\n 'superhero team': 3.196452541703389,\n 'Narrative pisstake': 3.196452541703389,\n 'Action': 2.5943925503754266,\n 'crime': 1.9176989407505602,\n 'apes': 3.196452541703389,\n 'kung fu': 3.196452541703389,\n 'biking': 3.196452541703389,\n 'Union': 3.196452541703389,\n 'heavy metal': 3.196452541703389,\n 'Not available from Netflix': 2.895422546039408,\n 'transplants': 2.7193312869837265,\n 'Paris': 3.196452541703389,\n 'Sci-Fi': 3.196452541703389,\n 'spoof': 2.2933625547114453,\n 'stiller': 3.196452541703389,\n 'photography': 2.7193312869837265,\n 'scary': 2.895422546039408,\n 'Studio Ghibli': 2.895422546039408,\n 'Christmas': 2.2933625547114453,\n 'anti-war': 3.196452541703389,\n 'Renee Zellweger': 3.196452541703389,\n 'cerebral': 2.4183012913197452,\n 'morality': 2.895422546039408,\n 'artificial intelligence': 2.4974825373673704,\n 'interwoven storylines': 3.196452541703389,\n 'Rolling Stone': 3.196452541703389,\n 'Dialogue': 3.196452541703389,\n 'Rachel Weisz': 2.7193312869837265,\n 'Gambling': 3.196452541703389,\n 'BEST PICTURE': 3.196452541703389,\n 'music business': 2.895422546039408,\n 'hip hop': 3.196452541703389,\n 'short films': 3.196452541703389,\n 'May-December romance': 3.196452541703389,\n 'shipwreck': 3.196452541703389,\n 'Harrison Ford': 3.196452541703389,\n 'paranoid': 2.5943925503754266,\n 'nuns': 3.196452541703389,\n 'lack of development': 3.196452541703389,\n 'Palahnuik': 3.196452541703389,\n 'shrimp': 3.196452541703389,\n 'Jesse Ventura': 3.196452541703389,\n 'gruesome': 3.196452541703389,\n 'Marion Cotillard': 3.196452541703389,\n 'wapendrama': 3.196452541703389,\n 'quotable': 3.196452541703389,\n 'futuristic': 2.895422546039408,\n 'war': 2.895422546039408,\n 'fun family movie': 3.196452541703389,\n 'deaf': 3.196452541703389,\n 'Steven Spielberg': 2.895422546039408,\n 'personals ads': 2.895422546039408,\n 'Sci-fi': 3.196452541703389,\n 'dead wife': 3.196452541703389,\n 'skiing': 3.196452541703389,\n 'classic': 2.155059856545164,\n 'Nuclear disaster': 3.196452541703389,\n 'asylum': 3.196452541703389,\n 'black humour': 3.196452541703389,\n 'dust bowl': 3.196452541703389,\n 'baseball': 2.4974825373673704,\n 'non-linear timeline': 3.196452541703389,\n 'younger men': 3.196452541703389,\n 'KIDNAPPING': 3.196452541703389,\n 'Jeff Bridges': 2.895422546039408,\n 'Sinbad': 3.196452541703389,\n 'colorful': 3.196452541703389,\n 'Stanley Kubrick': 2.895422546039408,\n 'revolutionary': 3.196452541703389,\n 'remake': 2.196452541703389,\n 'good dialogue': 2.4974825373673704,\n 'Nun': 3.196452541703389,\n '70mm': 3.196452541703389,\n 'entirely dialogue': 3.196452541703389,\n 'zombies': 2.4183012913197452,\n 'Suspenseful': 3.196452541703389,\n 'flood': 3.196452541703389,\n 'casual violence': 3.196452541703389,\n 'jay and silent bob': 3.196452541703389,\n 'Anne Boleyn': 3.196452541703389,\n 'first was much better': 3.196452541703389,\n 'Sexual Humor': 3.196452541703389,\n 'sports': 2.4974825373673704,\n 'introspection': 3.196452541703389,\n 'anti-intellectual': 3.196452541703389,\n 'film history': 3.196452541703389,\n 'river': 3.196452541703389,\n 'e-mail': 3.196452541703389,\n 'virginity': 2.895422546039408,\n 'sexuality': 2.2422100322640643,\n 'DC': 3.196452541703389,\n 'cult classic': 3.196452541703389,\n 'matchmaker': 3.196452541703389,\n 'mountain climbing': 3.196452541703389,\n 'awkward': 3.196452541703389,\n 'Stones of Summer': 3.196452541703389,\n 'Nathan Fillion': 3.196452541703389,\n 'homeless': 2.5943925503754266,\n 'weak plot': 3.196452541703389,\n 'I am your father': 3.196452541703389,\n 'human rights': 3.196452541703389,\n 'mobsters': 3.196452541703389,\n 'school': 2.895422546039408,\n 'Alicia Vikander': 3.196452541703389,\n 'Paul Rudd': 2.895422546039408,\n 'Peter Pan': 2.895422546039408,\n 'singletons': 3.196452541703389,\n 'HOT actress': 3.196452541703389,\n 'addiction': 3.196452541703389,\n 'whimsical': 2.7193312869837265,\n 'organised crime': 3.196452541703389,\n 'chilly': 3.196452541703389,\n 'daniel radcliffe': 3.196452541703389,\n 'Jason': 2.4974825373673704,\n 'shark': 3.196452541703389,\n 'system holism': 3.196452541703389,\n 'Roger Avary': 3.196452541703389,\n 'dance': 2.7193312869837265,\n 'space': 2.050324506025151,\n 'quirky': 1.8742332469694698,\n 'Christopher Nolan': 2.7193312869837265,\n 'dystopia': 2.4974825373673704,\n 'humor': 2.895422546039408,\n 'Disney animated feature': 3.196452541703389,\n 'music industry': 3.196452541703389,\n 'island': 2.895422546039408,\n 'far fetched': 3.196452541703389,\n 'love story': 2.7193312869837265,\n 'oninous': 3.196452541703389,\n 'quirky romantic': 3.196452541703389,\n 'challenging': 3.196452541703389,\n 'L.A.': 2.895422546039408,\n 'Guns': 3.196452541703389,\n 'emotional': 2.082509189396552,\n 'boxing': 2.155059856545164,\n 'edward norton': 2.895422546039408,\n 'Cole Porter': 3.196452541703389,\n 'lawyers': 2.4974825373673704,\n 'motherfucker': 3.196452541703389,\n 'monologue': 3.196452541703389,\n 'Titanic': 3.196452541703389,\n 'pop culture references': 3.196452541703389,\n 'orphans': 2.7193312869837265,\n 'sarcasm': 2.4974825373673704,\n 'new society': 3.196452541703389,\n 'dinosaurs': 2.895422546039408,\n 'setting:space/space ship': 3.196452541703389,\n 'Sundance award winner': 3.196452541703389,\n 'Heroic Bloodshed': 3.196452541703389,\n 'sophisticated': 3.196452541703389,\n 'city politics': 3.196452541703389,\n 'aggressive': 3.196452541703389,\n 'nonlinear': 2.7193312869837265,\n 'really bad': 3.196452541703389,\n 'imaginary friend': 3.196452541703389,\n 'dark hero': 2.895422546039408,\n 'Tom Clancy': 2.895422546039408,\n 'Adrien Brody': 3.196452541703389,\n 'Jekyll and Hyde': 3.196452541703389,\n 'jackie chan': 3.196452541703389,\n 'philosophical issues': 3.196452541703389,\n 'superficial plot': 3.196452541703389,\n 'James Cameron': 3.196452541703389,\n 'directorial debut': 3.196452541703389,\n 'Coen Bros': 3.196452541703389,\n 'batman': 3.196452541703389,\n 'romantic': 2.895422546039408,\n 'milkshake': 3.196452541703389,\n 'Wall Street': 2.895422546039408,\n 'violence in america': 2.895422546039408,\n 'Kevin Spacey': 3.196452541703389,\n 'future': 2.4183012913197452,\n 'ransom': 3.196452541703389,\n 'autism': 3.196452541703389,\n '1970s': 2.7193312869837265,\n 'Robert Penn Warren': 3.196452541703389,\n 'Nick and Nora Charles': 2.4183012913197452,\n 'Afghanistan': 3.196452541703389,\n 'dogs': 2.5943925503754266,\n 'rasicm': 2.895422546039408,\n 'mafia': 2.7193312869837265,\n 'predictable': 2.351354501689132,\n 'blindness': 2.5943925503754266,\n 'virtual reality': 3.196452541703389,\n 'innovative': 3.196452541703389,\n 'multiple personalities': 3.196452541703389,\n 'Rogue': 3.196452541703389,\n 'suicide': 3.196452541703389,\n 'lawn mower': 3.196452541703389,\n 'Jaime Pressly': 3.196452541703389,\n 'American propaganda': 3.196452541703389,\n 'statue': 3.196452541703389,\n 'lesbian': 3.196452541703389,\n 'freedom': 3.196452541703389,\n 'paranoia': 2.4974825373673704,\n 'guns': 2.895422546039408,\n 'Quirky': 3.196452541703389,\n 'Quentin Tarantino': 2.351354501689132,\n 'Truman Capote': 3.196452541703389,\n 'Hammett': 3.196452541703389,\n 'art': 2.895422546039408,\n 'books': 2.7193312869837265,\n 'predictible plot': 3.196452541703389,\n 'British gangster': 3.196452541703389,\n 'bizarre': 3.196452541703389,\n 'uncomfortable': 3.196452541703389,\n 'illusions': 3.196452541703389,\n 'death penalty': 2.4974825373673704,\n 'geeky': 3.196452541703389,\n 'stephen king': 3.196452541703389,\n 'China': 3.196452541703389,\n 'Michigan': 3.196452541703389,\n 'scifi cult': 2.895422546039408,\n 'Dogs': 3.196452541703389,\n 'Jason Biggs': 3.196452541703389,\n 'a clever chef rat': 3.196452541703389,\n 'surreal': 1.8347247056857963,\n 'lies': 3.196452541703389,\n 'Nicolas Cage': 3.196452541703389,\n 'Horrible directing': 3.196452541703389,\n 'Nudity (Full Frontal)': 2.895422546039408,\n 'Tennessee Williams': 2.7193312869837265,\n 'cameo:Whoopi Goldberg': 3.196452541703389,\n 'confusing': 3.196452541703389,\n 'bears': 3.196452541703389,\n 'faerie tale': 3.196452541703389,\n 'stupid but funny': 3.196452541703389,\n 'Brad Pitt': 2.4974825373673704,\n 'thought provoking': 3.196452541703389,\n 'Chris Klein': 3.196452541703389,\n 'christmas': 2.5943925503754266,\n 'stylish': 2.4974825373673704,\n 'adoption': 2.895422546039408,\n 'high fantasy': 3.196452541703389,\n 'animation': 2.196452541703389,\n 'workplace': 3.196452541703389,\n 'symbolic': 3.196452541703389,\n 'Oscar (Best Supporting Actress)': 3.196452541703389,\n 'beautiful visuals': 3.196452541703389,\n 'intertwining storylines': 3.196452541703389,\n 'Inigo Montoya': 3.196452541703389,\n 'Saturday Night Live': 3.196452541703389,\n 'Pixar': 2.5943925503754266,\n 'china': 3.196452541703389,\n 'dialogue': 2.895422546039408,\n 'gentle': 3.196452541703389,\n 'beautiful cinematography': 3.196452541703389,\n 'SNL': 3.196452541703389,\n 'GIVE ME BACK MY SON!': 3.196452541703389,\n 'Emma Stone': 3.196452541703389,\n 'Hannibal Lector': 3.196452541703389,\n 'dark': 2.0203612826477078,\n 'court': 2.1172712956557644,\n 'nuclear war': 3.196452541703389,\n 'happy ending': 3.196452541703389,\n 'espionage': 2.895422546039408,\n 'Mila Kunis': 3.196452541703389,\n 'anti-Semitism': 2.7193312869837265,\n 'science fiction': 3.196452541703389,\n 'pixar': 2.895422546039408,\n 'Morgan Freeman': 2.895422546039408,\n 'treasure hunt': 2.895422546039408,\n 'High School': 2.5943925503754266,\n 'black hole': 3.196452541703389,\n 'aliens': 2.0203612826477078,\n 'Keanu Reeves': 2.895422546039408,\n 'comics': 3.196452541703389,\n 'new composer': 3.196452541703389,\n 'amazing': 3.196452541703389,\n \"Palme d'Or\": 3.196452541703389,\n 'space action': 2.895422546039408,\n 'moving': 2.7193312869837265,\n 'World War I': 3.196452541703389,\n 'iconic': 3.196452541703389,\n 'Chuck Palahniuk': 3.196452541703389,\n 'alternate reality': 2.7193312869837265,\n 'Missionary': 3.196452541703389,\n 'based on a true story': 2.7193312869837265,\n 'zoe kazan': 3.196452541703389,\n 'good writing': 3.196452541703389,\n 'macho': 3.196452541703389,\n 'short stories': 3.196452541703389,\n 'psychological': 2.155059856545164,\n 'corruption': 2.4974825373673704,\n 'assassin': 2.5943925503754266,\n 'Istanbul': 3.196452541703389,\n 'Beatles': 3.196452541703389,\n 'Marvel': 2.895422546039408,\n 'Nerd': 3.196452541703389,\n 'surrealism': 2.895422546039408,\n 'helena bonham carter': 2.895422546039408,\n 'political commentary': 3.196452541703389,\n 'reciprocal spectator': 2.895422546039408,\n 'poignant': 2.4974825373673704,\n 'magic board game': 3.196452541703389,\n 'annoying': 3.196452541703389,\n 'truckers': 3.196452541703389,\n 'Robert Downey Jr.': 2.895422546039408,\n 'parenthood': 3.196452541703389,\n 'engrossing adventure': 3.196452541703389,\n 'golfing': 3.196452541703389,\n 'gangsters': 2.7193312869837265,\n 'poetic': 2.895422546039408,\n 'brothers': 3.196452541703389,\n 'falling': 3.196452541703389,\n 'blood splatters': 3.196452541703389,\n 'president': 2.5943925503754266,\n 'Great movie': 3.196452541703389,\n 'saints': 3.196452541703389,\n 'Bad story': 3.196452541703389,\n 'preacher': 3.196452541703389,\n 'George Lucas': 3.196452541703389,\n 'hippies': 3.196452541703389,\n 'Something for everyone in this one... saw it without and plan on seeing it with kids!': 3.196452541703389,\n 'diner': 3.196452541703389,\n 'alternate universe': 2.895422546039408,\n 'mirrors': 3.196452541703389,\n 'John Malkovich': 3.196452541703389,\n 'violent': 2.5943925503754266,\n 'great dialogue': 2.895422546039408,\n 'slick': 2.895422546039408,\n 'Rita Hayworth can dance!': 3.196452541703389,\n 'intellectual': 2.895422546039408,\n 'winona ryder': 3.196452541703389,\n 'Existential': 3.196452541703389,\n 'adorable': 3.196452541703389,\n 'Nudity (Topless)': 3.196452541703389,\n 'reflective': 2.895422546039408,\n 'superman': 3.196452541703389,\n 'Canada': 3.196452541703389,\n 'storytelling': 3.196452541703389,\n 'Casey Affleck': 3.196452541703389,\n 'McCarthy hearings': 3.196452541703389,\n 'courtroom drama': 2.895422546039408,\n 'ben affleck': 3.196452541703389,\n 'character development': 3.196452541703389,\n 'needed more autobots': 3.196452541703389,\n 'racism': 2.2422100322640643,\n 'babies': 2.895422546039408,\n 'Well Done': 3.196452541703389,\n 'Martin Scorsese': 2.5943925503754266,\n 'cyberpunk': 2.895422546039408,\n 'Documentary': 3.196452541703389,\n 'Christina Ricci': 2.895422546039408,\n 'prom': 3.196452541703389,\n 'pulp': 3.196452541703389,\n 'suspense': 1.8954225460394079,\n 'Clock': 3.196452541703389,\n 'different': 3.196452541703389,\n 'roald dahl': 3.196452541703389,\n 'Gangs': 3.196452541703389,\n 'existentialism': 2.4974825373673704,\n 'tense': 2.2422100322640643,\n 'music': 1.9923325590474643,\n 'chess': 2.895422546039408,\n 'Jude Law': 2.895422546039408,\n 'In Netflix queue': 1.0791812460476249,\n 'Tolkein': 2.5943925503754266,\n 'drug abuse': 2.895422546039408,\n 'Johnny Cash': 3.196452541703389,\n 'dance marathon': 3.196452541703389,\n 'cynical': 2.895422546039408,\n 'Chris Evans': 2.895422546039408,\n 'remaster': 3.196452541703389,\n 'funny': 1.8347247056857963,\n 'Oscar Wilde': 3.196452541703389,\n 'obsession': 2.7193312869837265,\n 'Dickens': 2.4974825373673704,\n 'heroic bloodshed': 3.196452541703389,\n 'drug overdose': 3.196452541703389,\n 'lyrical': 2.895422546039408,\n 'shenanigans': 3.196452541703389,\n 'based on a TV show': 2.5943925503754266,\n 'Jason Segel': 3.196452541703389,\n 'purity of essence': 3.196452541703389,\n 'Adam Sandler': 2.4974825373673704,\n 'robots': 2.196452541703389,\n 'DEPRESSING': 3.196452541703389,\n 'awkward romance': 3.196452541703389,\n 'Stephen King': 2.1172712956557644,\n 'remix culture': 3.196452541703389,\n 'Charlotte Bronte': 3.196452541703389,\n 'elegant': 3.196452541703389,\n 'tragedy': 3.196452541703389,\n 'PTSD': 3.196452541703389,\n 'interesting scenario': 3.196452541703389,\n 'Japan': 2.7193312869837265,\n 'Nick Hornby': 2.895422546039408,\n 'Train': 3.196452541703389,\n 'basketball': 2.5943925503754266,\n 'big wave': 3.196452541703389,\n 'fast-paced dialogue': 3.196452541703389,\n 'boring': 2.7193312869837265,\n 'Dystopia': 3.196452541703389,\n 'police': 2.351354501689132,\n 'ben stiller': 3.196452541703389,\n 'donkey': 3.196452541703389,\n 'journalism': 2.1172712956557644,\n 'big top': 3.196452541703389,\n 'ensemble cast': 2.7193312869837265,\n 'scandal': 2.895422546039408,\n 'Charlize Theron': 2.895422546039408,\n 'con artists': 3.196452541703389,\n 'old': 3.196452541703389,\n 'reunion': 2.895422546039408,\n 'classic movie': 3.196452541703389,\n 'the Force': 3.196452541703389,\n 'nightclub': 2.7193312869837265,\n 'bubba gump shrimp': 3.196452541703389,\n 'Matt Damon': 3.196452541703389,\n 'Hearst': 3.196452541703389,\n 'bad music': 3.196452541703389,\n 'Priest': 3.196452541703389,\n 'Louisa May Alcott': 3.196452541703389,\n 'Highly quotable': 2.7193312869837265,\n 'psychology': 1.8742332469694698,\n 'alan rickman': 3.196452541703389,\n 'bad humor': 3.196452541703389,\n 'steve carell': 3.196452541703389,\n 'stupid': 3.196452541703389,\n 'Pearl S Buck': 3.196452541703389,\n 'crappy sequel': 3.196452541703389,\n 'mecha': 3.196452541703389,\n 'tom hardy': 3.196452541703389,\n 'football': 2.7193312869837265,\n 'Dan Aykroyd': 3.196452541703389,\n 'double life': 3.196452541703389,\n 'Shangri-La': 3.196452541703389,\n 'nanny': 3.196452541703389,\n 'Othello': 3.196452541703389,\n 'Star Wars': 2.895422546039408,\n 'Holocaust': 2.155059856545164,\n 'psychopaths': 2.895422546039408,\n 'kids': 3.196452541703389,\n 'Will Ferrell': 2.4974825373673704,\n 'Death': 3.196452541703389,\n 'Insurance': 3.196452541703389,\n 'slow action': 3.196452541703389,\n 'horses': 2.5943925503754266,\n 'independent film': 3.196452541703389,\n 'Dumas': 3.196452541703389,\n 'Lloyd Dobbler': 3.196452541703389,\n '1960s': 3.196452541703389,\n 'Steve Buscemi': 2.7193312869837265,\n 'holocaust': 2.895422546039408,\n 'Great Visuals': 3.196452541703389,\n 'crime scene scrubbing': 3.196452541703389,\n 'busniess': 3.196452541703389,\n 'haunting': 3.196452541703389,\n 'Doc Ock': 3.196452541703389,\n 'aardman': 3.196452541703389,\n 'southern US': 3.196452541703389,\n 'bromance': 2.895422546039408,\n 'Not Seen': 3.196452541703389,\n 'Guardians of the Galaxy': 3.196452541703389,\n 'EPIC': 2.895422546039408,\n 'shakespeare': 3.196452541703389,\n 'cult': 2.895422546039408,\n 'moody': 2.895422546039408,\n 'slavery': 3.196452541703389,\n 'motherhood': 2.7193312869837265,\n 'teachers': 3.196452541703389,\n 'spiders': 3.196452541703389,\n 'Shark': 3.196452541703389,\n 'cheeky': 3.196452541703389,\n 'remade': 2.4183012913197452,\n 'Liam Neeson': 2.7193312869837265,\n 'time travel': 1.9923325590474643,\n 'Leonardo DiCaprio': 2.196452541703389,\n 'mind-bending': 3.196452541703389,\n 'rich guy - poor girl': 3.196452541703389,\n 'Toto': 3.196452541703389,\n 'prostitution': 2.351354501689132,\n 'Colin Farrell': 3.196452541703389,\n 'Graham Greene': 2.895422546039408,\n 'Boston': 3.196452541703389,\n 'Ninotchka remake': 3.196452541703389,\n 'John Cusack': 3.196452541703389,\n 'gun-fu': 3.196452541703389,\n 'adolescence': 2.155059856545164,\n 'Amtrak': 3.196452541703389,\n 'Tolstoy': 3.196452541703389,\n 'action': 2.1172712956557644,\n 'sweet': 2.7193312869837265,\n 'alone in the world': 3.196452541703389,\n 'animal movie': 3.196452541703389,\n 'tobacco': 3.196452541703389,\n 'Civil War': 2.4974825373673704,\n 'insightful': 3.196452541703389,\n 'gun tactics': 3.196452541703389,\n 'wizards': 3.196452541703389,\n 'white guilt': 2.895422546039408,\n 'darth vader': 2.895422546039408,\n 'R language': 3.196452541703389,\n 'melancholic': 3.196452541703389,\n 'Morrow': 3.196452541703389,\n 'father-son relationship': 3.196452541703389,\n 'self discovery': 3.196452541703389,\n 'Grace': 3.196452541703389,\n 'Funny': 3.196452541703389,\n 'Thor': 3.196452541703389,\n 'singers': 3.196452541703389,\n 'historical': 3.196452541703389,\n 'Ireland': 2.4974825373673704,\n 'Bill Murray': 3.196452541703389,\n 'dating': 2.895422546039408,\n 'mental illness': 1.9923325590474643,\n '2001-like': 3.196452541703389,\n 'teenagers': 3.196452541703389,\n 'childish naivity': 3.196452541703389,\n 'interracial marriage': 3.196452541703389,\n 'mythology': 3.196452541703389,\n 'unsettling': 3.196452541703389,\n 'Bruce Willis': 2.895422546039408,\n 'financial crisis': 3.196452541703389,\n 'Will Smith': 2.895422546039408,\n 'inhumane': 3.196452541703389,\n 'Van Gogh': 3.196452541703389,\n 'halloween': 2.895422546039408,\n 'downbeat': 2.895422546039408,\n 'multiple short stories': 3.196452541703389,\n 'Police': 3.196452541703389,\n 'episodic': 3.196452541703389,\n 'genius': 3.196452541703389,\n 'The Entertainer': 3.196452541703389,\n 'Dinosaur': 3.196452541703389,\n 'unpredictable': 3.196452541703389,\n 'fast-paced': 3.196452541703389,\n 'space adventure': 3.196452541703389,\n 'great humor': 3.196452541703389,\n 'dancing': 3.196452541703389,\n 'Thrilling': 3.196452541703389,\n 'Twist Ending': 3.196452541703389,\n 'Gal Gadot': 3.196452541703389,\n 'sword fight': 3.196452541703389,\n 'Black comedy': 3.196452541703389,\n 'theater': 2.895422546039408,\n 'Dark': 3.196452541703389,\n 'Eva Green': 3.196452541703389,\n 'postmodern': 3.196452541703389,\n 'game': 3.196452541703389,\n 'swashbuckler': 2.4974825373673704,\n 'Amish': 2.895422546039408,\n 'Christoph Waltz': 2.895422546039408,\n 'Wolverine': 3.196452541703389,\n 'Dwayne Johnson': 3.196452541703389,\n 'rabbi': 3.196452541703389,\n 'Astaire and Rogers': 2.4183012913197452,\n 'meaningless violence': 3.196452541703389,\n 'androids': 3.196452541703389,\n 'Cold War': 2.7193312869837265,\n 'touching': 2.4183012913197452,\n 'passion': 3.196452541703389,\n 'Hemingway': 2.895422546039408,\n 'enjoyable': 3.196452541703389,\n 'bombs': 3.196452541703389,\n 'arthouse': 3.196452541703389,\n 'ex-con': 3.196452541703389,\n 'cult film': 2.351354501689132,\n 'smart': 2.7193312869837265,\n 'great cinematography': 3.196452541703389,\n 'Screwball': 2.7193312869837265,\n 'bizzare': 3.196452541703389,\n 'documentary': 2.895422546039408,\n 'free to download': 3.196452541703389,\n 'assassins': 3.196452541703389,\n 'Watergate': 3.196452541703389,\n 'Eccentric': 3.196452541703389,\n 'Backwards. memory': 3.196452541703389,\n 'good music': 3.196452541703389,\n 'space craft': 3.196452541703389,\n 'TV': 2.895422546039408,\n 'Insanity': 3.196452541703389,\n 'unexplained': 3.196452541703389,\n 'meditative': 2.895422546039408,\n 'spelling bee': 3.196452541703389,\n 'free speech': 3.196452541703389,\n 'masterpiece': 2.7193312869837265,\n 'confusing ending': 3.196452541703389,\n 'terminal illness': 2.7193312869837265,\n 'Magneto': 3.196452541703389,\n 'space travel': 2.895422546039408,\n 'assassination': 2.351354501689132,\n 'freedom of expression': 3.196452541703389,\n 'widows/widowers': 2.895422546039408,\n 'Crude humor': 3.196452541703389,\n 'Peta Wilson': 3.196452541703389,\n 'stand-up comedy': 3.196452541703389,\n 'original plot': 2.895422546039408,\n 'scifi': 3.196452541703389,\n 'bad language': 3.196452541703389,\n 'magic': 3.196452541703389,\n 'President': 3.196452541703389,\n 'eerie': 2.895422546039408,\n 'Teen movie': 3.196452541703389,\n 'genocide': 3.196452541703389,\n 'Oscar (Best Music - Original Score)': 3.196452541703389,\n 'business': 2.4183012913197452,\n 'Peace Corp': 3.196452541703389,\n 'video games': 3.196452541703389,\n 'I see dead people': 3.196452541703389,\n 'missing children': 3.196452541703389,\n 'cross dressing': 2.4974825373673704,\n 'humane': 3.196452541703389,\n 'Natalie Portman': 3.196452541703389,\n 'prodigies': 3.196452541703389,\n 'sex': 3.196452541703389,\n 'deadpan': 3.196452541703389,\n 'Comedy': 2.5943925503754266,\n 'awesome': 2.895422546039408,\n 'tragic': 2.895422546039408,\n 'Europe': 2.895422546039408,\n 'beautifully filmed': 3.196452541703389,\n 'Cerebral': 3.196452541703389,\n 'wrongful imprisonment': 3.196452541703389,\n 'stop looking at me swan': 3.196452541703389,\n 'visually appealing': 1.9176989407505602,\n 'Middle East': 3.196452541703389,\n 'dumpster diving': 3.196452541703389,\n 'Mark Wahlberg': 3.196452541703389,\n 'Slim Pickens': 3.196452541703389,\n 'Hungary': 3.196452541703389,\n 'Huey Long': 3.196452541703389,\n 'Tim Burton': 2.7193312869837265,\n 'south park': 3.196452541703389,\n 'Conan': 3.196452541703389,\n 'great performances': 3.196452541703389,\n 'slow': 3.196452541703389,\n 'franchise': 3.196452541703389,\n 'Pee Wee Herman': 3.196452541703389,\n 'archaeology': 2.5943925503754266,\n 'nightmare': 3.196452541703389,\n 'Mafia': 2.196452541703389,\n 'killer-as-protagonist': 3.196452541703389,\n 'Ben Kingsley': 3.196452541703389,\n 'weddings': 2.895422546039408,\n 'Russia': 3.196452541703389,\n 'Christopher Lloyd': 2.895422546039408,\n 'computers': 3.196452541703389,\n 'heartwarming': 2.2933625547114453,\n 'mobster': 3.196452541703389,\n 'secrets': 3.196452541703389,\n 'twisted': 3.196452541703389,\n 'police corruption': 3.196452541703389,\n 'California': 3.196452541703389,\n 'drama': 2.7193312869837265,\n 'Moving': 3.196452541703389,\n 'anime': 2.1172712956557644,\n 'incest': 3.196452541703389,\n 'governess': 3.196452541703389,\n 'golden watch': 3.196452541703389,\n 'Hal': 3.196452541703389,\n 'Halle Berry': 3.196452541703389,\n 'Suspense': 3.196452541703389,\n 'Hawkeye': 3.196452541703389,\n 'David Bowie': 3.196452541703389,\n 'Michael Crichton': 3.196452541703389,\n 'Tilda Swinton': 3.196452541703389,\n 'tension building': 3.196452541703389,\n 'mathematics': 2.7193312869837265,\n 'Wesley Snipes': 3.196452541703389,\n 'black and white': 2.4183012913197452,\n 'survival': 2.5943925503754266,\n 'assassin-in-training (scene)': 3.196452541703389,\n 'r:violence': 3.196452541703389,\n 'casino': 3.196452541703389,\n 'Jack Nicholson': 3.196452541703389,\n 'nerds': 3.196452541703389,\n 'Ed Harris': 3.196452541703389,\n 'confrontational': 2.895422546039408,\n 'pool': 3.196452541703389,\n 'prejudice': 3.196452541703389,\n 'Al Pacino': 2.4974825373673704,\n 'James Franco': 2.895422546039408,\n 'multiple roles': 3.196452541703389,\n 'bus': 3.196452541703389,\n 'post apocalyptic': 3.196452541703389,\n 'poorly paced': 3.196452541703389,\n 'harsh': 2.895422546039408,\n 'amazing dialogues': 3.196452541703389,\n 'hugh jackman': 2.895422546039408,\n 'solitude': 3.196452541703389,\n 'Jesse Eisenberg': 3.196452541703389,\n 'characters': 2.895422546039408,\n 'bible': 3.196452541703389,\n 'character study': 2.895422546039408,\n 'dreams': 3.196452541703389,\n 'imaginative': 3.196452541703389,\n 'Atmospheric': 2.4974825373673704,\n 'wedding': 2.4183012913197452,\n 'revenge': 2.2933625547114453,\n 'Dull': 3.196452541703389,\n 'live action/animation': 3.196452541703389,\n 'writing': 2.7193312869837265,\n 'Quotable': 3.196452541703389,\n 'Thanos': 3.196452541703389,\n 'cheesy': 3.196452541703389,\n 'Bittersweet': 2.895422546039408,\n 'Monty Python': 3.196452541703389,\n 'bad-ass': 3.196452541703389,\n 'sisterhood': 3.196452541703389,\n 'grim': 3.196452541703389,\n 'beautiful scenery': 2.895422546039408,\n 'George Clooney': 3.196452541703389,\n 'Hugh Jackman': 2.895422546039408,\n 'non-linear': 2.895422546039408,\n 'modern fantasy': 3.196452541703389,\n 'mediacentralism': 3.196452541703389,\n 'classic sci-fi': 2.7193312869837265,\n 'humour': 3.196452541703389,\n 'muppets': 3.196452541703389,\n 'drugs & music': 3.196452541703389,\n 'Academy award (Best Supporting Actress)': 3.196452541703389,\n 'Jennifer Lawrence': 3.196452541703389,\n 'mice': 3.196452541703389,\n 'alter ego': 3.196452541703389,\n 'coke': 3.196452541703389,\n '2D animation': 3.196452541703389,\n 'post-college': 3.196452541703389,\n 'brutality': 2.7193312869837265,\n 'carnival': 3.196452541703389,\n 'Post apocalyptic': 2.5943925503754266,\n 'bloody': 2.7193312869837265,\n 'priest': 2.7193312869837265,\n 'lion': 3.196452541703389,\n 'child abuse': 2.7193312869837265,\n 'ending': 3.196452541703389,\n 'Simon Pegg': 3.196452541703389,\n 'thriller': 2.4974825373673704,\n 'technology': 3.196452541703389,\n 'intimate': 3.196452541703389,\n 'Enterprise': 3.196452541703389,\n 'unintelligent': 3.196452541703389,\n 'seen at the cinema': 3.196452541703389,\n ...}"
     },
     "execution_count": 40,
     "metadata": {},
     "output_type": "execute_result"
    }
   ],
   "source": [
    "# Compute IDF for tag\n",
    "total_movie_count = len(set(tags_df['movieId']))\n",
    "# key: tag, value: number of movies with such tag\n",
    "tag_count_dict = dict.fromkeys(unique_tags)\n",
    "\n",
    "for each_movie_tag_list in tags_df['tag']:\n",
    "    for tag in each_movie_tag_list.split(\",\"):\n",
    "        if tag_count_dict[tag.strip()] == None:\n",
    "            tag_count_dict[tag.strip()] = 1\n",
    "        else:\n",
    "            tag_count_dict[tag.strip()] += 1\n",
    "\n",
    "tag_idf = dict()\n",
    "for each_tag in tag_count_dict:\n",
    "    tag_idf[each_tag] = np.log10(total_movie_count / tag_count_dict[each_tag])\n",
    "\n",
    "tag_idf"
   ],
   "metadata": {
    "collapsed": false,
    "pycharm": {
     "name": "#%%\n"
    }
   }
  },
  {
   "cell_type": "code",
   "execution_count": 41,
   "outputs": [
    {
     "data": {
      "text/plain": "1589"
     },
     "execution_count": 41,
     "metadata": {},
     "output_type": "execute_result"
    }
   ],
   "source": [
    "len(tag_idf.keys())"
   ],
   "metadata": {
    "collapsed": false,
    "pycharm": {
     "name": "#%%\n"
    }
   }
  }
 ],
 "metadata": {
  "kernelspec": {
   "name": "conda-env-rc-py",
   "language": "python",
   "display_name": "Python [conda env:rc] *"
  },
  "language_info": {
   "codemirror_mode": {
    "name": "ipython",
    "version": 2
   },
   "file_extension": ".py",
   "mimetype": "text/x-python",
   "name": "python",
   "nbconvert_exporter": "python",
   "pygments_lexer": "ipython2",
   "version": "2.7.6"
  }
 },
 "nbformat": 4,
 "nbformat_minor": 0
}