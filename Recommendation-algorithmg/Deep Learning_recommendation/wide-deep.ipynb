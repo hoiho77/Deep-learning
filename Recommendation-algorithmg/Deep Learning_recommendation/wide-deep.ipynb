{
 "cells": [
  {
   "cell_type": "code",
   "execution_count": null,
   "metadata": {
    "collapsed": true
   },
   "outputs": [],
   "source": [
    "!pip install pytorch-widedeep"
   ]
  },
  {
   "cell_type": "code",
   "execution_count": 2,
   "outputs": [],
   "source": [
    "import os\n",
    "import pandas as pd\n",
    "import numpy as np\n",
    "from sklearn.model_selection import train_test_split"
   ],
   "metadata": {
    "collapsed": false,
    "pycharm": {
     "name": "#%%\n"
    }
   }
  },
  {
   "cell_type": "code",
   "execution_count": 13,
   "outputs": [
    {
     "name": "stdout",
     "output_type": "stream",
     "text": [
      "C:\\Users\\Jamie\\j_notebook\n"
     ]
    }
   ],
   "source": [
    "# Korean Movie Recommender system Dataset\n",
    "# https://github.com/lovit/kmrd\n",
    "\n",
    "data_path = \"C:/Users/kt NexR/PycharmProjects/Recommendation-algorithms/Deep Learning_recommendation/data/kmrd-master\"\n",
    "print (os.getcwd()) #현재 경로 출력"
   ],
   "metadata": {
    "collapsed": false,
    "pycharm": {
     "name": "#%%\n"
    }
   }
  },
  {
   "cell_type": "code",
   "execution_count": 14,
   "outputs": [
    {
     "name": "stdout",
     "output_type": "stream",
     "text": [
      "data and path already exists!\n"
     ]
    }
   ],
   "source": [
    "if not os.path.exists(data_path):\n",
    "  !git clone https://github.com/lovit/kmrd\n",
    "  !python setup.py install\n",
    "else:\n",
    "  print(\"data and path already exists!\")\n",
    "\n",
    "path = data_path + '/kmr_dataset/datafile/kmrd-small'"
   ],
   "metadata": {
    "collapsed": false,
    "pycharm": {
     "name": "#%%\n"
    }
   }
  },
  {
   "cell_type": "code",
   "execution_count": 15,
   "outputs": [],
   "source": [
    "df = pd.read_csv(path+'/rates.csv')\n",
    "train_df, val_df = train_test_split(df, test_size=0.2, random_state=1234, shuffle=True)"
   ],
   "metadata": {
    "collapsed": false,
    "pycharm": {
     "name": "#%%\n"
    }
   }
  },
  {
   "cell_type": "code",
   "execution_count": 17,
   "outputs": [
    {
     "data": {
      "text/plain": "(112568, 4)"
     },
     "execution_count": 17,
     "metadata": {},
     "output_type": "execute_result"
    }
   ],
   "source": [
    "train_df.shape"
   ],
   "metadata": {
    "collapsed": false,
    "pycharm": {
     "name": "#%%\n"
    }
   }
  },
  {
   "cell_type": "code",
   "execution_count": 18,
   "outputs": [],
   "source": [
    "train_df = train_df[:1000]"
   ],
   "metadata": {
    "collapsed": false,
    "pycharm": {
     "name": "#%%\n"
    }
   }
  },
  {
   "cell_type": "code",
   "execution_count": 19,
   "outputs": [
    {
     "name": "stdout",
     "output_type": "stream",
     "text": [
      "(999, 7)\n",
      "                      title                           title_eng    year  \\\n",
      "movie                                                                     \n",
      "10001                시네마 천국              Cinema Paradiso , 1988  2013.0   \n",
      "10002              빽 투 더 퓨쳐           Back To The Future , 1985  2015.0   \n",
      "10003            빽 투 더 퓨쳐 2    Back To The Future Part 2 , 1989  2015.0   \n",
      "10004            빽 투 더 퓨쳐 3  Back To The Future Part III , 1990  1990.0   \n",
      "10005  스타워즈 에피소드 4 - 새로운 희망                    Star Wars , 1977  1997.0   \n",
      "\n",
      "         grade         genres  \\\n",
      "movie                           \n",
      "10001   전체 관람가     드라마/멜로/로맨스   \n",
      "10002  12세 관람가         SF/코미디   \n",
      "10003  12세 관람가         SF/코미디   \n",
      "10004   전체 관람가  서부/SF/판타지/코미디   \n",
      "10005       PG   판타지/모험/SF/액션   \n",
      "\n",
      "                                                  people   country  \n",
      "movie                                                               \n",
      "10001  [4374, 178, 3241, 47952, 47953, 19538, 18991, ...  이탈리아,프랑스  \n",
      "10002    [1076, 4603, 917, 8637, 5104, 9986, 7470, 9987]        미국  \n",
      "10003  [1076, 4603, 917, 5104, 391, 5106, 5105, 5107,...        미국  \n",
      "10004  [1076, 4603, 1031, 5104, 10001, 5984, 10002, 1...        미국  \n",
      "10005                         [1007, 535, 215, 1236, 35]        미국  \n"
     ]
    }
   ],
   "source": [
    "# Load all related dataframe\n",
    "movies_df = pd.read_csv(os.path.join(path, 'movies.txt'), sep='\\t', encoding='utf-8')\n",
    "movies_df = movies_df.set_index('movie')\n",
    "\n",
    "castings_df = pd.read_csv(os.path.join(path, 'castings.csv'), encoding='utf-8')\n",
    "countries_df = pd.read_csv(os.path.join(path, 'countries.csv'), encoding='utf-8')\n",
    "genres_df = pd.read_csv(os.path.join(path, 'genres.csv'), encoding='utf-8')\n",
    "\n",
    "# Get genre information\n",
    "genres = [(list(set(x['movie'].values))[0], '/'.join(x['genre'].values)) for index, x in genres_df.groupby('movie')]\n",
    "combined_genres_df = pd.DataFrame(data=genres, columns=['movie', 'genres'])\n",
    "combined_genres_df = combined_genres_df.set_index('movie')\n",
    "\n",
    "# Get castings information\n",
    "castings = [(list(set(x['movie'].values))[0], x['people'].values) for index, x in castings_df.groupby('movie')]\n",
    "combined_castings_df = pd.DataFrame(data=castings, columns=['movie','people'])\n",
    "combined_castings_df = combined_castings_df.set_index('movie')\n",
    "\n",
    "# Get countries for movie information\n",
    "countries = [(list(set(x['movie'].values))[0], ','.join(x['country'].values)) for index, x in countries_df.groupby('movie')]\n",
    "combined_countries_df = pd.DataFrame(data=countries, columns=['movie', 'country'])\n",
    "combined_countries_df = combined_countries_df.set_index('movie')\n",
    "\n",
    "movies_df = pd.concat([movies_df, combined_genres_df, combined_castings_df, combined_countries_df], axis=1)\n",
    "\n",
    "print(movies_df.shape)\n",
    "print(movies_df.head())"
   ],
   "metadata": {
    "collapsed": false,
    "pycharm": {
     "name": "#%%\n"
    }
   }
  },
  {
   "cell_type": "code",
   "execution_count": 20,
   "outputs": [
    {
     "data": {
      "text/plain": "Index(['title', 'title_eng', 'year', 'grade', 'genres', 'people', 'country'], dtype='object')"
     },
     "execution_count": 20,
     "metadata": {},
     "output_type": "execute_result"
    }
   ],
   "source": [
    "movies_df.columns"
   ],
   "metadata": {
    "collapsed": false,
    "pycharm": {
     "name": "#%%\n"
    }
   }
  },
  {
   "cell_type": "code",
   "execution_count": 39,
   "outputs": [
    {
     "name": "stderr",
     "output_type": "stream",
     "text": [
      "C:\\ProgramData\\Anaconda3\\envs\\rc\\lib\\site-packages\\ipykernel\\ipkernel.py:287: DeprecationWarning: `should_run_async` will not call `transform_cell` automatically in the future. Please pass the result to `transformed_cell` argument and any exception that happen during thetransform in `preprocessing_exc_tuple` in IPython 7.17 and above.\n",
      "  and should_run_async(code)\n"
     ]
    },
    {
     "data": {
      "text/plain": "        SF  가족  공포  느와르  다큐멘터리  드라마  로맨스  멜로  모험  뮤지컬  ...  범죄  서부  서사  스릴러  \\\n137023   0   0   0    0      0    1    1   1   0    0  ...   0   0   0    0   \n92868    0   0   0    0      0    0    0   0   0    0  ...   0   0   0    0   \n94390    0   0   0    0      0    1    0   0   0    0  ...   0   0   0    0   \n22289    0   0   0    0      0    1    1   1   0    0  ...   0   0   0    0   \n80155    0   0   0    0      0    1    0   0   0    0  ...   0   0   0    0   \n\n        애니메이션  액션  에로  전쟁  코미디  판타지  \n137023      0   0   0   0    0    0  \n92868       0   1   0   0    0    0  \n94390       0   0   0   0    0    0  \n22289       0   0   0   0    0    0  \n80155       0   1   0   0    0    0  \n\n[5 rows x 21 columns]",
      "text/html": "<div>\n<style scoped>\n    .dataframe tbody tr th:only-of-type {\n        vertical-align: middle;\n    }\n\n    .dataframe tbody tr th {\n        vertical-align: top;\n    }\n\n    .dataframe thead th {\n        text-align: right;\n    }\n</style>\n<table border=\"1\" class=\"dataframe\">\n  <thead>\n    <tr style=\"text-align: right;\">\n      <th></th>\n      <th>SF</th>\n      <th>가족</th>\n      <th>공포</th>\n      <th>느와르</th>\n      <th>다큐멘터리</th>\n      <th>드라마</th>\n      <th>로맨스</th>\n      <th>멜로</th>\n      <th>모험</th>\n      <th>뮤지컬</th>\n      <th>...</th>\n      <th>범죄</th>\n      <th>서부</th>\n      <th>서사</th>\n      <th>스릴러</th>\n      <th>애니메이션</th>\n      <th>액션</th>\n      <th>에로</th>\n      <th>전쟁</th>\n      <th>코미디</th>\n      <th>판타지</th>\n    </tr>\n  </thead>\n  <tbody>\n    <tr>\n      <th>137023</th>\n      <td>0</td>\n      <td>0</td>\n      <td>0</td>\n      <td>0</td>\n      <td>0</td>\n      <td>1</td>\n      <td>1</td>\n      <td>1</td>\n      <td>0</td>\n      <td>0</td>\n      <td>...</td>\n      <td>0</td>\n      <td>0</td>\n      <td>0</td>\n      <td>0</td>\n      <td>0</td>\n      <td>0</td>\n      <td>0</td>\n      <td>0</td>\n      <td>0</td>\n      <td>0</td>\n    </tr>\n    <tr>\n      <th>92868</th>\n      <td>0</td>\n      <td>0</td>\n      <td>0</td>\n      <td>0</td>\n      <td>0</td>\n      <td>0</td>\n      <td>0</td>\n      <td>0</td>\n      <td>0</td>\n      <td>0</td>\n      <td>...</td>\n      <td>0</td>\n      <td>0</td>\n      <td>0</td>\n      <td>0</td>\n      <td>0</td>\n      <td>1</td>\n      <td>0</td>\n      <td>0</td>\n      <td>0</td>\n      <td>0</td>\n    </tr>\n    <tr>\n      <th>94390</th>\n      <td>0</td>\n      <td>0</td>\n      <td>0</td>\n      <td>0</td>\n      <td>0</td>\n      <td>1</td>\n      <td>0</td>\n      <td>0</td>\n      <td>0</td>\n      <td>0</td>\n      <td>...</td>\n      <td>0</td>\n      <td>0</td>\n      <td>0</td>\n      <td>0</td>\n      <td>0</td>\n      <td>0</td>\n      <td>0</td>\n      <td>0</td>\n      <td>0</td>\n      <td>0</td>\n    </tr>\n    <tr>\n      <th>22289</th>\n      <td>0</td>\n      <td>0</td>\n      <td>0</td>\n      <td>0</td>\n      <td>0</td>\n      <td>1</td>\n      <td>1</td>\n      <td>1</td>\n      <td>0</td>\n      <td>0</td>\n      <td>...</td>\n      <td>0</td>\n      <td>0</td>\n      <td>0</td>\n      <td>0</td>\n      <td>0</td>\n      <td>0</td>\n      <td>0</td>\n      <td>0</td>\n      <td>0</td>\n      <td>0</td>\n    </tr>\n    <tr>\n      <th>80155</th>\n      <td>0</td>\n      <td>0</td>\n      <td>0</td>\n      <td>0</td>\n      <td>0</td>\n      <td>1</td>\n      <td>0</td>\n      <td>0</td>\n      <td>0</td>\n      <td>0</td>\n      <td>...</td>\n      <td>0</td>\n      <td>0</td>\n      <td>0</td>\n      <td>0</td>\n      <td>0</td>\n      <td>1</td>\n      <td>0</td>\n      <td>0</td>\n      <td>0</td>\n      <td>0</td>\n    </tr>\n  </tbody>\n</table>\n<p>5 rows × 21 columns</p>\n</div>"
     },
     "execution_count": 39,
     "metadata": {},
     "output_type": "execute_result"
    }
   ],
   "source": [
    "dummy_genres_df = movies_df['genres'].str.get_dummies(sep='/')\n",
    "train_genres_df = train_df['movie'].apply(lambda x: dummy_genres_df.loc[x])\n",
    "train_genres_df.head()"
   ],
   "metadata": {
    "collapsed": false,
    "pycharm": {
     "name": "#%%\n"
    }
   }
  },
  {
   "cell_type": "code",
   "execution_count": 40,
   "outputs": [
    {
     "name": "stderr",
     "output_type": "stream",
     "text": [
      "C:\\ProgramData\\Anaconda3\\envs\\rc\\lib\\site-packages\\ipykernel\\ipkernel.py:287: DeprecationWarning: `should_run_async` will not call `transform_cell` automatically in the future. Please pass the result to `transformed_cell` argument and any exception that happen during thetransform in `preprocessing_exc_tuple` in IPython 7.17 and above.\n",
      "  and should_run_async(code)\n"
     ]
    },
    {
     "data": {
      "text/plain": "        grade_12세 관람가  grade_15세 관람가  grade_G  grade_NR  grade_PG  \\\n137023              1              0        0         0         0   \n92868               0              0        0         0         1   \n94390               1              0        0         0         0   \n22289               0              0        0         0         0   \n80155               1              0        0         0         0   \n\n        grade_PG-13  grade_R  grade_전체 관람가  grade_청소년 관람불가  \n137023            0        0             0               0  \n92868             0        0             0               0  \n94390             0        0             0               0  \n22289             0        0             1               0  \n80155             0        0             0               0  ",
      "text/html": "<div>\n<style scoped>\n    .dataframe tbody tr th:only-of-type {\n        vertical-align: middle;\n    }\n\n    .dataframe tbody tr th {\n        vertical-align: top;\n    }\n\n    .dataframe thead th {\n        text-align: right;\n    }\n</style>\n<table border=\"1\" class=\"dataframe\">\n  <thead>\n    <tr style=\"text-align: right;\">\n      <th></th>\n      <th>grade_12세 관람가</th>\n      <th>grade_15세 관람가</th>\n      <th>grade_G</th>\n      <th>grade_NR</th>\n      <th>grade_PG</th>\n      <th>grade_PG-13</th>\n      <th>grade_R</th>\n      <th>grade_전체 관람가</th>\n      <th>grade_청소년 관람불가</th>\n    </tr>\n  </thead>\n  <tbody>\n    <tr>\n      <th>137023</th>\n      <td>1</td>\n      <td>0</td>\n      <td>0</td>\n      <td>0</td>\n      <td>0</td>\n      <td>0</td>\n      <td>0</td>\n      <td>0</td>\n      <td>0</td>\n    </tr>\n    <tr>\n      <th>92868</th>\n      <td>0</td>\n      <td>0</td>\n      <td>0</td>\n      <td>0</td>\n      <td>1</td>\n      <td>0</td>\n      <td>0</td>\n      <td>0</td>\n      <td>0</td>\n    </tr>\n    <tr>\n      <th>94390</th>\n      <td>1</td>\n      <td>0</td>\n      <td>0</td>\n      <td>0</td>\n      <td>0</td>\n      <td>0</td>\n      <td>0</td>\n      <td>0</td>\n      <td>0</td>\n    </tr>\n    <tr>\n      <th>22289</th>\n      <td>0</td>\n      <td>0</td>\n      <td>0</td>\n      <td>0</td>\n      <td>0</td>\n      <td>0</td>\n      <td>0</td>\n      <td>1</td>\n      <td>0</td>\n    </tr>\n    <tr>\n      <th>80155</th>\n      <td>1</td>\n      <td>0</td>\n      <td>0</td>\n      <td>0</td>\n      <td>0</td>\n      <td>0</td>\n      <td>0</td>\n      <td>0</td>\n      <td>0</td>\n    </tr>\n  </tbody>\n</table>\n</div>"
     },
     "execution_count": 40,
     "metadata": {},
     "output_type": "execute_result"
    }
   ],
   "source": [
    "dummy_grade_df = pd.get_dummies(movies_df['grade'], prefix='grade')\n",
    "train_grade_df = train_df['movie'].apply(lambda x: dummy_grade_df.loc[x])\n",
    "train_grade_df.head()"
   ],
   "metadata": {
    "collapsed": false,
    "pycharm": {
     "name": "#%%\n"
    }
   }
  },
  {
   "cell_type": "code",
   "execution_count": 41,
   "outputs": [
    {
     "name": "stderr",
     "output_type": "stream",
     "text": [
      "C:\\ProgramData\\Anaconda3\\envs\\rc\\lib\\site-packages\\ipykernel\\ipkernel.py:287: DeprecationWarning: `should_run_async` will not call `transform_cell` automatically in the future. Please pass the result to `transformed_cell` argument and any exception that happen during thetransform in `preprocessing_exc_tuple` in IPython 7.17 and above.\n",
      "  and should_run_async(code)\n"
     ]
    },
    {
     "data": {
      "text/plain": "         user  movie  rate        time    year  grade_12세 관람가  grade_15세 관람가  \\\n137023  48423  10764    10  1212241560  1987.0              1              0   \n92868   17307  10170    10  1122185220  1985.0              0              0   \n94390   18180  10048    10  1573403460  2016.0              1              0   \n22289    1498  10001     9  1432684500  2013.0              0              0   \n80155   12541  10022    10  1370458140  1980.0              1              0   \n...       ...    ...   ...         ...     ...            ...            ...   \n2870       86  10334    10  1258175340  1998.0              1              0   \n120892  34595  10200    10  1571998620  2019.0              0              1   \n93371   17597  10048    10  1359533220  2016.0              1              0   \n58284    6588  10249    10  1090721280  2015.0              0              0   \n4595      136  10242     9  1466413320  2007.0              0              1   \n\n        grade_G  grade_NR  grade_PG  ...  범죄  서부  서사  스릴러  애니메이션  액션  에로  전쟁  \\\n137023        0         0         0  ...   0   0   0    0      0   0   0   0   \n92868         0         0         1  ...   0   0   0    0      0   1   0   0   \n94390         0         0         0  ...   0   0   0    0      0   0   0   0   \n22289         0         0         0  ...   0   0   0    0      0   0   0   0   \n80155         0         0         0  ...   0   0   0    0      0   1   0   0   \n...         ...       ...       ...  ...  ..  ..  ..  ...    ...  ..  ..  ..   \n2870          0         0         0  ...   0   0   0    0      0   0   0   1   \n120892        0         0         0  ...   0   0   0    1      0   1   0   0   \n93371         0         0         0  ...   0   0   0    0      0   0   0   0   \n58284         0         0         0  ...   0   0   0    0      0   0   0   0   \n4595          0         0         0  ...   0   0   0    0      0   0   0   0   \n\n        코미디  판타지  \n137023    0    0  \n92868     0    0  \n94390     0    0  \n22289     0    0  \n80155     0    0  \n...     ...  ...  \n2870      0    0  \n120892    0    0  \n93371     0    0  \n58284     1    0  \n4595      0    0  \n\n[1000 rows x 35 columns]",
      "text/html": "<div>\n<style scoped>\n    .dataframe tbody tr th:only-of-type {\n        vertical-align: middle;\n    }\n\n    .dataframe tbody tr th {\n        vertical-align: top;\n    }\n\n    .dataframe thead th {\n        text-align: right;\n    }\n</style>\n<table border=\"1\" class=\"dataframe\">\n  <thead>\n    <tr style=\"text-align: right;\">\n      <th></th>\n      <th>user</th>\n      <th>movie</th>\n      <th>rate</th>\n      <th>time</th>\n      <th>year</th>\n      <th>grade_12세 관람가</th>\n      <th>grade_15세 관람가</th>\n      <th>grade_G</th>\n      <th>grade_NR</th>\n      <th>grade_PG</th>\n      <th>...</th>\n      <th>범죄</th>\n      <th>서부</th>\n      <th>서사</th>\n      <th>스릴러</th>\n      <th>애니메이션</th>\n      <th>액션</th>\n      <th>에로</th>\n      <th>전쟁</th>\n      <th>코미디</th>\n      <th>판타지</th>\n    </tr>\n  </thead>\n  <tbody>\n    <tr>\n      <th>137023</th>\n      <td>48423</td>\n      <td>10764</td>\n      <td>10</td>\n      <td>1212241560</td>\n      <td>1987.0</td>\n      <td>1</td>\n      <td>0</td>\n      <td>0</td>\n      <td>0</td>\n      <td>0</td>\n      <td>...</td>\n      <td>0</td>\n      <td>0</td>\n      <td>0</td>\n      <td>0</td>\n      <td>0</td>\n      <td>0</td>\n      <td>0</td>\n      <td>0</td>\n      <td>0</td>\n      <td>0</td>\n    </tr>\n    <tr>\n      <th>92868</th>\n      <td>17307</td>\n      <td>10170</td>\n      <td>10</td>\n      <td>1122185220</td>\n      <td>1985.0</td>\n      <td>0</td>\n      <td>0</td>\n      <td>0</td>\n      <td>0</td>\n      <td>1</td>\n      <td>...</td>\n      <td>0</td>\n      <td>0</td>\n      <td>0</td>\n      <td>0</td>\n      <td>0</td>\n      <td>1</td>\n      <td>0</td>\n      <td>0</td>\n      <td>0</td>\n      <td>0</td>\n    </tr>\n    <tr>\n      <th>94390</th>\n      <td>18180</td>\n      <td>10048</td>\n      <td>10</td>\n      <td>1573403460</td>\n      <td>2016.0</td>\n      <td>1</td>\n      <td>0</td>\n      <td>0</td>\n      <td>0</td>\n      <td>0</td>\n      <td>...</td>\n      <td>0</td>\n      <td>0</td>\n      <td>0</td>\n      <td>0</td>\n      <td>0</td>\n      <td>0</td>\n      <td>0</td>\n      <td>0</td>\n      <td>0</td>\n      <td>0</td>\n    </tr>\n    <tr>\n      <th>22289</th>\n      <td>1498</td>\n      <td>10001</td>\n      <td>9</td>\n      <td>1432684500</td>\n      <td>2013.0</td>\n      <td>0</td>\n      <td>0</td>\n      <td>0</td>\n      <td>0</td>\n      <td>0</td>\n      <td>...</td>\n      <td>0</td>\n      <td>0</td>\n      <td>0</td>\n      <td>0</td>\n      <td>0</td>\n      <td>0</td>\n      <td>0</td>\n      <td>0</td>\n      <td>0</td>\n      <td>0</td>\n    </tr>\n    <tr>\n      <th>80155</th>\n      <td>12541</td>\n      <td>10022</td>\n      <td>10</td>\n      <td>1370458140</td>\n      <td>1980.0</td>\n      <td>1</td>\n      <td>0</td>\n      <td>0</td>\n      <td>0</td>\n      <td>0</td>\n      <td>...</td>\n      <td>0</td>\n      <td>0</td>\n      <td>0</td>\n      <td>0</td>\n      <td>0</td>\n      <td>1</td>\n      <td>0</td>\n      <td>0</td>\n      <td>0</td>\n      <td>0</td>\n    </tr>\n    <tr>\n      <th>...</th>\n      <td>...</td>\n      <td>...</td>\n      <td>...</td>\n      <td>...</td>\n      <td>...</td>\n      <td>...</td>\n      <td>...</td>\n      <td>...</td>\n      <td>...</td>\n      <td>...</td>\n      <td>...</td>\n      <td>...</td>\n      <td>...</td>\n      <td>...</td>\n      <td>...</td>\n      <td>...</td>\n      <td>...</td>\n      <td>...</td>\n      <td>...</td>\n      <td>...</td>\n      <td>...</td>\n    </tr>\n    <tr>\n      <th>2870</th>\n      <td>86</td>\n      <td>10334</td>\n      <td>10</td>\n      <td>1258175340</td>\n      <td>1998.0</td>\n      <td>1</td>\n      <td>0</td>\n      <td>0</td>\n      <td>0</td>\n      <td>0</td>\n      <td>...</td>\n      <td>0</td>\n      <td>0</td>\n      <td>0</td>\n      <td>0</td>\n      <td>0</td>\n      <td>0</td>\n      <td>0</td>\n      <td>1</td>\n      <td>0</td>\n      <td>0</td>\n    </tr>\n    <tr>\n      <th>120892</th>\n      <td>34595</td>\n      <td>10200</td>\n      <td>10</td>\n      <td>1571998620</td>\n      <td>2019.0</td>\n      <td>0</td>\n      <td>1</td>\n      <td>0</td>\n      <td>0</td>\n      <td>0</td>\n      <td>...</td>\n      <td>0</td>\n      <td>0</td>\n      <td>0</td>\n      <td>1</td>\n      <td>0</td>\n      <td>1</td>\n      <td>0</td>\n      <td>0</td>\n      <td>0</td>\n      <td>0</td>\n    </tr>\n    <tr>\n      <th>93371</th>\n      <td>17597</td>\n      <td>10048</td>\n      <td>10</td>\n      <td>1359533220</td>\n      <td>2016.0</td>\n      <td>1</td>\n      <td>0</td>\n      <td>0</td>\n      <td>0</td>\n      <td>0</td>\n      <td>...</td>\n      <td>0</td>\n      <td>0</td>\n      <td>0</td>\n      <td>0</td>\n      <td>0</td>\n      <td>0</td>\n      <td>0</td>\n      <td>0</td>\n      <td>0</td>\n      <td>0</td>\n    </tr>\n    <tr>\n      <th>58284</th>\n      <td>6588</td>\n      <td>10249</td>\n      <td>10</td>\n      <td>1090721280</td>\n      <td>2015.0</td>\n      <td>0</td>\n      <td>0</td>\n      <td>0</td>\n      <td>0</td>\n      <td>0</td>\n      <td>...</td>\n      <td>0</td>\n      <td>0</td>\n      <td>0</td>\n      <td>0</td>\n      <td>0</td>\n      <td>0</td>\n      <td>0</td>\n      <td>0</td>\n      <td>1</td>\n      <td>0</td>\n    </tr>\n    <tr>\n      <th>4595</th>\n      <td>136</td>\n      <td>10242</td>\n      <td>9</td>\n      <td>1466413320</td>\n      <td>2007.0</td>\n      <td>0</td>\n      <td>1</td>\n      <td>0</td>\n      <td>0</td>\n      <td>0</td>\n      <td>...</td>\n      <td>0</td>\n      <td>0</td>\n      <td>0</td>\n      <td>0</td>\n      <td>0</td>\n      <td>0</td>\n      <td>0</td>\n      <td>0</td>\n      <td>0</td>\n      <td>0</td>\n    </tr>\n  </tbody>\n</table>\n<p>1000 rows × 35 columns</p>\n</div>"
     },
     "execution_count": 41,
     "metadata": {},
     "output_type": "execute_result"
    }
   ],
   "source": [
    "train_df['year'] = train_df.apply(lambda x: movies_df.loc[x['movie']]['year'], axis=1)"
   ],
   "metadata": {
    "collapsed": false,
    "pycharm": {
     "name": "#%%\n"
    }
   }
  },
  {
   "cell_type": "code",
   "execution_count": 42,
   "outputs": [
    {
     "name": "stderr",
     "output_type": "stream",
     "text": [
      "C:\\ProgramData\\Anaconda3\\envs\\rc\\lib\\site-packages\\ipykernel\\ipkernel.py:287: DeprecationWarning: `should_run_async` will not call `transform_cell` automatically in the future. Please pass the result to `transformed_cell` argument and any exception that happen during thetransform in `preprocessing_exc_tuple` in IPython 7.17 and above.\n",
      "  and should_run_async(code)\n"
     ]
    },
    {
     "data": {
      "text/plain": "         user  movie  rate        time    year  grade_12세 관람가  grade_15세 관람가  \\\n137023  48423  10764    10  1212241560  1987.0              1              0   \n92868   17307  10170    10  1122185220  1985.0              0              0   \n94390   18180  10048    10  1573403460  2016.0              1              0   \n22289    1498  10001     9  1432684500  2013.0              0              0   \n80155   12541  10022    10  1370458140  1980.0              1              0   \n\n        grade_G  grade_NR  grade_PG  ...  범죄  서부  서사  스릴러  애니메이션  액션  에로  전쟁  \\\n137023        0         0         0  ...   0   0   0    0      0   0   0   0   \n92868         0         0         1  ...   0   0   0    0      0   1   0   0   \n94390         0         0         0  ...   0   0   0    0      0   0   0   0   \n22289         0         0         0  ...   0   0   0    0      0   0   0   0   \n80155         0         0         0  ...   0   0   0    0      0   1   0   0   \n\n        코미디  판타지  \n137023    0    0  \n92868     0    0  \n94390     0    0  \n22289     0    0  \n80155     0    0  \n\n[5 rows x 65 columns]",
      "text/html": "<div>\n<style scoped>\n    .dataframe tbody tr th:only-of-type {\n        vertical-align: middle;\n    }\n\n    .dataframe tbody tr th {\n        vertical-align: top;\n    }\n\n    .dataframe thead th {\n        text-align: right;\n    }\n</style>\n<table border=\"1\" class=\"dataframe\">\n  <thead>\n    <tr style=\"text-align: right;\">\n      <th></th>\n      <th>user</th>\n      <th>movie</th>\n      <th>rate</th>\n      <th>time</th>\n      <th>year</th>\n      <th>grade_12세 관람가</th>\n      <th>grade_15세 관람가</th>\n      <th>grade_G</th>\n      <th>grade_NR</th>\n      <th>grade_PG</th>\n      <th>...</th>\n      <th>범죄</th>\n      <th>서부</th>\n      <th>서사</th>\n      <th>스릴러</th>\n      <th>애니메이션</th>\n      <th>액션</th>\n      <th>에로</th>\n      <th>전쟁</th>\n      <th>코미디</th>\n      <th>판타지</th>\n    </tr>\n  </thead>\n  <tbody>\n    <tr>\n      <th>137023</th>\n      <td>48423</td>\n      <td>10764</td>\n      <td>10</td>\n      <td>1212241560</td>\n      <td>1987.0</td>\n      <td>1</td>\n      <td>0</td>\n      <td>0</td>\n      <td>0</td>\n      <td>0</td>\n      <td>...</td>\n      <td>0</td>\n      <td>0</td>\n      <td>0</td>\n      <td>0</td>\n      <td>0</td>\n      <td>0</td>\n      <td>0</td>\n      <td>0</td>\n      <td>0</td>\n      <td>0</td>\n    </tr>\n    <tr>\n      <th>92868</th>\n      <td>17307</td>\n      <td>10170</td>\n      <td>10</td>\n      <td>1122185220</td>\n      <td>1985.0</td>\n      <td>0</td>\n      <td>0</td>\n      <td>0</td>\n      <td>0</td>\n      <td>1</td>\n      <td>...</td>\n      <td>0</td>\n      <td>0</td>\n      <td>0</td>\n      <td>0</td>\n      <td>0</td>\n      <td>1</td>\n      <td>0</td>\n      <td>0</td>\n      <td>0</td>\n      <td>0</td>\n    </tr>\n    <tr>\n      <th>94390</th>\n      <td>18180</td>\n      <td>10048</td>\n      <td>10</td>\n      <td>1573403460</td>\n      <td>2016.0</td>\n      <td>1</td>\n      <td>0</td>\n      <td>0</td>\n      <td>0</td>\n      <td>0</td>\n      <td>...</td>\n      <td>0</td>\n      <td>0</td>\n      <td>0</td>\n      <td>0</td>\n      <td>0</td>\n      <td>0</td>\n      <td>0</td>\n      <td>0</td>\n      <td>0</td>\n      <td>0</td>\n    </tr>\n    <tr>\n      <th>22289</th>\n      <td>1498</td>\n      <td>10001</td>\n      <td>9</td>\n      <td>1432684500</td>\n      <td>2013.0</td>\n      <td>0</td>\n      <td>0</td>\n      <td>0</td>\n      <td>0</td>\n      <td>0</td>\n      <td>...</td>\n      <td>0</td>\n      <td>0</td>\n      <td>0</td>\n      <td>0</td>\n      <td>0</td>\n      <td>0</td>\n      <td>0</td>\n      <td>0</td>\n      <td>0</td>\n      <td>0</td>\n    </tr>\n    <tr>\n      <th>80155</th>\n      <td>12541</td>\n      <td>10022</td>\n      <td>10</td>\n      <td>1370458140</td>\n      <td>1980.0</td>\n      <td>1</td>\n      <td>0</td>\n      <td>0</td>\n      <td>0</td>\n      <td>0</td>\n      <td>...</td>\n      <td>0</td>\n      <td>0</td>\n      <td>0</td>\n      <td>0</td>\n      <td>0</td>\n      <td>1</td>\n      <td>0</td>\n      <td>0</td>\n      <td>0</td>\n      <td>0</td>\n    </tr>\n  </tbody>\n</table>\n<p>5 rows × 65 columns</p>\n</div>"
     },
     "execution_count": 42,
     "metadata": {},
     "output_type": "execute_result"
    }
   ],
   "source": [
    "train_df = pd.concat([train_df, train_grade_df, train_genres_df], axis=1)\n",
    "train_df.head()"
   ],
   "metadata": {
    "collapsed": false,
    "pycharm": {
     "name": "#%%\n"
    }
   }
  },
  {
   "cell_type": "code",
   "execution_count": 43,
   "outputs": [
    {
     "name": "stderr",
     "output_type": "stream",
     "text": [
      "C:\\ProgramData\\Anaconda3\\envs\\rc\\lib\\site-packages\\ipykernel\\ipkernel.py:287: DeprecationWarning: `should_run_async` will not call `transform_cell` automatically in the future. Please pass the result to `transformed_cell` argument and any exception that happen during thetransform in `preprocessing_exc_tuple` in IPython 7.17 and above.\n",
      "  and should_run_async(code)\n"
     ]
    },
    {
     "data": {
      "text/plain": "['SF',\n '가족',\n '공포',\n '느와르',\n '다큐멘터리',\n '드라마',\n '로맨스',\n '멜로',\n '모험',\n '뮤지컬',\n '미스터리',\n '범죄',\n '서부',\n '서사',\n '스릴러',\n '애니메이션',\n '액션',\n '에로',\n '전쟁',\n '코미디',\n '판타지',\n 'grade_12세 관람가',\n 'grade_15세 관람가',\n 'grade_G',\n 'grade_NR',\n 'grade_PG',\n 'grade_PG-13',\n 'grade_R',\n 'grade_전체 관람가',\n 'grade_청소년 관람불가']"
     },
     "execution_count": 43,
     "metadata": {},
     "output_type": "execute_result"
    }
   ],
   "source": [
    "wide_cols = list(dummy_genres_df.columns) + list(dummy_grade_df.columns)\n",
    "wide_cols"
   ],
   "metadata": {
    "collapsed": false,
    "pycharm": {
     "name": "#%%\n"
    }
   }
  },
  {
   "cell_type": "code",
   "execution_count": 28,
   "outputs": [
    {
     "name": "stdout",
     "output_type": "stream",
     "text": [
      "30\n",
      "['SF', '가족', '공포', '느와르', '다큐멘터리', '드라마', '로맨스', '멜로', '모험', '뮤지컬', '미스터리', '범죄', '서부', '서사', '스릴러', '애니메이션', '액션', '에로', '전쟁', '코미디', '판타지', 'grade_12세 관람가', 'grade_15세 관람가', 'grade_G', 'grade_NR', 'grade_PG', 'grade_PG-13', 'grade_R', 'grade_전체 관람가', 'grade_청소년 관람불가']\n"
     ]
    }
   ],
   "source": [
    "print(len(wide_cols))\n",
    "print(wide_cols)\n",
    "\n",
    "wide_cols = wide_cols[:3]"
   ],
   "metadata": {
    "collapsed": false,
    "pycharm": {
     "name": "#%%\n"
    }
   }
  },
  {
   "cell_type": "code",
   "execution_count": 29,
   "outputs": [
    {
     "data": {
      "text/plain": "['SF', '가족', '공포']"
     },
     "execution_count": 29,
     "metadata": {},
     "output_type": "execute_result"
    }
   ],
   "source": [
    "# wide_cols = ['genre', 'grade']\n",
    "# cross_cols = [('genre', 'grade')]\n",
    "wide_cols"
   ],
   "metadata": {
    "collapsed": false,
    "pycharm": {
     "name": "#%%\n"
    }
   }
  },
  {
   "cell_type": "code",
   "execution_count": 31,
   "outputs": [
    {
     "name": "stdout",
     "output_type": "stream",
     "text": [
      "[[('SF', 'SF'), ('가족', 'SF'), ('공포', 'SF')], [('SF', 'SF'), ('가족', 'SF'), ('공포', '가족')], [('SF', 'SF'), ('가족', 'SF'), ('공포', '공포')], [('SF', 'SF'), ('가족', '가족'), ('공포', 'SF')], [('SF', 'SF'), ('가족', '가족'), ('공포', '가족')], [('SF', 'SF'), ('가족', '가족'), ('공포', '공포')], [('SF', 'SF'), ('가족', '공포'), ('공포', 'SF')], [('SF', 'SF'), ('가족', '공포'), ('공포', '가족')], [('SF', 'SF'), ('가족', '공포'), ('공포', '공포')], [('SF', '가족'), ('가족', 'SF'), ('공포', 'SF')], [('SF', '가족'), ('가족', 'SF'), ('공포', '가족')], [('SF', '가족'), ('가족', 'SF'), ('공포', '공포')], [('SF', '가족'), ('가족', '가족'), ('공포', 'SF')], [('SF', '가족'), ('가족', '가족'), ('공포', '가족')], [('SF', '가족'), ('가족', '가족'), ('공포', '공포')], [('SF', '가족'), ('가족', '공포'), ('공포', 'SF')], [('SF', '가족'), ('가족', '공포'), ('공포', '가족')], [('SF', '가족'), ('가족', '공포'), ('공포', '공포')], [('SF', '공포'), ('가족', 'SF'), ('공포', 'SF')], [('SF', '공포'), ('가족', 'SF'), ('공포', '가족')], [('SF', '공포'), ('가족', 'SF'), ('공포', '공포')], [('SF', '공포'), ('가족', '가족'), ('공포', 'SF')], [('SF', '공포'), ('가족', '가족'), ('공포', '가족')], [('SF', '공포'), ('가족', '가족'), ('공포', '공포')], [('SF', '공포'), ('가족', '공포'), ('공포', 'SF')], [('SF', '공포'), ('가족', '공포'), ('공포', '가족')], [('SF', '공포'), ('가족', '공포'), ('공포', '공포')]]\n",
      "[('공포', 'SF'), ('가족', '공포'), ('SF', '가족'), ('가족', 'SF'), ('SF', '공포'), ('공포', '가족')]\n"
     ]
    }
   ],
   "source": [
    "import itertools\n",
    "from itertools import product\n",
    "unique_combinations = list(list(zip(wide_cols, element))\n",
    "                           for element in product(wide_cols, repeat = len(wide_cols)))\n",
    "\n",
    "print(unique_combinations)\n",
    "cross_cols = [item for sublist in unique_combinations for item in sublist]\n",
    "cross_cols = [x for x in cross_cols if x[0] != x[1]]\n",
    "cross_cols = list(set(cross_cols))\n",
    "print(cross_cols)"
   ],
   "metadata": {
    "collapsed": false,
    "pycharm": {
     "name": "#%%\n"
    }
   }
  },
  {
   "cell_type": "code",
   "execution_count": 32,
   "outputs": [
    {
     "name": "stdout",
     "output_type": "stream",
     "text": [
      "[('가족', 16), ('공포', 16), ('SF', 16)]\n",
      "['year']\n"
     ]
    }
   ],
   "source": [
    "# embed_cols = [('genre', 16),('grade', 16)]\n",
    "embed_cols = list(set([(x[0], 16) for x in cross_cols]))\n",
    "continuous_cols = ['year']\n",
    "\n",
    "print(embed_cols)\n",
    "print(continuous_cols)"
   ],
   "metadata": {
    "collapsed": false,
    "pycharm": {
     "name": "#%%\n"
    }
   }
  },
  {
   "cell_type": "code",
   "execution_count": 33,
   "outputs": [],
   "source": [
    "target = train_df['rate'].apply(lambda x: 1 if x > 9 else 0).values"
   ],
   "metadata": {
    "collapsed": false,
    "pycharm": {
     "name": "#%%\n"
    }
   }
  },
  {
   "cell_type": "code",
   "execution_count": 36,
   "outputs": [
    {
     "name": "stderr",
     "output_type": "stream",
     "text": [
      "C:\\ProgramData\\Anaconda3\\envs\\rc\\lib\\site-packages\\gensim\\similarities\\__init__.py:15: UserWarning: The gensim.similarities.levenshtein submodule is disabled, because the optional Levenshtein package <https://pypi.org/project/python-Levenshtein/> is unavailable. Install Levenhstein (e.g. `pip install python-Levenshtein`) to suppress this warning.\n",
      "  warnings.warn(msg)\n"
     ]
    },
    {
     "ename": "ImportError",
     "evalue": "cannot import name 'DensePreprocessor' from 'pytorch_widedeep.preprocessing' (C:\\ProgramData\\Anaconda3\\envs\\rc\\lib\\site-packages\\pytorch_widedeep\\preprocessing\\__init__.py)",
     "output_type": "error",
     "traceback": [
      "\u001B[1;31m---------------------------------------------------------------------------\u001B[0m",
      "\u001B[1;31mImportError\u001B[0m                               Traceback (most recent call last)",
      "\u001B[1;32m<ipython-input-36-f683bcdef646>\u001B[0m in \u001B[0;36m<module>\u001B[1;34m\u001B[0m\n\u001B[1;32m----> 1\u001B[1;33m \u001B[1;32mfrom\u001B[0m \u001B[0mpytorch_widedeep\u001B[0m\u001B[1;33m.\u001B[0m\u001B[0mpreprocessing\u001B[0m \u001B[1;32mimport\u001B[0m \u001B[0mWidePreprocessor\u001B[0m\u001B[1;33m,\u001B[0m \u001B[0mDensePreprocessor\u001B[0m\u001B[1;33m\u001B[0m\u001B[1;33m\u001B[0m\u001B[0m\n\u001B[0m\u001B[0;32m      2\u001B[0m \u001B[1;32mfrom\u001B[0m \u001B[0mpytorch_widedeep\u001B[0m\u001B[1;33m.\u001B[0m\u001B[0mmodels\u001B[0m \u001B[1;32mimport\u001B[0m \u001B[0mWide\u001B[0m\u001B[1;33m,\u001B[0m \u001B[0mDeepDense\u001B[0m\u001B[1;33m,\u001B[0m \u001B[0mWideDeep\u001B[0m\u001B[1;33m\u001B[0m\u001B[1;33m\u001B[0m\u001B[0m\n\u001B[0;32m      3\u001B[0m \u001B[1;32mfrom\u001B[0m \u001B[0mpytorch_widedeep\u001B[0m\u001B[1;33m.\u001B[0m\u001B[0mmetrics\u001B[0m \u001B[1;32mimport\u001B[0m \u001B[0mAccuracy\u001B[0m\u001B[1;33m\u001B[0m\u001B[1;33m\u001B[0m\u001B[0m\n\u001B[0;32m      4\u001B[0m \u001B[1;33m\u001B[0m\u001B[0m\n",
      "\u001B[1;31mImportError\u001B[0m: cannot import name 'DensePreprocessor' from 'pytorch_widedeep.preprocessing' (C:\\ProgramData\\Anaconda3\\envs\\rc\\lib\\site-packages\\pytorch_widedeep\\preprocessing\\__init__.py)"
     ]
    }
   ],
   "source": [
    "from pytorch_widedeep.preprocessing import WidePreprocessor, DensePreprocessor\n",
    "from pytorch_widedeep.models import Wide, DeepDense, WideDeep\n",
    "from pytorch_widedeep.metrics import Accuracy"
   ],
   "metadata": {
    "collapsed": false,
    "pycharm": {
     "name": "#%%\n"
    }
   }
  },
  {
   "cell_type": "code",
   "execution_count": null,
   "outputs": [],
   "source": [
    "preprocess_wide = WidePreprocessor(wide_cols=wide_cols, crossed_cols=cross_cols)\n",
    "X_wide = preprocess_wide.fit_transform(train_df)\n",
    "wide = Wide(wide_dim=np.unique(X_wide).shape[0], pred_dim=1)"
   ],
   "metadata": {
    "collapsed": false,
    "pycharm": {
     "name": "#%%\n"
    }
   }
  },
  {
   "cell_type": "code",
   "execution_count": null,
   "outputs": [],
   "source": [
    "X_wide.size"
   ],
   "metadata": {
    "collapsed": false,
    "pycharm": {
     "name": "#%%\n"
    }
   }
  },
  {
   "cell_type": "code",
   "execution_count": null,
   "outputs": [],
   "source": [
    "preprocess_deep = DensePreprocessor(embed_cols=embed_cols, continuous_cols=continuous_cols)\n",
    "X_deep = preprocess_deep.fit_transform(train_df)\n",
    "deepdense = DeepDense(\n",
    "    hidden_layers=[64, 32],\n",
    "    deep_column_idx=preprocess_deep.deep_column_idx,\n",
    "    embed_input=preprocess_deep.embeddings_input,\n",
    "    continuous_cols=continuous_cols,\n",
    ")"
   ],
   "metadata": {
    "collapsed": false,
    "pycharm": {
     "name": "#%%\n"
    }
   }
  },
  {
   "cell_type": "code",
   "execution_count": null,
   "outputs": [],
   "source": [
    "deepdense"
   ],
   "metadata": {
    "collapsed": false,
    "pycharm": {
     "name": "#%%\n"
    }
   }
  },
  {
   "cell_type": "code",
   "execution_count": null,
   "outputs": [],
   "source": [
    "# build, compile and fit\n",
    "model = WideDeep(wide=wide, deepdense=deepdense)\n",
    "model.compile(method=\"binary\", metrics=[Accuracy])\n",
    "model.fit(\n",
    "    X_wide=X_wide,\n",
    "    X_deep=X_deep,\n",
    "    target=target,\n",
    "    n_epochs=5,\n",
    "    batch_size=256,\n",
    "    val_split=0.1,\n",
    ")"
   ],
   "metadata": {
    "collapsed": false,
    "pycharm": {
     "name": "#%%\n"
    }
   }
  },
  {
   "cell_type": "code",
   "execution_count": null,
   "outputs": [],
   "source": [
    "X_deep.shape"
   ],
   "metadata": {
    "collapsed": false,
    "pycharm": {
     "name": "#%%\n"
    }
   }
  },
  {
   "cell_type": "code",
   "execution_count": null,
   "outputs": [],
   "source": [
    "X_wide.shape"
   ],
   "metadata": {
    "collapsed": false,
    "pycharm": {
     "name": "#%%\n"
    }
   }
  }
 ],
 "metadata": {
  "kernelspec": {
   "display_name": "Python 3",
   "language": "python",
   "name": "python3"
  },
  "language_info": {
   "codemirror_mode": {
    "name": "ipython",
    "version": 2
   },
   "file_extension": ".py",
   "mimetype": "text/x-python",
   "name": "python",
   "nbconvert_exporter": "python",
   "pygments_lexer": "ipython2",
   "version": "2.7.6"
  }
 },
 "nbformat": 4,
 "nbformat_minor": 0
}