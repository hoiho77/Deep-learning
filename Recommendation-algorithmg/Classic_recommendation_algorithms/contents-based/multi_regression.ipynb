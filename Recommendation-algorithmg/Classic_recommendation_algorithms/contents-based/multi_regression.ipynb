{
 "cells": [
  {
   "cell_type": "code",
   "execution_count": 2,
   "id": "improved-independence",
   "metadata": {},
   "outputs": [],
   "source": [
    "# 필요한 도구들을 가지고 오는 코드\n",
    "from sklearn.linear_model import LinearRegression\n",
    "from sklearn.model_selection import train_test_split"
   ]
  },
  {
   "cell_type": "code",
   "execution_count": 6,
   "id": "virgin-newfoundland",
   "metadata": {},
   "outputs": [],
   "source": [
    "import pandas as pd\n",
    "import numpy as np"
   ]
  },
  {
   "cell_type": "code",
   "execution_count": 7,
   "id": "lightweight-respect",
   "metadata": {},
   "outputs": [],
   "source": [
    "# 유저 평점 + 영화 속성 데이터 경로 정의\n",
    "MOVIE_DATA_PATH = './data/movie_rating.csv'"
   ]
  },
  {
   "cell_type": "code",
   "execution_count": 9,
   "id": "arranged-emerald",
   "metadata": {},
   "outputs": [
    {
     "data": {
      "text/html": [
       "<div>\n",
       "<style scoped>\n",
       "    .dataframe tbody tr th:only-of-type {\n",
       "        vertical-align: middle;\n",
       "    }\n",
       "\n",
       "    .dataframe tbody tr th {\n",
       "        vertical-align: top;\n",
       "    }\n",
       "\n",
       "    .dataframe thead th {\n",
       "        text-align: right;\n",
       "    }\n",
       "</style>\n",
       "<table border=\"1\" class=\"dataframe\">\n",
       "  <thead>\n",
       "    <tr style=\"text-align: right;\">\n",
       "      <th></th>\n",
       "      <th>romance</th>\n",
       "      <th>action</th>\n",
       "      <th>comedy</th>\n",
       "      <th>heart-warming</th>\n",
       "      <th>rating</th>\n",
       "    </tr>\n",
       "  </thead>\n",
       "  <tbody>\n",
       "    <tr>\n",
       "      <th>0</th>\n",
       "      <td>0.740458</td>\n",
       "      <td>0.733800</td>\n",
       "      <td>0.526879</td>\n",
       "      <td>0.332906</td>\n",
       "      <td>3.0</td>\n",
       "    </tr>\n",
       "    <tr>\n",
       "      <th>1</th>\n",
       "      <td>0.658391</td>\n",
       "      <td>0.825211</td>\n",
       "      <td>0.608177</td>\n",
       "      <td>0.906809</td>\n",
       "      <td>5.0</td>\n",
       "    </tr>\n",
       "    <tr>\n",
       "      <th>2</th>\n",
       "      <td>0.680250</td>\n",
       "      <td>0.401992</td>\n",
       "      <td>0.400964</td>\n",
       "      <td>0.535223</td>\n",
       "      <td>2.0</td>\n",
       "    </tr>\n",
       "    <tr>\n",
       "      <th>3</th>\n",
       "      <td>0.572216</td>\n",
       "      <td>0.312618</td>\n",
       "      <td>0.496313</td>\n",
       "      <td>0.319996</td>\n",
       "      <td>1.0</td>\n",
       "    </tr>\n",
       "    <tr>\n",
       "      <th>4</th>\n",
       "      <td>0.543545</td>\n",
       "      <td>0.623021</td>\n",
       "      <td>0.713110</td>\n",
       "      <td>0.696774</td>\n",
       "      <td>4.0</td>\n",
       "    </tr>\n",
       "  </tbody>\n",
       "</table>\n",
       "</div>"
      ],
      "text/plain": [
       "    romance    action    comedy  heart-warming  rating\n",
       "0  0.740458  0.733800  0.526879       0.332906     3.0\n",
       "1  0.658391  0.825211  0.608177       0.906809     5.0\n",
       "2  0.680250  0.401992  0.400964       0.535223     2.0\n",
       "3  0.572216  0.312618  0.496313       0.319996     1.0\n",
       "4  0.543545  0.623021  0.713110       0.696774     4.0"
      ]
     },
     "execution_count": 9,
     "metadata": {},
     "output_type": "execute_result"
    }
   ],
   "source": [
    "# pandas로 데이터 불러 오기\n",
    "movie_rating_df = pd.read_csv(MOVIE_DATA_PATH)\n",
    "movie_rating_df.head()"
   ]
  },
  {
   "cell_type": "code",
   "execution_count": 12,
   "id": "flying-freight",
   "metadata": {},
   "outputs": [
    {
     "data": {
      "text/plain": [
       "['romance', 'action', 'comedy', 'heart-warming']"
      ]
     },
     "execution_count": 12,
     "metadata": {},
     "output_type": "execute_result"
    }
   ],
   "source": [
    "features =movie_rating_df.columns.tolist()[:4] # 사용할 속성들 이름\n",
    "features"
   ]
  },
  {
   "cell_type": "code",
   "execution_count": 13,
   "id": "skilled-librarian",
   "metadata": {},
   "outputs": [],
   "source": [
    "# 입력 변수와 목표 변수 나누기\n",
    "X = movie_rating_df[features]\n",
    "y = movie_rating_df[['rating']]"
   ]
  },
  {
   "cell_type": "code",
   "execution_count": 23,
   "id": "aquatic-kingdom",
   "metadata": {},
   "outputs": [
    {
     "name": "stdout",
     "output_type": "stream",
     "text": [
      "0.8818261123698696,       0.8329209093894001,       [[0.16471631 3.32386378 2.52756215 1.95380968]],      [-1.53318247]\n"
     ]
    }
   ],
   "source": [
    "# 입력 변수와 목표 변수들을 각각의 training/test 셋으로 나누기\n",
    "X_train, X_test, y_train, y_test = train_test_split(X, y, test_size=0.2, random_state=5)\n",
    "\n",
    "# 다중 회귀 모델 적용\n",
    "lr = LinearRegression().fit(X_train, y_train)\n",
    "print(f\"{lr.score(X_train, y_train)}, \\\n",
    "      {lr.score(X_test, y_test)}, \\\n",
    "      {lr.coef_},\\\n",
    "      {lr.intercept_}\")"
   ]
  },
  {
   "cell_type": "code",
   "execution_count": 72,
   "id": "split-fourth",
   "metadata": {},
   "outputs": [
    {
     "data": {
      "text/plain": [
       "Int64Index([16, 13, 7], dtype='int64')"
      ]
     },
     "execution_count": 72,
     "metadata": {},
     "output_type": "execute_result"
    }
   ],
   "source": [
    "# top3 추천 아이템\n",
    "y_test_predict= lr.predict(X_test)\n",
    "pd.DataFrame(y_test_predict).sort_values(by=[0], ascending=False).index[:3]"
   ]
  },
  {
   "cell_type": "code",
   "execution_count": null,
   "id": "fantastic-innocent",
   "metadata": {},
   "outputs": [],
   "source": []
  }
 ],
 "metadata": {
  "kernelspec": {
   "display_name": "Python 3",
   "language": "python",
   "name": "python3"
  },
  "language_info": {
   "codemirror_mode": {
    "name": "ipython",
    "version": 3
   },
   "file_extension": ".py",
   "mimetype": "text/x-python",
   "name": "python",
   "nbconvert_exporter": "python",
   "pygments_lexer": "ipython3",
   "version": "3.6.12"
  }
 },
 "nbformat": 4,
 "nbformat_minor": 5
}