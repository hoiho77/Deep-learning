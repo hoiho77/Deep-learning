{
 "cells": [
  {
   "cell_type": "code",
   "execution_count": 24,
   "outputs": [],
   "source": [
    "# 라이브러리 불러오기\n",
    "'''메인 라이브러리'''\n",
    "import numpy as np\n",
    "import pandas as pd\n",
    "import os, time, re\n",
    "import pickle, gzip, datetime\n",
    "from datetime import datetime\n",
    "\n",
    "'''시각화 관련 라이브러리'''\n",
    "import matplotlib.pyplot as plt\n",
    "import seaborn as sns\n",
    "color = sns.color_palette()\n",
    "import matplotlib as mpl\n",
    "\n",
    "%matplotlib inline\n",
    "\n",
    "'''데이터 준비 및 모델 평가 관련 라이브러리'''\n",
    "from sklearn import preprocessing as pp\n",
    "from sklearn.model_selection import train_test_split\n",
    "from sklearn.model_selection import StratifiedKFold\n",
    "from sklearn.metrics import log_loss\n",
    "from sklearn.metrics import precision_recall_curve, average_precision_score\n",
    "from sklearn.metrics import roc_curve, auc, roc_auc_score, mean_squared_error\n",
    "\n",
    "'''알고리즘 관련 라이브러리'''\n",
    "import lightgbm as lgb\n",
    "\n",
    "'''텐서플로 및 케라스 관련 라이브러리'''\n",
    "import tensorflow as tf\n",
    "import keras\n",
    "from keras import backend as K\n",
    "from keras.models import Sequential, Model\n",
    "from keras.layers import Activation, Dense, Dropout\n",
    "from keras.layers import BatchNormalization, Input, Lambda\n",
    "from keras.layers import Embedding, Flatten, dot\n",
    "from keras import regularizers\n",
    "from keras.losses import mse, binary_crossentropy\n"
   ],
   "metadata": {
    "collapsed": false,
    "pycharm": {
     "name": "#%%\n"
    }
   }
  },
  {
   "cell_type": "code",
   "execution_count": 25,
   "outputs": [
    {
     "data": {
      "text/plain": "   userId  movieId  rating   timestamp\n0       1        2     3.5  1112486027\n1       1       29     3.5  1112484676\n2       1       32     3.5  1112484819\n3       1       47     3.5  1112484727\n4       1       50     3.5  1112484580",
      "text/html": "<div>\n<style scoped>\n    .dataframe tbody tr th:only-of-type {\n        vertical-align: middle;\n    }\n\n    .dataframe tbody tr th {\n        vertical-align: top;\n    }\n\n    .dataframe thead th {\n        text-align: right;\n    }\n</style>\n<table border=\"1\" class=\"dataframe\">\n  <thead>\n    <tr style=\"text-align: right;\">\n      <th></th>\n      <th>userId</th>\n      <th>movieId</th>\n      <th>rating</th>\n      <th>timestamp</th>\n    </tr>\n  </thead>\n  <tbody>\n    <tr>\n      <th>0</th>\n      <td>1</td>\n      <td>2</td>\n      <td>3.5</td>\n      <td>1112486027</td>\n    </tr>\n    <tr>\n      <th>1</th>\n      <td>1</td>\n      <td>29</td>\n      <td>3.5</td>\n      <td>1112484676</td>\n    </tr>\n    <tr>\n      <th>2</th>\n      <td>1</td>\n      <td>32</td>\n      <td>3.5</td>\n      <td>1112484819</td>\n    </tr>\n    <tr>\n      <th>3</th>\n      <td>1</td>\n      <td>47</td>\n      <td>3.5</td>\n      <td>1112484727</td>\n    </tr>\n    <tr>\n      <th>4</th>\n      <td>1</td>\n      <td>50</td>\n      <td>3.5</td>\n      <td>1112484580</td>\n    </tr>\n  </tbody>\n</table>\n</div>"
     },
     "execution_count": 25,
     "metadata": {},
     "output_type": "execute_result"
    }
   ],
   "source": [
    "'''\n",
    "무비렌즈 데이터 셋\n",
    "20,000,263 평점\n",
    "27,278 영화\n",
    "138,493 사용자\n",
    "'''\n",
    "path = 'C:\\\\Users\\\\kt NexR\\\\PycharmProjects\\\\Recommendation-algorithms\\\\Deep Learning_recommendation\\\\data\\\\movie-lens'\n",
    "ratingDF = pd.read_csv(path + '\\\\ratings.csv', encoding='utf-8')\n",
    "ratingDF.head()"
   ],
   "metadata": {
    "collapsed": false,
    "pycharm": {
     "name": "#%%\n"
    }
   }
  },
  {
   "cell_type": "code",
   "execution_count": 26,
   "outputs": [
    {
     "name": "stdout",
     "output_type": "stream",
     "text": [
      "<class 'pandas.core.frame.DataFrame'>\n",
      "RangeIndex: 20000263 entries, 0 to 20000262\n",
      "Data columns (total 4 columns):\n",
      " #   Column     Dtype  \n",
      "---  ------     -----  \n",
      " 0   userId     int64  \n",
      " 1   movieId    int64  \n",
      " 2   rating     float64\n",
      " 3   timestamp  int64  \n",
      "dtypes: float64(1), int64(3)\n",
      "memory usage: 610.4 MB\n"
     ]
    }
   ],
   "source": [
    "ratingDF.info()"
   ],
   "metadata": {
    "collapsed": false,
    "pycharm": {
     "name": "#%%\n"
    }
   }
  },
  {
   "cell_type": "code",
   "execution_count": 27,
   "outputs": [],
   "source": [
    "ratingDF.userId = ratingDF.userId.astype(str).astype(int)\n",
    "ratingDF.movieId = ratingDF.movieId.astype(str).astype(int)\n",
    "ratingDF.rating = ratingDF.rating.astype(str).astype(float)\n",
    "ratingDF.timestamp = ratingDF.timestamp.apply(lambda x: \\\n",
    "                    datetime.utcfromtimestamp(x).strftime('%Y-%m-%d %H:%M:%S'))"
   ],
   "metadata": {
    "collapsed": false,
    "pycharm": {
     "name": "#%%\n"
    }
   }
  },
  {
   "cell_type": "code",
   "execution_count": 28,
   "outputs": [
    {
     "data": {
      "text/plain": "             userId       movieId        rating\ncount  2.000026e+07  2.000026e+07  2.000026e+07\nmean   6.904587e+04  9.041567e+03  3.525529e+00\nstd    4.003863e+04  1.978948e+04  1.051989e+00\nmin    1.000000e+00  1.000000e+00  5.000000e-01\n25%    3.439500e+04  9.020000e+02  3.000000e+00\n50%    6.914100e+04  2.167000e+03  3.500000e+00\n75%    1.036370e+05  4.770000e+03  4.000000e+00\nmax    1.384930e+05  1.312620e+05  5.000000e+00",
      "text/html": "<div>\n<style scoped>\n    .dataframe tbody tr th:only-of-type {\n        vertical-align: middle;\n    }\n\n    .dataframe tbody tr th {\n        vertical-align: top;\n    }\n\n    .dataframe thead th {\n        text-align: right;\n    }\n</style>\n<table border=\"1\" class=\"dataframe\">\n  <thead>\n    <tr style=\"text-align: right;\">\n      <th></th>\n      <th>userId</th>\n      <th>movieId</th>\n      <th>rating</th>\n    </tr>\n  </thead>\n  <tbody>\n    <tr>\n      <th>count</th>\n      <td>2.000026e+07</td>\n      <td>2.000026e+07</td>\n      <td>2.000026e+07</td>\n    </tr>\n    <tr>\n      <th>mean</th>\n      <td>6.904587e+04</td>\n      <td>9.041567e+03</td>\n      <td>3.525529e+00</td>\n    </tr>\n    <tr>\n      <th>std</th>\n      <td>4.003863e+04</td>\n      <td>1.978948e+04</td>\n      <td>1.051989e+00</td>\n    </tr>\n    <tr>\n      <th>min</th>\n      <td>1.000000e+00</td>\n      <td>1.000000e+00</td>\n      <td>5.000000e-01</td>\n    </tr>\n    <tr>\n      <th>25%</th>\n      <td>3.439500e+04</td>\n      <td>9.020000e+02</td>\n      <td>3.000000e+00</td>\n    </tr>\n    <tr>\n      <th>50%</th>\n      <td>6.914100e+04</td>\n      <td>2.167000e+03</td>\n      <td>3.500000e+00</td>\n    </tr>\n    <tr>\n      <th>75%</th>\n      <td>1.036370e+05</td>\n      <td>4.770000e+03</td>\n      <td>4.000000e+00</td>\n    </tr>\n    <tr>\n      <th>max</th>\n      <td>1.384930e+05</td>\n      <td>1.312620e+05</td>\n      <td>5.000000e+00</td>\n    </tr>\n  </tbody>\n</table>\n</div>"
     },
     "execution_count": 28,
     "metadata": {},
     "output_type": "execute_result"
    }
   ],
   "source": [
    "ratingDF.describe()"
   ],
   "metadata": {
    "collapsed": false,
    "pycharm": {
     "name": "#%%\n"
    }
   }
  },
  {
   "cell_type": "code",
   "execution_count": 29,
   "outputs": [],
   "source": [
    "# 향후 더 빠른 로딩을 위해 데이터 프레임을 피클로 저장\n",
    "current_path = \"C:\\\\Users\\\\kt NexR\\\\PycharmProjects\\\\Recommendation-algorithms\\\\Deep Learning_recommendation\"\n",
    "pickle_file = os.path.sep.join(['','datasets'])\n",
    "file_path = current_path+pickle_file\n",
    "if not os.path.exists(file_path):\n",
    "    os.mkdir(file_path)\n",
    "ratingDF.to_pickle(file_path+'ratingPickle.pkl')"
   ],
   "metadata": {
    "collapsed": false,
    "pycharm": {
     "name": "#%%\n"
    }
   }
  },
  {
   "cell_type": "code",
   "execution_count": 30,
   "outputs": [
    {
     "name": "stdout",
     "output_type": "stream",
     "text": [
      "<class 'pandas.core.frame.DataFrame'>\n",
      "RangeIndex: 20000263 entries, 0 to 20000262\n",
      "Data columns (total 4 columns):\n",
      " #   Column     Dtype  \n",
      "---  ------     -----  \n",
      " 0   userId     int32  \n",
      " 1   movieId    int32  \n",
      " 2   rating     float64\n",
      " 3   timestamp  object \n",
      "dtypes: float64(1), int32(2), object(1)\n",
      "memory usage: 457.8+ MB\n"
     ]
    }
   ],
   "source": [
    "#다시 받아오기 pickle\n",
    "data = pd.read_pickle(file_path+'ratingPickle.pkl')\n",
    "data.info()"
   ],
   "metadata": {
    "collapsed": false,
    "pycharm": {
     "name": "#%%\n"
    }
   }
  },
  {
   "cell_type": "code",
   "execution_count": 31,
   "outputs": [
    {
     "name": "stdout",
     "output_type": "stream",
     "text": [
      "Number of unique users:  138493\n",
      "Number of unique movies:  26744\n",
      "Number of total ratings:  20000263\n",
      "Average number of ratings per user:  144.4135299257002\n"
     ]
    }
   ],
   "source": [
    "n_users = ratingDF.userId.unique().shape[0]\n",
    "n_movies = ratingDF.movieId.unique().shape[0]\n",
    "n_ratings = len(ratingDF)\n",
    "avg_ratings_per_user = n_ratings/n_users\n",
    "\n",
    "print('Number of unique users: ', n_users)\n",
    "print('Number of unique movies: ', n_movies)\n",
    "print('Number of total ratings: ', n_ratings)\n",
    "print('Average number of ratings per user: ', avg_ratings_per_user)"
   ],
   "metadata": {
    "collapsed": false,
    "pycharm": {
     "name": "#%%\n"
    }
   }
  },
  {
   "cell_type": "code",
   "execution_count": 32,
   "outputs": [
    {
     "data": {
      "text/plain": "userId       12840344\nmovieId      12840344\nrating       12840344\ntimestamp    12840344\ndtype: int64"
     },
     "execution_count": 32,
     "metadata": {},
     "output_type": "execute_result"
    }
   ],
   "source": [
    "# 상위 1000개 영화 추출로 데이터 셋 크기 축소\n",
    "movieIndex = ratingDF.groupby('movieId').count().sort_values(by='rating', ascending = False)[0:1000].index\n",
    "ratingDFX2 = ratingDF[ratingDF.movieId.isin(movieIndex)]\n",
    "ratingDFX2.count()"
   ],
   "metadata": {
    "collapsed": false,
    "pycharm": {
     "name": "#%%\n"
    }
   }
  },
  {
   "cell_type": "code",
   "execution_count": 33,
   "outputs": [
    {
     "data": {
      "text/plain": "userId       90990\nmovieId      90990\nrating       90990\ntimestamp    90990\ndtype: int64"
     },
     "execution_count": 33,
     "metadata": {},
     "output_type": "execute_result"
    }
   ],
   "source": [
    "# 사용자 1000명 샘플링으로 데이터 셋 크기 축소\n",
    "userIndex = ratingDFX2.groupby('userId').count().sort_values(by='rating', ascending=False)[0:1000].index\n",
    "ratingDFX3 = ratingDFX2[ratingDFX2.movieId.isin(userIndex)]\n",
    "ratingDFX3.count()"
   ],
   "metadata": {
    "collapsed": false,
    "pycharm": {
     "name": "#%%\n"
    }
   }
  },
  {
   "cell_type": "code",
   "execution_count": 11,
   "outputs": [
    {
     "data": {
      "text/plain": "   originalMovieId  newMovieId\n0             2657           1\n1              586           2\n2              741           3\n3             2232           4\n4              903           5",
      "text/html": "<div>\n<style scoped>\n    .dataframe tbody tr th:only-of-type {\n        vertical-align: middle;\n    }\n\n    .dataframe tbody tr th {\n        vertical-align: top;\n    }\n\n    .dataframe thead th {\n        text-align: right;\n    }\n</style>\n<table border=\"1\" class=\"dataframe\">\n  <thead>\n    <tr style=\"text-align: right;\">\n      <th></th>\n      <th>originalMovieId</th>\n      <th>newMovieId</th>\n    </tr>\n  </thead>\n  <tbody>\n    <tr>\n      <th>0</th>\n      <td>2657</td>\n      <td>1</td>\n    </tr>\n    <tr>\n      <th>1</th>\n      <td>586</td>\n      <td>2</td>\n    </tr>\n    <tr>\n      <th>2</th>\n      <td>741</td>\n      <td>3</td>\n    </tr>\n    <tr>\n      <th>3</th>\n      <td>2232</td>\n      <td>4</td>\n    </tr>\n    <tr>\n      <th>4</th>\n      <td>903</td>\n      <td>5</td>\n    </tr>\n  </tbody>\n</table>\n</div>"
     },
     "execution_count": 11,
     "metadata": {},
     "output_type": "execute_result"
    }
   ],
   "source": [
    "# 영화 ID 다시 인덱싱\n",
    "movies = ratingDFX3.movieId.unique()\n",
    "moviesDF = pd.DataFrame(data=movies,columns=['originalMovieId'])\n",
    "moviesDF['newMovieId'] = moviesDF.index+1\n",
    "moviesDF.head()"
   ],
   "metadata": {
    "collapsed": false,
    "pycharm": {
     "name": "#%%\n"
    }
   }
  },
  {
   "cell_type": "code",
   "execution_count": 12,
   "outputs": [],
   "source": [
    "# 사용자 ID 다시 인덱싱\n",
    "users = ratingDFX3.userId.unique()\n",
    "usersDF = pd.DataFrame(data=users, columns=['originalUserId'])\n",
    "moviesDF['newUserId'] = moviesDF.index+1"
   ],
   "metadata": {
    "collapsed": false,
    "pycharm": {
     "name": "#%%\n"
    }
   }
  },
  {
   "cell_type": "code",
   "execution_count": 13,
   "outputs": [
    {
     "data": {
      "text/plain": "      userId  movieId  rating            timestamp\n391        3     2657     3.0  1999-12-14 12:48:50\n446        4      586     4.0  1996-08-24 09:30:38\n692        7     2657     2.0  2002-01-16 18:50:19\n954       10     2657     4.0  1999-11-25 02:45:34\n1005      11      586     4.0  2009-01-02 01:17:07",
      "text/html": "<div>\n<style scoped>\n    .dataframe tbody tr th:only-of-type {\n        vertical-align: middle;\n    }\n\n    .dataframe tbody tr th {\n        vertical-align: top;\n    }\n\n    .dataframe thead th {\n        text-align: right;\n    }\n</style>\n<table border=\"1\" class=\"dataframe\">\n  <thead>\n    <tr style=\"text-align: right;\">\n      <th></th>\n      <th>userId</th>\n      <th>movieId</th>\n      <th>rating</th>\n      <th>timestamp</th>\n    </tr>\n  </thead>\n  <tbody>\n    <tr>\n      <th>391</th>\n      <td>3</td>\n      <td>2657</td>\n      <td>3.0</td>\n      <td>1999-12-14 12:48:50</td>\n    </tr>\n    <tr>\n      <th>446</th>\n      <td>4</td>\n      <td>586</td>\n      <td>4.0</td>\n      <td>1996-08-24 09:30:38</td>\n    </tr>\n    <tr>\n      <th>692</th>\n      <td>7</td>\n      <td>2657</td>\n      <td>2.0</td>\n      <td>2002-01-16 18:50:19</td>\n    </tr>\n    <tr>\n      <th>954</th>\n      <td>10</td>\n      <td>2657</td>\n      <td>4.0</td>\n      <td>1999-11-25 02:45:34</td>\n    </tr>\n    <tr>\n      <th>1005</th>\n      <td>11</td>\n      <td>586</td>\n      <td>4.0</td>\n      <td>2009-01-02 01:17:07</td>\n    </tr>\n  </tbody>\n</table>\n</div>"
     },
     "execution_count": 13,
     "metadata": {},
     "output_type": "execute_result"
    }
   ],
   "source": [
    "ratingDFX3.head()"
   ],
   "metadata": {
    "collapsed": false,
    "pycharm": {
     "name": "#%%\n"
    }
   }
  },
  {
   "cell_type": "code",
   "execution_count": 14,
   "outputs": [
    {
     "data": {
      "text/plain": "   userId  movieId  rating            timestamp  newMovieId  newUserId\n0       3     2657     3.0  1999-12-14 12:48:50           1          1\n1       7     2657     2.0  2002-01-16 18:50:19           1          1\n2      10     2657     4.0  1999-11-25 02:45:34           1          1\n3      72     2657     3.0  2007-12-31 02:05:34           1          1\n4      72      586     2.0  2007-12-31 01:58:51           2          2",
      "text/html": "<div>\n<style scoped>\n    .dataframe tbody tr th:only-of-type {\n        vertical-align: middle;\n    }\n\n    .dataframe tbody tr th {\n        vertical-align: top;\n    }\n\n    .dataframe thead th {\n        text-align: right;\n    }\n</style>\n<table border=\"1\" class=\"dataframe\">\n  <thead>\n    <tr style=\"text-align: right;\">\n      <th></th>\n      <th>userId</th>\n      <th>movieId</th>\n      <th>rating</th>\n      <th>timestamp</th>\n      <th>newMovieId</th>\n      <th>newUserId</th>\n    </tr>\n  </thead>\n  <tbody>\n    <tr>\n      <th>0</th>\n      <td>3</td>\n      <td>2657</td>\n      <td>3.0</td>\n      <td>1999-12-14 12:48:50</td>\n      <td>1</td>\n      <td>1</td>\n    </tr>\n    <tr>\n      <th>1</th>\n      <td>7</td>\n      <td>2657</td>\n      <td>2.0</td>\n      <td>2002-01-16 18:50:19</td>\n      <td>1</td>\n      <td>1</td>\n    </tr>\n    <tr>\n      <th>2</th>\n      <td>10</td>\n      <td>2657</td>\n      <td>4.0</td>\n      <td>1999-11-25 02:45:34</td>\n      <td>1</td>\n      <td>1</td>\n    </tr>\n    <tr>\n      <th>3</th>\n      <td>72</td>\n      <td>2657</td>\n      <td>3.0</td>\n      <td>2007-12-31 02:05:34</td>\n      <td>1</td>\n      <td>1</td>\n    </tr>\n    <tr>\n      <th>4</th>\n      <td>72</td>\n      <td>586</td>\n      <td>2.0</td>\n      <td>2007-12-31 01:58:51</td>\n      <td>2</td>\n      <td>2</td>\n    </tr>\n  </tbody>\n</table>\n</div>"
     },
     "execution_count": 14,
     "metadata": {},
     "output_type": "execute_result"
    }
   ],
   "source": [
    "# 새롭게 병합된 데이터프레임 생성\n",
    "ratingDFX3 = ratingDFX3.merge(moviesDF,left_on='movieId', \\\n",
    "                              right_on='originalMovieId')\n",
    "ratingDFX3.drop(labels='originalMovieId', axis=1, inplace=True)\n",
    "ratingDFX3 = ratingDFX3.merge(usersDF,left_on='userId', \\\n",
    "                              right_on='originalUserId')\n",
    "ratingDFX3.drop(labels='originalUserId', axis=1, inplace=True)\n",
    "ratingDFX3.head()"
   ],
   "metadata": {
    "collapsed": false,
    "pycharm": {
     "name": "#%%\n"
    }
   }
  },
  {
   "cell_type": "code",
   "execution_count": 16,
   "outputs": [],
   "source": [
    "pickle_file = os.path.sep.join(['', 'datasets', 'ratingReducedPickle'])\n",
    "ratingDFX3.to_pickle(current_path + pickle_file)\n",
    "ratingDFX3 = pd.read_pickle(current_path + pickle_file)"
   ],
   "metadata": {
    "collapsed": false,
    "pycharm": {
     "name": "#%%\n"
    }
   }
  },
  {
   "cell_type": "code",
   "execution_count": 17,
   "outputs": [
    {
     "data": {
      "text/plain": "   userId  movieId  rating            timestamp  newMovieId  newUserId\n0       3     2657     3.0  1999-12-14 12:48:50           1          1\n1       7     2657     2.0  2002-01-16 18:50:19           1          1\n2      10     2657     4.0  1999-11-25 02:45:34           1          1\n3      72     2657     3.0  2007-12-31 02:05:34           1          1\n4      72      586     2.0  2007-12-31 01:58:51           2          2",
      "text/html": "<div>\n<style scoped>\n    .dataframe tbody tr th:only-of-type {\n        vertical-align: middle;\n    }\n\n    .dataframe tbody tr th {\n        vertical-align: top;\n    }\n\n    .dataframe thead th {\n        text-align: right;\n    }\n</style>\n<table border=\"1\" class=\"dataframe\">\n  <thead>\n    <tr style=\"text-align: right;\">\n      <th></th>\n      <th>userId</th>\n      <th>movieId</th>\n      <th>rating</th>\n      <th>timestamp</th>\n      <th>newMovieId</th>\n      <th>newUserId</th>\n    </tr>\n  </thead>\n  <tbody>\n    <tr>\n      <th>0</th>\n      <td>3</td>\n      <td>2657</td>\n      <td>3.0</td>\n      <td>1999-12-14 12:48:50</td>\n      <td>1</td>\n      <td>1</td>\n    </tr>\n    <tr>\n      <th>1</th>\n      <td>7</td>\n      <td>2657</td>\n      <td>2.0</td>\n      <td>2002-01-16 18:50:19</td>\n      <td>1</td>\n      <td>1</td>\n    </tr>\n    <tr>\n      <th>2</th>\n      <td>10</td>\n      <td>2657</td>\n      <td>4.0</td>\n      <td>1999-11-25 02:45:34</td>\n      <td>1</td>\n      <td>1</td>\n    </tr>\n    <tr>\n      <th>3</th>\n      <td>72</td>\n      <td>2657</td>\n      <td>3.0</td>\n      <td>2007-12-31 02:05:34</td>\n      <td>1</td>\n      <td>1</td>\n    </tr>\n    <tr>\n      <th>4</th>\n      <td>72</td>\n      <td>586</td>\n      <td>2.0</td>\n      <td>2007-12-31 01:58:51</td>\n      <td>2</td>\n      <td>2</td>\n    </tr>\n  </tbody>\n</table>\n</div>"
     },
     "execution_count": 17,
     "metadata": {},
     "output_type": "execute_result"
    }
   ],
   "source": [
    "ratingDFX3.head()"
   ],
   "metadata": {
    "collapsed": false,
    "pycharm": {
     "name": "#%%\n"
    }
   }
  },
  {
   "cell_type": "code",
   "execution_count": 21,
   "outputs": [
    {
     "name": "stdout",
     "output_type": "stream",
     "text": [
      "Number of unique users:  54751\n",
      "Number of unique movies:  8\n",
      "Number of total ratings:  90990\n",
      "Average number of ratings per user:  1.6618874541104272\n"
     ]
    }
   ],
   "source": [
    "n_users = ratingDFX3.userId.unique().shape[0]\n",
    "n_movies = ratingDFX3.movieId.unique().shape[0]\n",
    "n_ratings = len(ratingDFX3)\n",
    "avg_ratings_per_user = n_ratings/n_users\n",
    "\n",
    "print('Number of unique users: ', n_users)\n",
    "print('Number of unique movies: ', n_movies)\n",
    "print('Number of total ratings: ', n_ratings)\n",
    "print('Average number of ratings per user: ', avg_ratings_per_user)"
   ],
   "metadata": {
    "collapsed": false,
    "pycharm": {
     "name": "#%%\n"
    }
   }
  },
  {
   "cell_type": "code",
   "execution_count": 18,
   "outputs": [],
   "source": [],
   "metadata": {
    "collapsed": false,
    "pycharm": {
     "name": "#%%\n"
    }
   }
  },
  {
   "cell_type": "code",
   "execution_count": 18,
   "outputs": [],
   "source": [],
   "metadata": {
    "collapsed": false,
    "pycharm": {
     "name": "#%%\n"
    }
   }
  },
  {
   "cell_type": "code",
   "execution_count": 18,
   "outputs": [],
   "source": [],
   "metadata": {
    "collapsed": false,
    "pycharm": {
     "name": "#%%\n"
    }
   }
  },
  {
   "cell_type": "code",
   "execution_count": 18,
   "outputs": [],
   "source": [],
   "metadata": {
    "collapsed": false,
    "pycharm": {
     "name": "#%%\n"
    }
   }
  },
  {
   "cell_type": "code",
   "execution_count": null,
   "outputs": [],
   "source": [],
   "metadata": {
    "collapsed": false,
    "pycharm": {
     "name": "#%%\n"
    }
   }
  }
 ],
 "metadata": {
  "kernelspec": {
   "name": "conda-env-rc-py",
   "language": "python",
   "display_name": "Python [conda env:rc] *"
  },
  "language_info": {
   "codemirror_mode": {
    "name": "ipython",
    "version": 2
   },
   "file_extension": ".py",
   "mimetype": "text/x-python",
   "name": "python",
   "nbconvert_exporter": "python",
   "pygments_lexer": "ipython2",
   "version": "2.7.6"
  }
 },
 "nbformat": 4,
 "nbformat_minor": 0
}